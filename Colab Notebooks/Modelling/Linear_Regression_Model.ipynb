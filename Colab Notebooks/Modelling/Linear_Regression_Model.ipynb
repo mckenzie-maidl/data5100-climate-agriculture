{
  "cells": [
    {
      "cell_type": "code",
      "execution_count": 25,
      "metadata": {
        "id": "5s-_55RO4eiv"
      },
      "outputs": [],
      "source": [
        "import pandas as pd\n",
        "import numpy as np\n",
        "import matplotlib.pyplot as plt\n",
        "import seaborn as sns \n",
        "\n",
        "#sklearn linear, preprocessing and random forest stuff\n",
        "from sklearn import preprocessing, svm\n",
        "from sklearn.metrics import mean_squared_error, mean_absolute_error\n",
        "from sklearn.model_selection import train_test_split\n",
        "from sklearn.linear_model import LinearRegression\n",
        "from scipy.stats import uniform, randint\n",
        "from sklearn.metrics import r2_score\n",
        "from scipy.stats import uniform, randint\n",
        "from sklearn.ensemble import RandomForestClassifier\n",
        "from sklearn.model_selection import train_test_split, RandomizedSearchCV\n",
        "from statsmodels.tools.eval_measures import rmse\n",
        "\n",
        "#statsmodel api\n",
        "import statsmodels.api as sm"
      ]
    },
    {
      "cell_type": "markdown",
      "metadata": {
        "id": "ULViym3MnHey"
      },
      "source": [
        "## Load Apples"
      ]
    },
    {
      "cell_type": "code",
      "execution_count": 26,
      "metadata": {
        "id": "BKXpUqL64dWx"
      },
      "outputs": [],
      "source": [
        "apples = pd.read_csv('https://raw.githubusercontent.com/mckenzie-maidl/data5100-climate-agriculture/main/Cleaned%20Data/WA_apples_1889_2021.csv')"
      ]
    },
    {
      "cell_type": "code",
      "execution_count": 27,
      "metadata": {
        "colab": {
          "base_uri": "https://localhost:8080/",
          "height": 287
        },
        "id": "kDrfD5tnlwku",
        "outputId": "91363587-9eff-466a-e0ea-55b2fe3027ab"
      },
      "outputs": [
        {
          "output_type": "execute_result",
          "data": {
            "text/plain": [
              "   Unnamed: 0  year geo_level       state  yield_acre_lbs  bearing_acre  \\\n",
              "0           1  2021     STATE  WASHINGTON         39300.0      172000.0   \n",
              "1           2  2020     STATE  WASHINGTON         39500.0      175000.0   \n",
              "2           3  2019     STATE  WASHINGTON         44200.0      172000.0   \n",
              "3           4  2018     STATE  WASHINGTON         39400.0      170000.0   \n",
              "4           5  2017     STATE  WASHINGTON         45500.0      165000.0   \n",
              "\n",
              "   total_production_lbs  utilized_production_lbs  avg_price_pound_dollars  \\\n",
              "0            6760000000               6489600000                    0.337   \n",
              "1            6915000000               6569300000                    0.319   \n",
              "2            7600000000               7220000000                    0.271   \n",
              "3            6700000000               6365000000                    0.336   \n",
              "4            7500000000               7200000000                    0.338   \n",
              "\n",
              "   value_utilized_production_dollars  \n",
              "0                       2.185373e+09  \n",
              "1                       2.095265e+09  \n",
              "2                       1.958900e+09  \n",
              "3                       2.140650e+09  \n",
              "4                       2.430353e+09  "
            ],
            "text/html": [
              "\n",
              "  <div id=\"df-abfe6c74-6359-442f-954d-c8f6d54f1159\">\n",
              "    <div class=\"colab-df-container\">\n",
              "      <div>\n",
              "<style scoped>\n",
              "    .dataframe tbody tr th:only-of-type {\n",
              "        vertical-align: middle;\n",
              "    }\n",
              "\n",
              "    .dataframe tbody tr th {\n",
              "        vertical-align: top;\n",
              "    }\n",
              "\n",
              "    .dataframe thead th {\n",
              "        text-align: right;\n",
              "    }\n",
              "</style>\n",
              "<table border=\"1\" class=\"dataframe\">\n",
              "  <thead>\n",
              "    <tr style=\"text-align: right;\">\n",
              "      <th></th>\n",
              "      <th>Unnamed: 0</th>\n",
              "      <th>year</th>\n",
              "      <th>geo_level</th>\n",
              "      <th>state</th>\n",
              "      <th>yield_acre_lbs</th>\n",
              "      <th>bearing_acre</th>\n",
              "      <th>total_production_lbs</th>\n",
              "      <th>utilized_production_lbs</th>\n",
              "      <th>avg_price_pound_dollars</th>\n",
              "      <th>value_utilized_production_dollars</th>\n",
              "    </tr>\n",
              "  </thead>\n",
              "  <tbody>\n",
              "    <tr>\n",
              "      <th>0</th>\n",
              "      <td>1</td>\n",
              "      <td>2021</td>\n",
              "      <td>STATE</td>\n",
              "      <td>WASHINGTON</td>\n",
              "      <td>39300.0</td>\n",
              "      <td>172000.0</td>\n",
              "      <td>6760000000</td>\n",
              "      <td>6489600000</td>\n",
              "      <td>0.337</td>\n",
              "      <td>2.185373e+09</td>\n",
              "    </tr>\n",
              "    <tr>\n",
              "      <th>1</th>\n",
              "      <td>2</td>\n",
              "      <td>2020</td>\n",
              "      <td>STATE</td>\n",
              "      <td>WASHINGTON</td>\n",
              "      <td>39500.0</td>\n",
              "      <td>175000.0</td>\n",
              "      <td>6915000000</td>\n",
              "      <td>6569300000</td>\n",
              "      <td>0.319</td>\n",
              "      <td>2.095265e+09</td>\n",
              "    </tr>\n",
              "    <tr>\n",
              "      <th>2</th>\n",
              "      <td>3</td>\n",
              "      <td>2019</td>\n",
              "      <td>STATE</td>\n",
              "      <td>WASHINGTON</td>\n",
              "      <td>44200.0</td>\n",
              "      <td>172000.0</td>\n",
              "      <td>7600000000</td>\n",
              "      <td>7220000000</td>\n",
              "      <td>0.271</td>\n",
              "      <td>1.958900e+09</td>\n",
              "    </tr>\n",
              "    <tr>\n",
              "      <th>3</th>\n",
              "      <td>4</td>\n",
              "      <td>2018</td>\n",
              "      <td>STATE</td>\n",
              "      <td>WASHINGTON</td>\n",
              "      <td>39400.0</td>\n",
              "      <td>170000.0</td>\n",
              "      <td>6700000000</td>\n",
              "      <td>6365000000</td>\n",
              "      <td>0.336</td>\n",
              "      <td>2.140650e+09</td>\n",
              "    </tr>\n",
              "    <tr>\n",
              "      <th>4</th>\n",
              "      <td>5</td>\n",
              "      <td>2017</td>\n",
              "      <td>STATE</td>\n",
              "      <td>WASHINGTON</td>\n",
              "      <td>45500.0</td>\n",
              "      <td>165000.0</td>\n",
              "      <td>7500000000</td>\n",
              "      <td>7200000000</td>\n",
              "      <td>0.338</td>\n",
              "      <td>2.430353e+09</td>\n",
              "    </tr>\n",
              "  </tbody>\n",
              "</table>\n",
              "</div>\n",
              "      <button class=\"colab-df-convert\" onclick=\"convertToInteractive('df-abfe6c74-6359-442f-954d-c8f6d54f1159')\"\n",
              "              title=\"Convert this dataframe to an interactive table.\"\n",
              "              style=\"display:none;\">\n",
              "        \n",
              "  <svg xmlns=\"http://www.w3.org/2000/svg\" height=\"24px\"viewBox=\"0 0 24 24\"\n",
              "       width=\"24px\">\n",
              "    <path d=\"M0 0h24v24H0V0z\" fill=\"none\"/>\n",
              "    <path d=\"M18.56 5.44l.94 2.06.94-2.06 2.06-.94-2.06-.94-.94-2.06-.94 2.06-2.06.94zm-11 1L8.5 8.5l.94-2.06 2.06-.94-2.06-.94L8.5 2.5l-.94 2.06-2.06.94zm10 10l.94 2.06.94-2.06 2.06-.94-2.06-.94-.94-2.06-.94 2.06-2.06.94z\"/><path d=\"M17.41 7.96l-1.37-1.37c-.4-.4-.92-.59-1.43-.59-.52 0-1.04.2-1.43.59L10.3 9.45l-7.72 7.72c-.78.78-.78 2.05 0 2.83L4 21.41c.39.39.9.59 1.41.59.51 0 1.02-.2 1.41-.59l7.78-7.78 2.81-2.81c.8-.78.8-2.07 0-2.86zM5.41 20L4 18.59l7.72-7.72 1.47 1.35L5.41 20z\"/>\n",
              "  </svg>\n",
              "      </button>\n",
              "      \n",
              "  <style>\n",
              "    .colab-df-container {\n",
              "      display:flex;\n",
              "      flex-wrap:wrap;\n",
              "      gap: 12px;\n",
              "    }\n",
              "\n",
              "    .colab-df-convert {\n",
              "      background-color: #E8F0FE;\n",
              "      border: none;\n",
              "      border-radius: 50%;\n",
              "      cursor: pointer;\n",
              "      display: none;\n",
              "      fill: #1967D2;\n",
              "      height: 32px;\n",
              "      padding: 0 0 0 0;\n",
              "      width: 32px;\n",
              "    }\n",
              "\n",
              "    .colab-df-convert:hover {\n",
              "      background-color: #E2EBFA;\n",
              "      box-shadow: 0px 1px 2px rgba(60, 64, 67, 0.3), 0px 1px 3px 1px rgba(60, 64, 67, 0.15);\n",
              "      fill: #174EA6;\n",
              "    }\n",
              "\n",
              "    [theme=dark] .colab-df-convert {\n",
              "      background-color: #3B4455;\n",
              "      fill: #D2E3FC;\n",
              "    }\n",
              "\n",
              "    [theme=dark] .colab-df-convert:hover {\n",
              "      background-color: #434B5C;\n",
              "      box-shadow: 0px 1px 3px 1px rgba(0, 0, 0, 0.15);\n",
              "      filter: drop-shadow(0px 1px 2px rgba(0, 0, 0, 0.3));\n",
              "      fill: #FFFFFF;\n",
              "    }\n",
              "  </style>\n",
              "\n",
              "      <script>\n",
              "        const buttonEl =\n",
              "          document.querySelector('#df-abfe6c74-6359-442f-954d-c8f6d54f1159 button.colab-df-convert');\n",
              "        buttonEl.style.display =\n",
              "          google.colab.kernel.accessAllowed ? 'block' : 'none';\n",
              "\n",
              "        async function convertToInteractive(key) {\n",
              "          const element = document.querySelector('#df-abfe6c74-6359-442f-954d-c8f6d54f1159');\n",
              "          const dataTable =\n",
              "            await google.colab.kernel.invokeFunction('convertToInteractive',\n",
              "                                                     [key], {});\n",
              "          if (!dataTable) return;\n",
              "\n",
              "          const docLinkHtml = 'Like what you see? Visit the ' +\n",
              "            '<a target=\"_blank\" href=https://colab.research.google.com/notebooks/data_table.ipynb>data table notebook</a>'\n",
              "            + ' to learn more about interactive tables.';\n",
              "          element.innerHTML = '';\n",
              "          dataTable['output_type'] = 'display_data';\n",
              "          await google.colab.output.renderOutput(dataTable, element);\n",
              "          const docLink = document.createElement('div');\n",
              "          docLink.innerHTML = docLinkHtml;\n",
              "          element.appendChild(docLink);\n",
              "        }\n",
              "      </script>\n",
              "    </div>\n",
              "  </div>\n",
              "  "
            ]
          },
          "metadata": {},
          "execution_count": 27
        }
      ],
      "source": [
        "apples.head()"
      ]
    },
    {
      "cell_type": "code",
      "execution_count": 28,
      "metadata": {
        "colab": {
          "base_uri": "https://localhost:8080/"
        },
        "id": "TpLf5GbBmGdh",
        "outputId": "6574b9de-8b15-40b3-93ae-97c05aa3e7c0"
      },
      "outputs": [
        {
          "output_type": "stream",
          "name": "stdout",
          "text": [
            "<class 'pandas.core.frame.DataFrame'>\n",
            "RangeIndex: 133 entries, 0 to 132\n",
            "Data columns (total 10 columns):\n",
            " #   Column                             Non-Null Count  Dtype  \n",
            "---  ------                             --------------  -----  \n",
            " 0   Unnamed: 0                         133 non-null    int64  \n",
            " 1   year                               133 non-null    int64  \n",
            " 2   geo_level                          133 non-null    object \n",
            " 3   state                              133 non-null    object \n",
            " 4   yield_acre_lbs                     103 non-null    float64\n",
            " 5   bearing_acre                       103 non-null    float64\n",
            " 6   total_production_lbs               133 non-null    int64  \n",
            " 7   utilized_production_lbs            133 non-null    int64  \n",
            " 8   avg_price_pound_dollars            113 non-null    float64\n",
            " 9   value_utilized_production_dollars  113 non-null    float64\n",
            "dtypes: float64(4), int64(4), object(2)\n",
            "memory usage: 10.5+ KB\n"
          ]
        }
      ],
      "source": [
        "apples.info()"
      ]
    },
    {
      "cell_type": "markdown",
      "metadata": {
        "id": "nwL2SRCanME_"
      },
      "source": [
        "## Reshape and concatenate"
      ]
    },
    {
      "cell_type": "code",
      "execution_count": 29,
      "metadata": {
        "colab": {
          "base_uri": "https://localhost:8080/",
          "height": 319
        },
        "id": "0laRedmWnFY9",
        "outputId": "ce1e109d-001b-4202-e8c5-c87c73516600"
      },
      "outputs": [
        {
          "output_type": "execute_result",
          "data": {
            "text/plain": [
              "      Unnamed: 0 geo_level       state  yield_acre_lbs  bearing_acre  \\\n",
              "year                                                                   \n",
              "1919         103     STATE  WASHINGTON          8810.0      132000.0   \n",
              "1920         102     STATE  WASHINGTON          6530.0      129000.0   \n",
              "1921         101     STATE  WASHINGTON         11500.0      125500.0   \n",
              "1922         100     STATE  WASHINGTON         10400.0      121500.0   \n",
              "1923          99     STATE  WASHINGTON         12900.0      117500.0   \n",
              "\n",
              "      total_production_lbs  utilized_production_lbs  avg_price_pound_dollars  \\\n",
              "year                                                                           \n",
              "1919            1163570000               1163570000                   0.0424   \n",
              "1920             841800000                841800000                   0.0372   \n",
              "1921            1448999000               1448999000                   0.0320   \n",
              "1922            1262654000               1262654000                   0.0228   \n",
              "1923            1517999000               1517999000                   0.0226   \n",
              "\n",
              "      value_utilized_production_dollars  \n",
              "year                                     \n",
              "1919                         49325000.0  \n",
              "1920                         31293000.0  \n",
              "1921                         46305000.0  \n",
              "1922                         28821000.0  \n",
              "1923                         34320000.0  "
            ],
            "text/html": [
              "\n",
              "  <div id=\"df-2f492853-062c-4ddd-9c89-9d31338136de\">\n",
              "    <div class=\"colab-df-container\">\n",
              "      <div>\n",
              "<style scoped>\n",
              "    .dataframe tbody tr th:only-of-type {\n",
              "        vertical-align: middle;\n",
              "    }\n",
              "\n",
              "    .dataframe tbody tr th {\n",
              "        vertical-align: top;\n",
              "    }\n",
              "\n",
              "    .dataframe thead th {\n",
              "        text-align: right;\n",
              "    }\n",
              "</style>\n",
              "<table border=\"1\" class=\"dataframe\">\n",
              "  <thead>\n",
              "    <tr style=\"text-align: right;\">\n",
              "      <th></th>\n",
              "      <th>Unnamed: 0</th>\n",
              "      <th>geo_level</th>\n",
              "      <th>state</th>\n",
              "      <th>yield_acre_lbs</th>\n",
              "      <th>bearing_acre</th>\n",
              "      <th>total_production_lbs</th>\n",
              "      <th>utilized_production_lbs</th>\n",
              "      <th>avg_price_pound_dollars</th>\n",
              "      <th>value_utilized_production_dollars</th>\n",
              "    </tr>\n",
              "    <tr>\n",
              "      <th>year</th>\n",
              "      <th></th>\n",
              "      <th></th>\n",
              "      <th></th>\n",
              "      <th></th>\n",
              "      <th></th>\n",
              "      <th></th>\n",
              "      <th></th>\n",
              "      <th></th>\n",
              "      <th></th>\n",
              "    </tr>\n",
              "  </thead>\n",
              "  <tbody>\n",
              "    <tr>\n",
              "      <th>1919</th>\n",
              "      <td>103</td>\n",
              "      <td>STATE</td>\n",
              "      <td>WASHINGTON</td>\n",
              "      <td>8810.0</td>\n",
              "      <td>132000.0</td>\n",
              "      <td>1163570000</td>\n",
              "      <td>1163570000</td>\n",
              "      <td>0.0424</td>\n",
              "      <td>49325000.0</td>\n",
              "    </tr>\n",
              "    <tr>\n",
              "      <th>1920</th>\n",
              "      <td>102</td>\n",
              "      <td>STATE</td>\n",
              "      <td>WASHINGTON</td>\n",
              "      <td>6530.0</td>\n",
              "      <td>129000.0</td>\n",
              "      <td>841800000</td>\n",
              "      <td>841800000</td>\n",
              "      <td>0.0372</td>\n",
              "      <td>31293000.0</td>\n",
              "    </tr>\n",
              "    <tr>\n",
              "      <th>1921</th>\n",
              "      <td>101</td>\n",
              "      <td>STATE</td>\n",
              "      <td>WASHINGTON</td>\n",
              "      <td>11500.0</td>\n",
              "      <td>125500.0</td>\n",
              "      <td>1448999000</td>\n",
              "      <td>1448999000</td>\n",
              "      <td>0.0320</td>\n",
              "      <td>46305000.0</td>\n",
              "    </tr>\n",
              "    <tr>\n",
              "      <th>1922</th>\n",
              "      <td>100</td>\n",
              "      <td>STATE</td>\n",
              "      <td>WASHINGTON</td>\n",
              "      <td>10400.0</td>\n",
              "      <td>121500.0</td>\n",
              "      <td>1262654000</td>\n",
              "      <td>1262654000</td>\n",
              "      <td>0.0228</td>\n",
              "      <td>28821000.0</td>\n",
              "    </tr>\n",
              "    <tr>\n",
              "      <th>1923</th>\n",
              "      <td>99</td>\n",
              "      <td>STATE</td>\n",
              "      <td>WASHINGTON</td>\n",
              "      <td>12900.0</td>\n",
              "      <td>117500.0</td>\n",
              "      <td>1517999000</td>\n",
              "      <td>1517999000</td>\n",
              "      <td>0.0226</td>\n",
              "      <td>34320000.0</td>\n",
              "    </tr>\n",
              "  </tbody>\n",
              "</table>\n",
              "</div>\n",
              "      <button class=\"colab-df-convert\" onclick=\"convertToInteractive('df-2f492853-062c-4ddd-9c89-9d31338136de')\"\n",
              "              title=\"Convert this dataframe to an interactive table.\"\n",
              "              style=\"display:none;\">\n",
              "        \n",
              "  <svg xmlns=\"http://www.w3.org/2000/svg\" height=\"24px\"viewBox=\"0 0 24 24\"\n",
              "       width=\"24px\">\n",
              "    <path d=\"M0 0h24v24H0V0z\" fill=\"none\"/>\n",
              "    <path d=\"M18.56 5.44l.94 2.06.94-2.06 2.06-.94-2.06-.94-.94-2.06-.94 2.06-2.06.94zm-11 1L8.5 8.5l.94-2.06 2.06-.94-2.06-.94L8.5 2.5l-.94 2.06-2.06.94zm10 10l.94 2.06.94-2.06 2.06-.94-2.06-.94-.94-2.06-.94 2.06-2.06.94z\"/><path d=\"M17.41 7.96l-1.37-1.37c-.4-.4-.92-.59-1.43-.59-.52 0-1.04.2-1.43.59L10.3 9.45l-7.72 7.72c-.78.78-.78 2.05 0 2.83L4 21.41c.39.39.9.59 1.41.59.51 0 1.02-.2 1.41-.59l7.78-7.78 2.81-2.81c.8-.78.8-2.07 0-2.86zM5.41 20L4 18.59l7.72-7.72 1.47 1.35L5.41 20z\"/>\n",
              "  </svg>\n",
              "      </button>\n",
              "      \n",
              "  <style>\n",
              "    .colab-df-container {\n",
              "      display:flex;\n",
              "      flex-wrap:wrap;\n",
              "      gap: 12px;\n",
              "    }\n",
              "\n",
              "    .colab-df-convert {\n",
              "      background-color: #E8F0FE;\n",
              "      border: none;\n",
              "      border-radius: 50%;\n",
              "      cursor: pointer;\n",
              "      display: none;\n",
              "      fill: #1967D2;\n",
              "      height: 32px;\n",
              "      padding: 0 0 0 0;\n",
              "      width: 32px;\n",
              "    }\n",
              "\n",
              "    .colab-df-convert:hover {\n",
              "      background-color: #E2EBFA;\n",
              "      box-shadow: 0px 1px 2px rgba(60, 64, 67, 0.3), 0px 1px 3px 1px rgba(60, 64, 67, 0.15);\n",
              "      fill: #174EA6;\n",
              "    }\n",
              "\n",
              "    [theme=dark] .colab-df-convert {\n",
              "      background-color: #3B4455;\n",
              "      fill: #D2E3FC;\n",
              "    }\n",
              "\n",
              "    [theme=dark] .colab-df-convert:hover {\n",
              "      background-color: #434B5C;\n",
              "      box-shadow: 0px 1px 3px 1px rgba(0, 0, 0, 0.15);\n",
              "      filter: drop-shadow(0px 1px 2px rgba(0, 0, 0, 0.3));\n",
              "      fill: #FFFFFF;\n",
              "    }\n",
              "  </style>\n",
              "\n",
              "      <script>\n",
              "        const buttonEl =\n",
              "          document.querySelector('#df-2f492853-062c-4ddd-9c89-9d31338136de button.colab-df-convert');\n",
              "        buttonEl.style.display =\n",
              "          google.colab.kernel.accessAllowed ? 'block' : 'none';\n",
              "\n",
              "        async function convertToInteractive(key) {\n",
              "          const element = document.querySelector('#df-2f492853-062c-4ddd-9c89-9d31338136de');\n",
              "          const dataTable =\n",
              "            await google.colab.kernel.invokeFunction('convertToInteractive',\n",
              "                                                     [key], {});\n",
              "          if (!dataTable) return;\n",
              "\n",
              "          const docLinkHtml = 'Like what you see? Visit the ' +\n",
              "            '<a target=\"_blank\" href=https://colab.research.google.com/notebooks/data_table.ipynb>data table notebook</a>'\n",
              "            + ' to learn more about interactive tables.';\n",
              "          element.innerHTML = '';\n",
              "          dataTable['output_type'] = 'display_data';\n",
              "          await google.colab.output.renderOutput(dataTable, element);\n",
              "          const docLink = document.createElement('div');\n",
              "          docLink.innerHTML = docLinkHtml;\n",
              "          element.appendChild(docLink);\n",
              "        }\n",
              "      </script>\n",
              "    </div>\n",
              "  </div>\n",
              "  "
            ]
          },
          "metadata": {},
          "execution_count": 29
        }
      ],
      "source": [
        "apples2 = apples.dropna().sort_values(by='year').set_index('year')\n",
        "apples2.head()"
      ]
    },
    {
      "cell_type": "markdown",
      "metadata": {
        "id": "wgUyiI9stCLS"
      },
      "source": [
        "## Create functions to run and evaluate linear regression models"
      ]
    },
    {
      "cell_type": "code",
      "execution_count": 30,
      "metadata": {
        "id": "_RnuyIQ0tGAB"
      },
      "outputs": [],
      "source": [
        "def explore_relationship(df, x_var, y_var):\n",
        "  X = df[[x_var]]\n",
        "  y = df[[y_var]]\n",
        "  plt.scatter(X, y)"
      ]
    },
    {
      "cell_type": "code",
      "execution_count": 31,
      "metadata": {
        "id": "tt0zhoG8vwJD"
      },
      "outputs": [],
      "source": [
        "#define a function to quickly generate a multiple regression model with a 80/20 split \n",
        "def run_regression_ols(df, x, y):\n",
        "  #get train and test data\n",
        "  X = df[x]\n",
        "  y = df[y]\n",
        "  X_train, X_test, y_train, y_test = train_test_split(X,y, test_size=0.2, random_state=1)\n",
        "  \n",
        "  #visualize and evaluate\n",
        "  lin_model_sm = sm.OLS(y_train, sm.add_constant(X_train)).fit()\n",
        "  print(lin_model_sm.summary())\n",
        "\n",
        "  return lin_model_sm"
      ]
    },
    {
      "cell_type": "code",
      "execution_count": 49,
      "metadata": {
        "id": "dvAOco3WmlTZ"
      },
      "outputs": [],
      "source": [
        "#create a linear regression in scikit and evaluate\n",
        "def run_regression_scikit(df, x, y):\n",
        "  X = df[x]\n",
        "  y = df[y]\n",
        "  X_train, X_test, y_train, y_test = train_test_split(X,y, test_size=0.2, random_state=1)\n",
        "\n",
        "  #fit model\n",
        "  linreg=LinearRegression()\n",
        "  linreg.fit(X_train,y_train)\n",
        "\n",
        "  #make predictions\n",
        "  y_pred=linreg.predict(X_test)\n",
        "\n",
        "  #evaluate with rmse and r2 score\n",
        "  Accuracy=r2_score(y_test,y_pred)*100\n",
        "  print(\" Accuracy of the model is %.2f\" %Accuracy)\n",
        "  print(\"Root Mean squared error: %.2f\" % mean_squared_error(y_test, y_pred, squared=False))\n",
        "  print('Mean of Test Data: %.2f'%np.mean(y_test))"
      ]
    },
    {
      "cell_type": "markdown",
      "metadata": {
        "id": "UtFWgpsDRMMM"
      },
      "source": [
        "Linear Regression with apple yields"
      ]
    },
    {
      "cell_type": "code",
      "execution_count": 50,
      "metadata": {
        "id": "qg3XyF3-Ri1X"
      },
      "outputs": [],
      "source": [
        "prism = pd.read_csv('https://raw.githubusercontent.com/mckenzie-maidl/data5100-climate-agriculture/main/Cleaned%20Data/prism.csv')"
      ]
    },
    {
      "cell_type": "code",
      "execution_count": 51,
      "metadata": {
        "id": "2xfS66GWH0P-"
      },
      "outputs": [],
      "source": [
        "prism.drop(columns='Unnamed: 0', inplace=True)"
      ]
    },
    {
      "cell_type": "code",
      "execution_count": 52,
      "metadata": {
        "colab": {
          "base_uri": "https://localhost:8080/"
        },
        "id": "UGJExWqjixJl",
        "outputId": "f0c40ea4-89cf-4904-ef05-239031ac00a1"
      },
      "outputs": [
        {
          "output_type": "execute_result",
          "data": {
            "text/plain": [
              "ppt (inches)          0\n",
              "tmin (degrees F)      0\n",
              "tmean (degrees F)     0\n",
              "tmax (degrees F)      0\n",
              "tdmean (degrees F)    0\n",
              "vpdmin (hPa)          0\n",
              "vpdmax (hPa)          0\n",
              "County                0\n",
              "year                  0\n",
              "month                 0\n",
              "dtype: int64"
            ]
          },
          "metadata": {},
          "execution_count": 52
        }
      ],
      "source": [
        "prism.apply(lambda x: x.isna().sum())"
      ]
    },
    {
      "cell_type": "code",
      "execution_count": 53,
      "metadata": {
        "id": "YOYAQRabeqan"
      },
      "outputs": [],
      "source": [
        "#rename columns\n",
        "cols = list(prism.columns)\n",
        "new = ['ppt', 'tmin', 'tmean', 'tmax', 'tdewmean', 'vpdmin', 'vpdmax', 'county', 'year', 'month']\n",
        "new_cols = dict(zip(cols,new))\n",
        "prism.rename(columns=new_cols, inplace=True)"
      ]
    },
    {
      "cell_type": "code",
      "execution_count": 54,
      "metadata": {
        "id": "ESPZz47ZUURF"
      },
      "outputs": [],
      "source": [
        "#add in temperature and vpd difference columns\n",
        "prism['vpddiff'] = prism['vpdmax'] - prism['vpdmin']\n",
        "prism['tdiff'] = prism['tmax'] - prism['tmin']\n",
        "prism['vpdmean'] = (prism['vpdmax'] + prism['vpdmin']) / 2"
      ]
    },
    {
      "cell_type": "code",
      "execution_count": 55,
      "metadata": {
        "id": "YAS8Hkwvf3qf"
      },
      "outputs": [],
      "source": [
        "prism2 = prism[prism['year'] >= 1919]"
      ]
    },
    {
      "cell_type": "code",
      "execution_count": 56,
      "metadata": {
        "colab": {
          "base_uri": "https://localhost:8080/"
        },
        "id": "ZmwLxILDgoyh",
        "outputId": "0373fae2-5ceb-4478-cf4b-a13b9318e856"
      },
      "outputs": [
        {
          "output_type": "execute_result",
          "data": {
            "text/plain": [
              "ppt         0\n",
              "tmin        0\n",
              "tmean       0\n",
              "tmax        0\n",
              "tdewmean    0\n",
              "vpdmin      0\n",
              "vpdmax      0\n",
              "county      0\n",
              "year        0\n",
              "month       0\n",
              "vpddiff     0\n",
              "tdiff       0\n",
              "vpdmean     0\n",
              "dtype: int64"
            ]
          },
          "metadata": {},
          "execution_count": 56
        }
      ],
      "source": [
        "prism2.apply(lambda x: x.isna().sum())"
      ]
    },
    {
      "cell_type": "code",
      "execution_count": 57,
      "metadata": {
        "id": "TEsxhqvoeR6q"
      },
      "outputs": [],
      "source": [
        "prism2 = prism2.groupby('year').mean()\n",
        "#take sum of snowfall and precipitation\n",
        "prism2['ppt'] = prism.groupby('year')['ppt'].sum()\n",
        "#drop month\n",
        "prism2.drop(columns='month', inplace=True)"
      ]
    },
    {
      "cell_type": "code",
      "execution_count": 58,
      "metadata": {
        "colab": {
          "base_uri": "https://localhost:8080/",
          "height": 455
        },
        "id": "v-8-wTUf9CSE",
        "outputId": "23ccbe20-2cf2-4a10-e42e-614c6cac0c1e"
      },
      "outputs": [
        {
          "output_type": "execute_result",
          "data": {
            "text/plain": [
              "         ppt       tmin      tmean       tmax   tdewmean    vpdmin     vpdmax  \\\n",
              "year                                                                            \n",
              "1919  145.10  34.895833  47.264167  59.641667  30.987500  1.834417  15.238083   \n",
              "1920  148.97  36.669167  48.184167  59.692500  32.499167  1.874833  14.388417   \n",
              "1921  160.58  36.500000  48.312500  60.115000  32.625000  1.826417  14.681333   \n",
              "1922  111.55  34.785833  46.705833  58.618333  30.709167  2.108333  15.553833   \n",
              "1923  158.99  37.255833  49.051667  60.854167  33.350000  1.897417  14.962333   \n",
              "...      ...        ...        ...        ...        ...       ...        ...   \n",
              "2017  175.55  37.214167  47.962500  58.707500  32.510000  1.788917  14.796583   \n",
              "2018  135.34  38.705833  49.804167  60.909167  33.755833  1.734167  15.032417   \n",
              "2019  126.79  37.000000  47.501667  58.002500  33.609167  1.395917  13.315250   \n",
              "2020  137.08  38.450833  49.898333  61.340833  34.004167  1.877250  15.286333   \n",
              "2021  130.38  39.106667  50.352500  61.603333  34.324167  2.285833  16.425000   \n",
              "\n",
              "        vpddiff      tdiff   vpdmean  \n",
              "year                                  \n",
              "1919  13.403667  24.745833  8.536250  \n",
              "1920  12.513583  23.023333  8.131625  \n",
              "1921  12.854917  23.615000  8.253875  \n",
              "1922  13.445500  23.832500  8.831083  \n",
              "1923  13.064917  23.598333  8.429875  \n",
              "...         ...        ...       ...  \n",
              "2017  13.007667  21.493333  8.292750  \n",
              "2018  13.298250  22.203333  8.383292  \n",
              "2019  11.919333  21.002500  7.355583  \n",
              "2020  13.409083  22.890000  8.581792  \n",
              "2021  14.139167  22.496667  9.355417  \n",
              "\n",
              "[103 rows x 10 columns]"
            ],
            "text/html": [
              "\n",
              "  <div id=\"df-fdd0c296-6858-411b-82d8-2ee22936257b\">\n",
              "    <div class=\"colab-df-container\">\n",
              "      <div>\n",
              "<style scoped>\n",
              "    .dataframe tbody tr th:only-of-type {\n",
              "        vertical-align: middle;\n",
              "    }\n",
              "\n",
              "    .dataframe tbody tr th {\n",
              "        vertical-align: top;\n",
              "    }\n",
              "\n",
              "    .dataframe thead th {\n",
              "        text-align: right;\n",
              "    }\n",
              "</style>\n",
              "<table border=\"1\" class=\"dataframe\">\n",
              "  <thead>\n",
              "    <tr style=\"text-align: right;\">\n",
              "      <th></th>\n",
              "      <th>ppt</th>\n",
              "      <th>tmin</th>\n",
              "      <th>tmean</th>\n",
              "      <th>tmax</th>\n",
              "      <th>tdewmean</th>\n",
              "      <th>vpdmin</th>\n",
              "      <th>vpdmax</th>\n",
              "      <th>vpddiff</th>\n",
              "      <th>tdiff</th>\n",
              "      <th>vpdmean</th>\n",
              "    </tr>\n",
              "    <tr>\n",
              "      <th>year</th>\n",
              "      <th></th>\n",
              "      <th></th>\n",
              "      <th></th>\n",
              "      <th></th>\n",
              "      <th></th>\n",
              "      <th></th>\n",
              "      <th></th>\n",
              "      <th></th>\n",
              "      <th></th>\n",
              "      <th></th>\n",
              "    </tr>\n",
              "  </thead>\n",
              "  <tbody>\n",
              "    <tr>\n",
              "      <th>1919</th>\n",
              "      <td>145.10</td>\n",
              "      <td>34.895833</td>\n",
              "      <td>47.264167</td>\n",
              "      <td>59.641667</td>\n",
              "      <td>30.987500</td>\n",
              "      <td>1.834417</td>\n",
              "      <td>15.238083</td>\n",
              "      <td>13.403667</td>\n",
              "      <td>24.745833</td>\n",
              "      <td>8.536250</td>\n",
              "    </tr>\n",
              "    <tr>\n",
              "      <th>1920</th>\n",
              "      <td>148.97</td>\n",
              "      <td>36.669167</td>\n",
              "      <td>48.184167</td>\n",
              "      <td>59.692500</td>\n",
              "      <td>32.499167</td>\n",
              "      <td>1.874833</td>\n",
              "      <td>14.388417</td>\n",
              "      <td>12.513583</td>\n",
              "      <td>23.023333</td>\n",
              "      <td>8.131625</td>\n",
              "    </tr>\n",
              "    <tr>\n",
              "      <th>1921</th>\n",
              "      <td>160.58</td>\n",
              "      <td>36.500000</td>\n",
              "      <td>48.312500</td>\n",
              "      <td>60.115000</td>\n",
              "      <td>32.625000</td>\n",
              "      <td>1.826417</td>\n",
              "      <td>14.681333</td>\n",
              "      <td>12.854917</td>\n",
              "      <td>23.615000</td>\n",
              "      <td>8.253875</td>\n",
              "    </tr>\n",
              "    <tr>\n",
              "      <th>1922</th>\n",
              "      <td>111.55</td>\n",
              "      <td>34.785833</td>\n",
              "      <td>46.705833</td>\n",
              "      <td>58.618333</td>\n",
              "      <td>30.709167</td>\n",
              "      <td>2.108333</td>\n",
              "      <td>15.553833</td>\n",
              "      <td>13.445500</td>\n",
              "      <td>23.832500</td>\n",
              "      <td>8.831083</td>\n",
              "    </tr>\n",
              "    <tr>\n",
              "      <th>1923</th>\n",
              "      <td>158.99</td>\n",
              "      <td>37.255833</td>\n",
              "      <td>49.051667</td>\n",
              "      <td>60.854167</td>\n",
              "      <td>33.350000</td>\n",
              "      <td>1.897417</td>\n",
              "      <td>14.962333</td>\n",
              "      <td>13.064917</td>\n",
              "      <td>23.598333</td>\n",
              "      <td>8.429875</td>\n",
              "    </tr>\n",
              "    <tr>\n",
              "      <th>...</th>\n",
              "      <td>...</td>\n",
              "      <td>...</td>\n",
              "      <td>...</td>\n",
              "      <td>...</td>\n",
              "      <td>...</td>\n",
              "      <td>...</td>\n",
              "      <td>...</td>\n",
              "      <td>...</td>\n",
              "      <td>...</td>\n",
              "      <td>...</td>\n",
              "    </tr>\n",
              "    <tr>\n",
              "      <th>2017</th>\n",
              "      <td>175.55</td>\n",
              "      <td>37.214167</td>\n",
              "      <td>47.962500</td>\n",
              "      <td>58.707500</td>\n",
              "      <td>32.510000</td>\n",
              "      <td>1.788917</td>\n",
              "      <td>14.796583</td>\n",
              "      <td>13.007667</td>\n",
              "      <td>21.493333</td>\n",
              "      <td>8.292750</td>\n",
              "    </tr>\n",
              "    <tr>\n",
              "      <th>2018</th>\n",
              "      <td>135.34</td>\n",
              "      <td>38.705833</td>\n",
              "      <td>49.804167</td>\n",
              "      <td>60.909167</td>\n",
              "      <td>33.755833</td>\n",
              "      <td>1.734167</td>\n",
              "      <td>15.032417</td>\n",
              "      <td>13.298250</td>\n",
              "      <td>22.203333</td>\n",
              "      <td>8.383292</td>\n",
              "    </tr>\n",
              "    <tr>\n",
              "      <th>2019</th>\n",
              "      <td>126.79</td>\n",
              "      <td>37.000000</td>\n",
              "      <td>47.501667</td>\n",
              "      <td>58.002500</td>\n",
              "      <td>33.609167</td>\n",
              "      <td>1.395917</td>\n",
              "      <td>13.315250</td>\n",
              "      <td>11.919333</td>\n",
              "      <td>21.002500</td>\n",
              "      <td>7.355583</td>\n",
              "    </tr>\n",
              "    <tr>\n",
              "      <th>2020</th>\n",
              "      <td>137.08</td>\n",
              "      <td>38.450833</td>\n",
              "      <td>49.898333</td>\n",
              "      <td>61.340833</td>\n",
              "      <td>34.004167</td>\n",
              "      <td>1.877250</td>\n",
              "      <td>15.286333</td>\n",
              "      <td>13.409083</td>\n",
              "      <td>22.890000</td>\n",
              "      <td>8.581792</td>\n",
              "    </tr>\n",
              "    <tr>\n",
              "      <th>2021</th>\n",
              "      <td>130.38</td>\n",
              "      <td>39.106667</td>\n",
              "      <td>50.352500</td>\n",
              "      <td>61.603333</td>\n",
              "      <td>34.324167</td>\n",
              "      <td>2.285833</td>\n",
              "      <td>16.425000</td>\n",
              "      <td>14.139167</td>\n",
              "      <td>22.496667</td>\n",
              "      <td>9.355417</td>\n",
              "    </tr>\n",
              "  </tbody>\n",
              "</table>\n",
              "<p>103 rows × 10 columns</p>\n",
              "</div>\n",
              "      <button class=\"colab-df-convert\" onclick=\"convertToInteractive('df-fdd0c296-6858-411b-82d8-2ee22936257b')\"\n",
              "              title=\"Convert this dataframe to an interactive table.\"\n",
              "              style=\"display:none;\">\n",
              "        \n",
              "  <svg xmlns=\"http://www.w3.org/2000/svg\" height=\"24px\"viewBox=\"0 0 24 24\"\n",
              "       width=\"24px\">\n",
              "    <path d=\"M0 0h24v24H0V0z\" fill=\"none\"/>\n",
              "    <path d=\"M18.56 5.44l.94 2.06.94-2.06 2.06-.94-2.06-.94-.94-2.06-.94 2.06-2.06.94zm-11 1L8.5 8.5l.94-2.06 2.06-.94-2.06-.94L8.5 2.5l-.94 2.06-2.06.94zm10 10l.94 2.06.94-2.06 2.06-.94-2.06-.94-.94-2.06-.94 2.06-2.06.94z\"/><path d=\"M17.41 7.96l-1.37-1.37c-.4-.4-.92-.59-1.43-.59-.52 0-1.04.2-1.43.59L10.3 9.45l-7.72 7.72c-.78.78-.78 2.05 0 2.83L4 21.41c.39.39.9.59 1.41.59.51 0 1.02-.2 1.41-.59l7.78-7.78 2.81-2.81c.8-.78.8-2.07 0-2.86zM5.41 20L4 18.59l7.72-7.72 1.47 1.35L5.41 20z\"/>\n",
              "  </svg>\n",
              "      </button>\n",
              "      \n",
              "  <style>\n",
              "    .colab-df-container {\n",
              "      display:flex;\n",
              "      flex-wrap:wrap;\n",
              "      gap: 12px;\n",
              "    }\n",
              "\n",
              "    .colab-df-convert {\n",
              "      background-color: #E8F0FE;\n",
              "      border: none;\n",
              "      border-radius: 50%;\n",
              "      cursor: pointer;\n",
              "      display: none;\n",
              "      fill: #1967D2;\n",
              "      height: 32px;\n",
              "      padding: 0 0 0 0;\n",
              "      width: 32px;\n",
              "    }\n",
              "\n",
              "    .colab-df-convert:hover {\n",
              "      background-color: #E2EBFA;\n",
              "      box-shadow: 0px 1px 2px rgba(60, 64, 67, 0.3), 0px 1px 3px 1px rgba(60, 64, 67, 0.15);\n",
              "      fill: #174EA6;\n",
              "    }\n",
              "\n",
              "    [theme=dark] .colab-df-convert {\n",
              "      background-color: #3B4455;\n",
              "      fill: #D2E3FC;\n",
              "    }\n",
              "\n",
              "    [theme=dark] .colab-df-convert:hover {\n",
              "      background-color: #434B5C;\n",
              "      box-shadow: 0px 1px 3px 1px rgba(0, 0, 0, 0.15);\n",
              "      filter: drop-shadow(0px 1px 2px rgba(0, 0, 0, 0.3));\n",
              "      fill: #FFFFFF;\n",
              "    }\n",
              "  </style>\n",
              "\n",
              "      <script>\n",
              "        const buttonEl =\n",
              "          document.querySelector('#df-fdd0c296-6858-411b-82d8-2ee22936257b button.colab-df-convert');\n",
              "        buttonEl.style.display =\n",
              "          google.colab.kernel.accessAllowed ? 'block' : 'none';\n",
              "\n",
              "        async function convertToInteractive(key) {\n",
              "          const element = document.querySelector('#df-fdd0c296-6858-411b-82d8-2ee22936257b');\n",
              "          const dataTable =\n",
              "            await google.colab.kernel.invokeFunction('convertToInteractive',\n",
              "                                                     [key], {});\n",
              "          if (!dataTable) return;\n",
              "\n",
              "          const docLinkHtml = 'Like what you see? Visit the ' +\n",
              "            '<a target=\"_blank\" href=https://colab.research.google.com/notebooks/data_table.ipynb>data table notebook</a>'\n",
              "            + ' to learn more about interactive tables.';\n",
              "          element.innerHTML = '';\n",
              "          dataTable['output_type'] = 'display_data';\n",
              "          await google.colab.output.renderOutput(dataTable, element);\n",
              "          const docLink = document.createElement('div');\n",
              "          docLink.innerHTML = docLinkHtml;\n",
              "          element.appendChild(docLink);\n",
              "        }\n",
              "      </script>\n",
              "    </div>\n",
              "  </div>\n",
              "  "
            ]
          },
          "metadata": {},
          "execution_count": 58
        }
      ],
      "source": [
        "prism2"
      ]
    },
    {
      "cell_type": "code",
      "execution_count": 59,
      "metadata": {
        "id": "QQEJxyExiiQN"
      },
      "outputs": [],
      "source": [
        "#join with apples\n",
        "papp = prism2.join(apples2)"
      ]
    },
    {
      "cell_type": "code",
      "execution_count": 66,
      "metadata": {
        "id": "xE3Cxv8kjqd3"
      },
      "outputs": [],
      "source": [
        "papp = papp.drop(columns='Unnamed: 0')"
      ]
    },
    {
      "cell_type": "code",
      "execution_count": 67,
      "metadata": {
        "colab": {
          "base_uri": "https://localhost:8080/",
          "height": 280
        },
        "id": "Guu3593qhnnj",
        "outputId": "eefa4296-d82d-4d41-875e-2322c5302b9d"
      },
      "outputs": [
        {
          "output_type": "stream",
          "name": "stderr",
          "text": [
            "/usr/local/lib/python3.8/dist-packages/seaborn/axisgrid.py:2076: UserWarning: The `size` parameter has been renamed to `height`; please update your code.\n",
            "  warnings.warn(msg, UserWarning)\n"
          ]
        },
        {
          "output_type": "execute_result",
          "data": {
            "text/plain": [
              "<seaborn.axisgrid.PairGrid at 0x7f699c8c0880>"
            ]
          },
          "metadata": {},
          "execution_count": 67
        },
        {
          "output_type": "display_data",
          "data": {
            "text/plain": [
              "<Figure size 3175.2x504 with 9 Axes>"
            ],
            "image/png": "[encoded data removed]"
          },
          "metadata": {
            "needs_background": "light"
          }
        }
      ],
      "source": [
        "sns.pairplot(papp, x_vars=list(papp.columns[:9]), y_vars='yield_acre_lbs', size=7, aspect=0.7, kind='reg')"
      ]
    },
    {
      "cell_type": "code",
      "source": [
        "#best combination of variables\n",
        "run_regression_ols(papp, list(papp[['ppt', 'vpdmin', 'vpddiff', 'tdiff', 'vpdmean']]), 'yield_acre_lbs')"
      ],
      "metadata": {
        "colab": {
          "base_uri": "https://localhost:8080/"
        },
        "id": "zvKHp_VSgWgv",
        "outputId": "be26e1c3-d08c-4ff3-ad94-939827e98a03"
      },
      "execution_count": 68,
      "outputs": [
        {
          "output_type": "stream",
          "name": "stdout",
          "text": [
            "                            OLS Regression Results                            \n",
            "==============================================================================\n",
            "Dep. Variable:         yield_acre_lbs   R-squared:                       0.467\n",
            "Model:                            OLS   Adj. R-squared:                  0.439\n",
            "Method:                 Least Squares   F-statistic:                     16.87\n",
            "Date:                Wed, 07 Dec 2022   Prob (F-statistic):           5.67e-10\n",
            "Time:                        23:46:14   Log-Likelihood:                -842.07\n",
            "No. Observations:                  82   AIC:                             1694.\n",
            "Df Residuals:                      77   BIC:                             1706.\n",
            "Df Model:                           4                                         \n",
            "Covariance Type:            nonrobust                                         \n",
            "==============================================================================\n",
            "                 coef    std err          t      P>|t|      [0.025      0.975]\n",
            "------------------------------------------------------------------------------\n",
            "const       2.223e+05   2.82e+04      7.879      0.000    1.66e+05    2.79e+05\n",
            "ppt          -99.2359     32.168     -3.085      0.003    -163.290     -35.182\n",
            "vpdmin     -7716.5869   2985.016     -2.585      0.012   -1.37e+04   -1772.661\n",
            "vpddiff     7138.6078   2349.576      3.038      0.003    2460.004    1.18e+04\n",
            "tdiff      -9881.1727   1399.298     -7.062      0.000   -1.27e+04   -7094.815\n",
            "vpdmean    -4147.2830   1988.219     -2.086      0.040   -8106.332    -188.234\n",
            "==============================================================================\n",
            "Omnibus:                        2.304   Durbin-Watson:                   2.213\n",
            "Prob(Omnibus):                  0.316   Jarque-Bera (JB):                2.277\n",
            "Skew:                           0.354   Prob(JB):                        0.320\n",
            "Kurtosis:                       2.595   Cond. No.                     2.22e+17\n",
            "==============================================================================\n",
            "\n",
            "Notes:\n",
            "[1] Standard Errors assume that the covariance matrix of the errors is correctly specified.\n",
            "[2] The smallest eigenvalue is 3.61e-29. This might indicate that there are\n",
            "strong multicollinearity problems or that the design matrix is singular.\n"
          ]
        },
        {
          "output_type": "stream",
          "name": "stderr",
          "text": [
            "/usr/local/lib/python3.8/dist-packages/statsmodels/tsa/tsatools.py:142: FutureWarning: In a future version of pandas all arguments of concat except for the argument 'objs' will be keyword-only\n",
            "  x = pd.concat(x[::order], 1)\n"
          ]
        },
        {
          "output_type": "execute_result",
          "data": {
            "text/plain": [
              "<statsmodels.regression.linear_model.RegressionResultsWrapper at 0x7f69a18a0d00>"
            ]
          },
          "metadata": {},
          "execution_count": 68
        }
      ]
    },
    {
      "cell_type": "code",
      "source": [
        "#best combination of variables\n",
        "run_regression_scikit(papp, list(papp[['ppt', 'vpdmin', 'vpddiff', 'tdiff', 'vpdmean']]), 'yield_acre_lbs')"
      ],
      "metadata": {
        "colab": {
          "base_uri": "https://localhost:8080/"
        },
        "id": "cHJdW3KpgnsF",
        "outputId": "0e6e3cc8-73a1-4d8c-ae0a-bd1c4564d5c9"
      },
      "execution_count": 69,
      "outputs": [
        {
          "output_type": "stream",
          "name": "stdout",
          "text": [
            " Accuracy of the model is 64.27\n",
            "Root Mean squared error: 4980.69\n",
            "Mean of Test Data: 29000.00\n"
          ]
        }
      ]
    },
    {
      "cell_type": "code",
      "source": [],
      "metadata": {
        "id": "3qkTX7lG-41a"
      },
      "execution_count": null,
      "outputs": []
    }
  ],
  "metadata": {
    "colab": {
      "provenance": []
    },
    "kernelspec": {
      "display_name": "Python 3",
      "name": "python3"
    },
    "language_info": {
      "name": "python"
    }
  },
  "nbformat": 4,
  "nbformat_minor": 0
}