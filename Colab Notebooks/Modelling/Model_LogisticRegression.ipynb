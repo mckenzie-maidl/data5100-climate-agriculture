{
  "cells": [
    {
      "cell_type": "code",
      "execution_count": 2,
      "metadata": {
        "id": "aVAG--UiSGux"
      },
      "outputs": [],
      "source": [
        "# import\n",
        "import pandas as pd\n",
        "import numpy as np\n",
        "import matplotlib.pyplot as plt\n",
        "import seaborn as sns\n",
        "sns.set_style(\"whitegrid\")\n",
        "from sklearn.model_selection import train_test_split, RandomizedSearchCV\n",
        "from sklearn.linear_model import LogisticRegression\n",
        "import statsmodels.api as sm\n",
        "from sklearn.metrics import confusion_matrix\n",
        "from scipy.stats import uniform, randint\n",
        "from sklearn.ensemble import RandomForestClassifier\n",
        "import graphviz\n",
        "from sklearn import tree"
      ]
    },
    {
      "cell_type": "code",
      "execution_count": 3,
      "metadata": {
        "colab": {
          "base_uri": "https://localhost:8080/",
          "height": 270
        },
        "id": "kGyHan_dWPh8",
        "outputId": "badcb86f-17d7-474f-9fbd-4f7a0a882cee"
      },
      "outputs": [
        {
          "output_type": "execute_result",
          "data": {
            "text/plain": [
              "   year     ppt       tmin      tmean       tmax   tdewmean    vpdmin  \\\n",
              "0  1970  144.62  36.515833  48.256667  59.994167  31.793333  1.726083   \n",
              "1  1971  157.63  36.100000  47.832500  59.564167  32.140833  1.498333   \n",
              "2  1972  160.07  35.936667  47.560000  59.190833  31.820000  1.539500   \n",
              "3  1973  151.75  37.214167  48.848333  60.475833  31.831667  2.014167   \n",
              "4  1974  143.71  37.306667  48.983333  60.665000  32.799167  1.925167   \n",
              "\n",
              "      vpdmax    vpddiff      tdiff  yield_acre_lbs  percent_utilized  \\\n",
              "0  15.529917  13.803833  23.478333         23600.0         99.856322   \n",
              "1  14.965500  13.467167  23.464167         19000.0         99.502488   \n",
              "2  14.790417  13.250917  23.254167         20400.0         99.784637   \n",
              "3  15.471333  13.457167  23.261667         25800.0        100.000000   \n",
              "4  15.160417  13.235250  23.358333         25000.0        100.000000   \n",
              "\n",
              "   utilized_per_acre  avg_price_pound_dollars  trees_per_acre  \n",
              "0       23599.320883                   0.0507         100.000  \n",
              "1       18867.924528                   0.0620         114.625  \n",
              "2       20381.231672                   0.0821         129.250  \n",
              "3       25761.772853                   0.0840         143.875  \n",
              "4       25013.850416                   0.0930         158.500  "
            ],
            "text/html": [
              "\n",
              "  <div id=\"df-c88c4781-138f-47b4-bf5a-1a8857dbe8c6\">\n",
              "    <div class=\"colab-df-container\">\n",
              "      <div>\n",
              "<style scoped>\n",
              "    .dataframe tbody tr th:only-of-type {\n",
              "        vertical-align: middle;\n",
              "    }\n",
              "\n",
              "    .dataframe tbody tr th {\n",
              "        vertical-align: top;\n",
              "    }\n",
              "\n",
              "    .dataframe thead th {\n",
              "        text-align: right;\n",
              "    }\n",
              "</style>\n",
              "<table border=\"1\" class=\"dataframe\">\n",
              "  <thead>\n",
              "    <tr style=\"text-align: right;\">\n",
              "      <th></th>\n",
              "      <th>year</th>\n",
              "      <th>ppt</th>\n",
              "      <th>tmin</th>\n",
              "      <th>tmean</th>\n",
              "      <th>tmax</th>\n",
              "      <th>tdewmean</th>\n",
              "      <th>vpdmin</th>\n",
              "      <th>vpdmax</th>\n",
              "      <th>vpddiff</th>\n",
              "      <th>tdiff</th>\n",
              "      <th>yield_acre_lbs</th>\n",
              "      <th>percent_utilized</th>\n",
              "      <th>utilized_per_acre</th>\n",
              "      <th>avg_price_pound_dollars</th>\n",
              "      <th>trees_per_acre</th>\n",
              "    </tr>\n",
              "  </thead>\n",
              "  <tbody>\n",
              "    <tr>\n",
              "      <th>0</th>\n",
              "      <td>1970</td>\n",
              "      <td>144.62</td>\n",
              "      <td>36.515833</td>\n",
              "      <td>48.256667</td>\n",
              "      <td>59.994167</td>\n",
              "      <td>31.793333</td>\n",
              "      <td>1.726083</td>\n",
              "      <td>15.529917</td>\n",
              "      <td>13.803833</td>\n",
              "      <td>23.478333</td>\n",
              "      <td>23600.0</td>\n",
              "      <td>99.856322</td>\n",
              "      <td>23599.320883</td>\n",
              "      <td>0.0507</td>\n",
              "      <td>100.000</td>\n",
              "    </tr>\n",
              "    <tr>\n",
              "      <th>1</th>\n",
              "      <td>1971</td>\n",
              "      <td>157.63</td>\n",
              "      <td>36.100000</td>\n",
              "      <td>47.832500</td>\n",
              "      <td>59.564167</td>\n",
              "      <td>32.140833</td>\n",
              "      <td>1.498333</td>\n",
              "      <td>14.965500</td>\n",
              "      <td>13.467167</td>\n",
              "      <td>23.464167</td>\n",
              "      <td>19000.0</td>\n",
              "      <td>99.502488</td>\n",
              "      <td>18867.924528</td>\n",
              "      <td>0.0620</td>\n",
              "      <td>114.625</td>\n",
              "    </tr>\n",
              "    <tr>\n",
              "      <th>2</th>\n",
              "      <td>1972</td>\n",
              "      <td>160.07</td>\n",
              "      <td>35.936667</td>\n",
              "      <td>47.560000</td>\n",
              "      <td>59.190833</td>\n",
              "      <td>31.820000</td>\n",
              "      <td>1.539500</td>\n",
              "      <td>14.790417</td>\n",
              "      <td>13.250917</td>\n",
              "      <td>23.254167</td>\n",
              "      <td>20400.0</td>\n",
              "      <td>99.784637</td>\n",
              "      <td>20381.231672</td>\n",
              "      <td>0.0821</td>\n",
              "      <td>129.250</td>\n",
              "    </tr>\n",
              "    <tr>\n",
              "      <th>3</th>\n",
              "      <td>1973</td>\n",
              "      <td>151.75</td>\n",
              "      <td>37.214167</td>\n",
              "      <td>48.848333</td>\n",
              "      <td>60.475833</td>\n",
              "      <td>31.831667</td>\n",
              "      <td>2.014167</td>\n",
              "      <td>15.471333</td>\n",
              "      <td>13.457167</td>\n",
              "      <td>23.261667</td>\n",
              "      <td>25800.0</td>\n",
              "      <td>100.000000</td>\n",
              "      <td>25761.772853</td>\n",
              "      <td>0.0840</td>\n",
              "      <td>143.875</td>\n",
              "    </tr>\n",
              "    <tr>\n",
              "      <th>4</th>\n",
              "      <td>1974</td>\n",
              "      <td>143.71</td>\n",
              "      <td>37.306667</td>\n",
              "      <td>48.983333</td>\n",
              "      <td>60.665000</td>\n",
              "      <td>32.799167</td>\n",
              "      <td>1.925167</td>\n",
              "      <td>15.160417</td>\n",
              "      <td>13.235250</td>\n",
              "      <td>23.358333</td>\n",
              "      <td>25000.0</td>\n",
              "      <td>100.000000</td>\n",
              "      <td>25013.850416</td>\n",
              "      <td>0.0930</td>\n",
              "      <td>158.500</td>\n",
              "    </tr>\n",
              "  </tbody>\n",
              "</table>\n",
              "</div>\n",
              "      <button class=\"colab-df-convert\" onclick=\"convertToInteractive('df-c88c4781-138f-47b4-bf5a-1a8857dbe8c6')\"\n",
              "              title=\"Convert this dataframe to an interactive table.\"\n",
              "              style=\"display:none;\">\n",
              "        \n",
              "  <svg xmlns=\"http://www.w3.org/2000/svg\" height=\"24px\"viewBox=\"0 0 24 24\"\n",
              "       width=\"24px\">\n",
              "    <path d=\"M0 0h24v24H0V0z\" fill=\"none\"/>\n",
              "    <path d=\"M18.56 5.44l.94 2.06.94-2.06 2.06-.94-2.06-.94-.94-2.06-.94 2.06-2.06.94zm-11 1L8.5 8.5l.94-2.06 2.06-.94-2.06-.94L8.5 2.5l-.94 2.06-2.06.94zm10 10l.94 2.06.94-2.06 2.06-.94-2.06-.94-.94-2.06-.94 2.06-2.06.94z\"/><path d=\"M17.41 7.96l-1.37-1.37c-.4-.4-.92-.59-1.43-.59-.52 0-1.04.2-1.43.59L10.3 9.45l-7.72 7.72c-.78.78-.78 2.05 0 2.83L4 21.41c.39.39.9.59 1.41.59.51 0 1.02-.2 1.41-.59l7.78-7.78 2.81-2.81c.8-.78.8-2.07 0-2.86zM5.41 20L4 18.59l7.72-7.72 1.47 1.35L5.41 20z\"/>\n",
              "  </svg>\n",
              "      </button>\n",
              "      \n",
              "  <style>\n",
              "    .colab-df-container {\n",
              "      display:flex;\n",
              "      flex-wrap:wrap;\n",
              "      gap: 12px;\n",
              "    }\n",
              "\n",
              "    .colab-df-convert {\n",
              "      background-color: #E8F0FE;\n",
              "      border: none;\n",
              "      border-radius: 50%;\n",
              "      cursor: pointer;\n",
              "      display: none;\n",
              "      fill: #1967D2;\n",
              "      height: 32px;\n",
              "      padding: 0 0 0 0;\n",
              "      width: 32px;\n",
              "    }\n",
              "\n",
              "    .colab-df-convert:hover {\n",
              "      background-color: #E2EBFA;\n",
              "      box-shadow: 0px 1px 2px rgba(60, 64, 67, 0.3), 0px 1px 3px 1px rgba(60, 64, 67, 0.15);\n",
              "      fill: #174EA6;\n",
              "    }\n",
              "\n",
              "    [theme=dark] .colab-df-convert {\n",
              "      background-color: #3B4455;\n",
              "      fill: #D2E3FC;\n",
              "    }\n",
              "\n",
              "    [theme=dark] .colab-df-convert:hover {\n",
              "      background-color: #434B5C;\n",
              "      box-shadow: 0px 1px 3px 1px rgba(0, 0, 0, 0.15);\n",
              "      filter: drop-shadow(0px 1px 2px rgba(0, 0, 0, 0.3));\n",
              "      fill: #FFFFFF;\n",
              "    }\n",
              "  </style>\n",
              "\n",
              "      <script>\n",
              "        const buttonEl =\n",
              "          document.querySelector('#df-c88c4781-138f-47b4-bf5a-1a8857dbe8c6 button.colab-df-convert');\n",
              "        buttonEl.style.display =\n",
              "          google.colab.kernel.accessAllowed ? 'block' : 'none';\n",
              "\n",
              "        async function convertToInteractive(key) {\n",
              "          const element = document.querySelector('#df-c88c4781-138f-47b4-bf5a-1a8857dbe8c6');\n",
              "          const dataTable =\n",
              "            await google.colab.kernel.invokeFunction('convertToInteractive',\n",
              "                                                     [key], {});\n",
              "          if (!dataTable) return;\n",
              "\n",
              "          const docLinkHtml = 'Like what you see? Visit the ' +\n",
              "            '<a target=\"_blank\" href=https://colab.research.google.com/notebooks/data_table.ipynb>data table notebook</a>'\n",
              "            + ' to learn more about interactive tables.';\n",
              "          element.innerHTML = '';\n",
              "          dataTable['output_type'] = 'display_data';\n",
              "          await google.colab.output.renderOutput(dataTable, element);\n",
              "          const docLink = document.createElement('div');\n",
              "          docLink.innerHTML = docLinkHtml;\n",
              "          element.appendChild(docLink);\n",
              "        }\n",
              "      </script>\n",
              "    </div>\n",
              "  </div>\n",
              "  "
            ]
          },
          "metadata": {},
          "execution_count": 3
        }
      ],
      "source": [
        "# data\n",
        "df =  pd.read_csv('https://raw.githubusercontent.com/mckenzie-maidl/data5100-climate-agriculture/main/Cleaned%20Data/apples_years.csv')\n",
        "df = df.drop(columns = 'Unnamed: 0')\n",
        "df.head()"
      ]
    },
    {
      "cell_type": "code",
      "execution_count": 4,
      "metadata": {
        "colab": {
          "base_uri": "https://localhost:8080/",
          "height": 270
        },
        "id": "-VAgDEs5WRAK",
        "outputId": "6ce563f9-ef14-435c-e6bd-c1e6816c778d"
      },
      "outputs": [
        {
          "output_type": "execute_result",
          "data": {
            "text/plain": [
              "   year     ppt       tmin      tmean       tmax   tdewmean    vpdmin  \\\n",
              "0  1970  144.62  36.515833  48.256667  59.994167  31.793333  1.726083   \n",
              "1  1971  157.63  36.100000  47.832500  59.564167  32.140833  1.498333   \n",
              "2  1972  160.07  35.936667  47.560000  59.190833  31.820000  1.539500   \n",
              "3  1973  151.75  37.214167  48.848333  60.475833  31.831667  2.014167   \n",
              "4  1974  143.71  37.306667  48.983333  60.665000  32.799167  1.925167   \n",
              "\n",
              "      vpdmax    vpddiff      tdiff  yield_acre_lbs  percent_utilized  \\\n",
              "0  15.529917  13.803833  23.478333         23600.0         99.856322   \n",
              "1  14.965500  13.467167  23.464167         19000.0         99.502488   \n",
              "2  14.790417  13.250917  23.254167         20400.0         99.784637   \n",
              "3  15.471333  13.457167  23.261667         25800.0        100.000000   \n",
              "4  15.160417  13.235250  23.358333         25000.0        100.000000   \n",
              "\n",
              "   utilized_per_acre  avg_price_pound_dollars  trees_per_acre  all_utilized  \n",
              "0       23599.320883                   0.0507         100.000             0  \n",
              "1       18867.924528                   0.0620         114.625             0  \n",
              "2       20381.231672                   0.0821         129.250             0  \n",
              "3       25761.772853                   0.0840         143.875             1  \n",
              "4       25013.850416                   0.0930         158.500             1  "
            ],
            "text/html": [
              "\n",
              "  <div id=\"df-b3220b26-94b5-446d-a007-324a47162962\">\n",
              "    <div class=\"colab-df-container\">\n",
              "      <div>\n",
              "<style scoped>\n",
              "    .dataframe tbody tr th:only-of-type {\n",
              "        vertical-align: middle;\n",
              "    }\n",
              "\n",
              "    .dataframe tbody tr th {\n",
              "        vertical-align: top;\n",
              "    }\n",
              "\n",
              "    .dataframe thead th {\n",
              "        text-align: right;\n",
              "    }\n",
              "</style>\n",
              "<table border=\"1\" class=\"dataframe\">\n",
              "  <thead>\n",
              "    <tr style=\"text-align: right;\">\n",
              "      <th></th>\n",
              "      <th>year</th>\n",
              "      <th>ppt</th>\n",
              "      <th>tmin</th>\n",
              "      <th>tmean</th>\n",
              "      <th>tmax</th>\n",
              "      <th>tdewmean</th>\n",
              "      <th>vpdmin</th>\n",
              "      <th>vpdmax</th>\n",
              "      <th>vpddiff</th>\n",
              "      <th>tdiff</th>\n",
              "      <th>yield_acre_lbs</th>\n",
              "      <th>percent_utilized</th>\n",
              "      <th>utilized_per_acre</th>\n",
              "      <th>avg_price_pound_dollars</th>\n",
              "      <th>trees_per_acre</th>\n",
              "      <th>all_utilized</th>\n",
              "    </tr>\n",
              "  </thead>\n",
              "  <tbody>\n",
              "    <tr>\n",
              "      <th>0</th>\n",
              "      <td>1970</td>\n",
              "      <td>144.62</td>\n",
              "      <td>36.515833</td>\n",
              "      <td>48.256667</td>\n",
              "      <td>59.994167</td>\n",
              "      <td>31.793333</td>\n",
              "      <td>1.726083</td>\n",
              "      <td>15.529917</td>\n",
              "      <td>13.803833</td>\n",
              "      <td>23.478333</td>\n",
              "      <td>23600.0</td>\n",
              "      <td>99.856322</td>\n",
              "      <td>23599.320883</td>\n",
              "      <td>0.0507</td>\n",
              "      <td>100.000</td>\n",
              "      <td>0</td>\n",
              "    </tr>\n",
              "    <tr>\n",
              "      <th>1</th>\n",
              "      <td>1971</td>\n",
              "      <td>157.63</td>\n",
              "      <td>36.100000</td>\n",
              "      <td>47.832500</td>\n",
              "      <td>59.564167</td>\n",
              "      <td>32.140833</td>\n",
              "      <td>1.498333</td>\n",
              "      <td>14.965500</td>\n",
              "      <td>13.467167</td>\n",
              "      <td>23.464167</td>\n",
              "      <td>19000.0</td>\n",
              "      <td>99.502488</td>\n",
              "      <td>18867.924528</td>\n",
              "      <td>0.0620</td>\n",
              "      <td>114.625</td>\n",
              "      <td>0</td>\n",
              "    </tr>\n",
              "    <tr>\n",
              "      <th>2</th>\n",
              "      <td>1972</td>\n",
              "      <td>160.07</td>\n",
              "      <td>35.936667</td>\n",
              "      <td>47.560000</td>\n",
              "      <td>59.190833</td>\n",
              "      <td>31.820000</td>\n",
              "      <td>1.539500</td>\n",
              "      <td>14.790417</td>\n",
              "      <td>13.250917</td>\n",
              "      <td>23.254167</td>\n",
              "      <td>20400.0</td>\n",
              "      <td>99.784637</td>\n",
              "      <td>20381.231672</td>\n",
              "      <td>0.0821</td>\n",
              "      <td>129.250</td>\n",
              "      <td>0</td>\n",
              "    </tr>\n",
              "    <tr>\n",
              "      <th>3</th>\n",
              "      <td>1973</td>\n",
              "      <td>151.75</td>\n",
              "      <td>37.214167</td>\n",
              "      <td>48.848333</td>\n",
              "      <td>60.475833</td>\n",
              "      <td>31.831667</td>\n",
              "      <td>2.014167</td>\n",
              "      <td>15.471333</td>\n",
              "      <td>13.457167</td>\n",
              "      <td>23.261667</td>\n",
              "      <td>25800.0</td>\n",
              "      <td>100.000000</td>\n",
              "      <td>25761.772853</td>\n",
              "      <td>0.0840</td>\n",
              "      <td>143.875</td>\n",
              "      <td>1</td>\n",
              "    </tr>\n",
              "    <tr>\n",
              "      <th>4</th>\n",
              "      <td>1974</td>\n",
              "      <td>143.71</td>\n",
              "      <td>37.306667</td>\n",
              "      <td>48.983333</td>\n",
              "      <td>60.665000</td>\n",
              "      <td>32.799167</td>\n",
              "      <td>1.925167</td>\n",
              "      <td>15.160417</td>\n",
              "      <td>13.235250</td>\n",
              "      <td>23.358333</td>\n",
              "      <td>25000.0</td>\n",
              "      <td>100.000000</td>\n",
              "      <td>25013.850416</td>\n",
              "      <td>0.0930</td>\n",
              "      <td>158.500</td>\n",
              "      <td>1</td>\n",
              "    </tr>\n",
              "  </tbody>\n",
              "</table>\n",
              "</div>\n",
              "      <button class=\"colab-df-convert\" onclick=\"convertToInteractive('df-b3220b26-94b5-446d-a007-324a47162962')\"\n",
              "              title=\"Convert this dataframe to an interactive table.\"\n",
              "              style=\"display:none;\">\n",
              "        \n",
              "  <svg xmlns=\"http://www.w3.org/2000/svg\" height=\"24px\"viewBox=\"0 0 24 24\"\n",
              "       width=\"24px\">\n",
              "    <path d=\"M0 0h24v24H0V0z\" fill=\"none\"/>\n",
              "    <path d=\"M18.56 5.44l.94 2.06.94-2.06 2.06-.94-2.06-.94-.94-2.06-.94 2.06-2.06.94zm-11 1L8.5 8.5l.94-2.06 2.06-.94-2.06-.94L8.5 2.5l-.94 2.06-2.06.94zm10 10l.94 2.06.94-2.06 2.06-.94-2.06-.94-.94-2.06-.94 2.06-2.06.94z\"/><path d=\"M17.41 7.96l-1.37-1.37c-.4-.4-.92-.59-1.43-.59-.52 0-1.04.2-1.43.59L10.3 9.45l-7.72 7.72c-.78.78-.78 2.05 0 2.83L4 21.41c.39.39.9.59 1.41.59.51 0 1.02-.2 1.41-.59l7.78-7.78 2.81-2.81c.8-.78.8-2.07 0-2.86zM5.41 20L4 18.59l7.72-7.72 1.47 1.35L5.41 20z\"/>\n",
              "  </svg>\n",
              "      </button>\n",
              "      \n",
              "  <style>\n",
              "    .colab-df-container {\n",
              "      display:flex;\n",
              "      flex-wrap:wrap;\n",
              "      gap: 12px;\n",
              "    }\n",
              "\n",
              "    .colab-df-convert {\n",
              "      background-color: #E8F0FE;\n",
              "      border: none;\n",
              "      border-radius: 50%;\n",
              "      cursor: pointer;\n",
              "      display: none;\n",
              "      fill: #1967D2;\n",
              "      height: 32px;\n",
              "      padding: 0 0 0 0;\n",
              "      width: 32px;\n",
              "    }\n",
              "\n",
              "    .colab-df-convert:hover {\n",
              "      background-color: #E2EBFA;\n",
              "      box-shadow: 0px 1px 2px rgba(60, 64, 67, 0.3), 0px 1px 3px 1px rgba(60, 64, 67, 0.15);\n",
              "      fill: #174EA6;\n",
              "    }\n",
              "\n",
              "    [theme=dark] .colab-df-convert {\n",
              "      background-color: #3B4455;\n",
              "      fill: #D2E3FC;\n",
              "    }\n",
              "\n",
              "    [theme=dark] .colab-df-convert:hover {\n",
              "      background-color: #434B5C;\n",
              "      box-shadow: 0px 1px 3px 1px rgba(0, 0, 0, 0.15);\n",
              "      filter: drop-shadow(0px 1px 2px rgba(0, 0, 0, 0.3));\n",
              "      fill: #FFFFFF;\n",
              "    }\n",
              "  </style>\n",
              "\n",
              "      <script>\n",
              "        const buttonEl =\n",
              "          document.querySelector('#df-b3220b26-94b5-446d-a007-324a47162962 button.colab-df-convert');\n",
              "        buttonEl.style.display =\n",
              "          google.colab.kernel.accessAllowed ? 'block' : 'none';\n",
              "\n",
              "        async function convertToInteractive(key) {\n",
              "          const element = document.querySelector('#df-b3220b26-94b5-446d-a007-324a47162962');\n",
              "          const dataTable =\n",
              "            await google.colab.kernel.invokeFunction('convertToInteractive',\n",
              "                                                     [key], {});\n",
              "          if (!dataTable) return;\n",
              "\n",
              "          const docLinkHtml = 'Like what you see? Visit the ' +\n",
              "            '<a target=\"_blank\" href=https://colab.research.google.com/notebooks/data_table.ipynb>data table notebook</a>'\n",
              "            + ' to learn more about interactive tables.';\n",
              "          element.innerHTML = '';\n",
              "          dataTable['output_type'] = 'display_data';\n",
              "          await google.colab.output.renderOutput(dataTable, element);\n",
              "          const docLink = document.createElement('div');\n",
              "          docLink.innerHTML = docLinkHtml;\n",
              "          element.appendChild(docLink);\n",
              "        }\n",
              "      </script>\n",
              "    </div>\n",
              "  </div>\n",
              "  "
            ]
          },
          "metadata": {},
          "execution_count": 4
        }
      ],
      "source": [
        "# new field\n",
        "df['all_utilized'] = np.where(df['percent_utilized'] < 100.000000, 0, 1)\n",
        "df.head()"
      ]
    },
    {
      "cell_type": "markdown",
      "metadata": {
        "id": "QA6u0RdBHfoP"
      },
      "source": [
        "### Using All Variables"
      ]
    },
    {
      "cell_type": "code",
      "execution_count": 5,
      "metadata": {
        "id": "arbLeEwEXVSY"
      },
      "outputs": [],
      "source": [
        "# test / train\n",
        "\n",
        "# predictors (X) / response (y) = all_utilized\n",
        "X = df.loc[:, ~df.columns.isin(['year','yield_acre_lbs','percent_utilized','utilized_per_acre','avg_price_pound_dollars','trees_per_acre','all_utilized'])]\n",
        "y = df['all_utilized']\n",
        "\n",
        "# training and test splits of the data (test = 20%)\n",
        "X_train, X_test, y_train, y_test = train_test_split(X, y, test_size = .2, random_state = 1)"
      ]
    },
    {
      "cell_type": "code",
      "execution_count": 6,
      "metadata": {
        "colab": {
          "base_uri": "https://localhost:8080/"
        },
        "id": "-hTYeJsHXXyU",
        "outputId": "a56a0a31-a712-45a2-d9dc-710e86e0bf56"
      },
      "outputs": [
        {
          "output_type": "stream",
          "name": "stderr",
          "text": [
            "/usr/local/lib/python3.8/dist-packages/sklearn/linear_model/_logistic.py:814: ConvergenceWarning: lbfgs failed to converge (status=1):\n",
            "STOP: TOTAL NO. of ITERATIONS REACHED LIMIT.\n",
            "\n",
            "Increase the number of iterations (max_iter) or scale the data as shown in:\n",
            "    https://scikit-learn.org/stable/modules/preprocessing.html\n",
            "Please also refer to the documentation for alternative solver options:\n",
            "    https://scikit-learn.org/stable/modules/linear_model.html#logistic-regression\n",
            "  n_iter_i = _check_optimize_result(\n",
            "/usr/local/lib/python3.8/dist-packages/sklearn/linear_model/_logistic.py:814: ConvergenceWarning: lbfgs failed to converge (status=1):\n",
            "STOP: TOTAL NO. of ITERATIONS REACHED LIMIT.\n",
            "\n",
            "Increase the number of iterations (max_iter) or scale the data as shown in:\n",
            "    https://scikit-learn.org/stable/modules/preprocessing.html\n",
            "Please also refer to the documentation for alternative solver options:\n",
            "    https://scikit-learn.org/stable/modules/linear_model.html#logistic-regression\n",
            "  n_iter_i = _check_optimize_result(\n"
          ]
        }
      ],
      "source": [
        "# instantiate and fit the logistic regression model\n",
        "log_reg_all = LogisticRegression(penalty = 'none').fit(X_train, y_train).fit(X_train, y_train)\n",
        "#log_reg_all_sm = sm.Logit(y_train, sm.add_constant(X_train)).fit() #produces error"
      ]
    },
    {
      "cell_type": "markdown",
      "metadata": {
        "id": "Oaur47OCH9MA"
      },
      "source": [
        "### Random Forest"
      ]
    },
    {
      "cell_type": "code",
      "execution_count": 7,
      "metadata": {
        "colab": {
          "base_uri": "https://localhost:8080/"
        },
        "id": "Uh1Gleu0IBAG",
        "outputId": "ba81c6d6-fc79-4a78-c8d7-f8f885dbaf74"
      },
      "outputs": [
        {
          "output_type": "stream",
          "name": "stdout",
          "text": [
            "Fitting 5 folds for each of 200 candidates, totalling 1000 fits\n"
          ]
        },
        {
          "output_type": "stream",
          "name": "stderr",
          "text": [
            "/usr/local/lib/python3.8/dist-packages/sklearn/model_selection/_validation.py:372: FitFailedWarning: \n",
            "135 fits failed out of a total of 1000.\n",
            "The score on these train-test partitions for these parameters will be set to nan.\n",
            "If these failures are not expected, you can try to debug them by setting error_score='raise'.\n",
            "\n",
            "Below are more details about the failures:\n",
            "--------------------------------------------------------------------------------\n",
            "60 fits failed with the following error:\n",
            "Traceback (most recent call last):\n",
            "  File \"/usr/local/lib/python3.8/dist-packages/sklearn/model_selection/_validation.py\", line 680, in _fit_and_score\n",
            "    estimator.fit(X_train, y_train, **fit_params)\n",
            "  File \"/usr/local/lib/python3.8/dist-packages/sklearn/ensemble/_forest.py\", line 450, in fit\n",
            "    trees = Parallel(\n",
            "  File \"/usr/local/lib/python3.8/dist-packages/joblib/parallel.py\", line 1085, in __call__\n",
            "    if self.dispatch_one_batch(iterator):\n",
            "  File \"/usr/local/lib/python3.8/dist-packages/joblib/parallel.py\", line 901, in dispatch_one_batch\n",
            "    self._dispatch(tasks)\n",
            "  File \"/usr/local/lib/python3.8/dist-packages/joblib/parallel.py\", line 819, in _dispatch\n",
            "    job = self._backend.apply_async(batch, callback=cb)\n",
            "  File \"/usr/local/lib/python3.8/dist-packages/joblib/_parallel_backends.py\", line 208, in apply_async\n",
            "    result = ImmediateResult(func)\n",
            "  File \"/usr/local/lib/python3.8/dist-packages/joblib/_parallel_backends.py\", line 597, in __init__\n",
            "    self.results = batch()\n",
            "  File \"/usr/local/lib/python3.8/dist-packages/joblib/parallel.py\", line 288, in __call__\n",
            "    return [func(*args, **kwargs)\n",
            "  File \"/usr/local/lib/python3.8/dist-packages/joblib/parallel.py\", line 288, in <listcomp>\n",
            "    return [func(*args, **kwargs)\n",
            "  File \"/usr/local/lib/python3.8/dist-packages/sklearn/utils/fixes.py\", line 216, in __call__\n",
            "    return self.function(*args, **kwargs)\n",
            "  File \"/usr/local/lib/python3.8/dist-packages/sklearn/ensemble/_forest.py\", line 185, in _parallel_build_trees\n",
            "    tree.fit(X, y, sample_weight=curr_sample_weight, check_input=False)\n",
            "  File \"/usr/local/lib/python3.8/dist-packages/sklearn/tree/_classes.py\", line 937, in fit\n",
            "    super().fit(\n",
            "  File \"/usr/local/lib/python3.8/dist-packages/sklearn/tree/_classes.py\", line 306, in fit\n",
            "    raise ValueError(\"max_depth must be greater than zero. \")\n",
            "ValueError: max_depth must be greater than zero. \n",
            "\n",
            "--------------------------------------------------------------------------------\n",
            "75 fits failed with the following error:\n",
            "Traceback (most recent call last):\n",
            "  File \"/usr/local/lib/python3.8/dist-packages/sklearn/model_selection/_validation.py\", line 680, in _fit_and_score\n",
            "    estimator.fit(X_train, y_train, **fit_params)\n",
            "  File \"/usr/local/lib/python3.8/dist-packages/sklearn/ensemble/_forest.py\", line 450, in fit\n",
            "    trees = Parallel(\n",
            "  File \"/usr/local/lib/python3.8/dist-packages/joblib/parallel.py\", line 1085, in __call__\n",
            "    if self.dispatch_one_batch(iterator):\n",
            "  File \"/usr/local/lib/python3.8/dist-packages/joblib/parallel.py\", line 901, in dispatch_one_batch\n",
            "    self._dispatch(tasks)\n",
            "  File \"/usr/local/lib/python3.8/dist-packages/joblib/parallel.py\", line 819, in _dispatch\n",
            "    job = self._backend.apply_async(batch, callback=cb)\n",
            "  File \"/usr/local/lib/python3.8/dist-packages/joblib/_parallel_backends.py\", line 208, in apply_async\n",
            "    result = ImmediateResult(func)\n",
            "  File \"/usr/local/lib/python3.8/dist-packages/joblib/_parallel_backends.py\", line 597, in __init__\n",
            "    self.results = batch()\n",
            "  File \"/usr/local/lib/python3.8/dist-packages/joblib/parallel.py\", line 288, in __call__\n",
            "    return [func(*args, **kwargs)\n",
            "  File \"/usr/local/lib/python3.8/dist-packages/joblib/parallel.py\", line 288, in <listcomp>\n",
            "    return [func(*args, **kwargs)\n",
            "  File \"/usr/local/lib/python3.8/dist-packages/sklearn/utils/fixes.py\", line 216, in __call__\n",
            "    return self.function(*args, **kwargs)\n",
            "  File \"/usr/local/lib/python3.8/dist-packages/sklearn/ensemble/_forest.py\", line 185, in _parallel_build_trees\n",
            "    tree.fit(X, y, sample_weight=curr_sample_weight, check_input=False)\n",
            "  File \"/usr/local/lib/python3.8/dist-packages/sklearn/tree/_classes.py\", line 937, in fit\n",
            "    super().fit(\n",
            "  File \"/usr/local/lib/python3.8/dist-packages/sklearn/tree/_classes.py\", line 235, in fit\n",
            "    raise ValueError(\n",
            "ValueError: min_samples_leaf must be at least 1 or in (0, 0.5], got 0\n",
            "\n",
            "  warnings.warn(some_fits_failed_message, FitFailedWarning)\n",
            "/usr/local/lib/python3.8/dist-packages/sklearn/model_selection/_search.py:969: UserWarning: One or more of the test scores are non-finite: [0.68333333 0.85              nan 0.825      0.85       0.85\n",
            " 0.80555556 0.65833333 0.78055556 0.68333333 0.80555556 0.68333333\n",
            " 0.75555556        nan 0.70833333 0.825      0.65833333 0.70833333\n",
            "        nan 0.80277778 0.75833333 0.78055556 0.80277778 0.75833333\n",
            " 0.68333333 0.82777778 0.70833333 0.78055556 0.80555556 0.82777778\n",
            " 0.68333333 0.75555556        nan 0.85       0.68333333 0.80277778\n",
            " 0.85       0.68333333 0.80277778 0.80277778        nan 0.73055556\n",
            " 0.78055556 0.80277778 0.68333333 0.8               nan 0.82777778\n",
            " 0.8        0.70833333 0.65833333 0.85       0.80277778        nan\n",
            " 0.85       0.78055556 0.70833333 0.65833333 0.80277778        nan\n",
            " 0.78055556 0.73333333 0.78055556 0.75833333        nan 0.70833333\n",
            "        nan        nan 0.68333333        nan 0.65833333 0.82777778\n",
            " 0.85       0.85       0.85       0.78055556 0.825      0.68333333\n",
            " 0.78055556 0.825      0.65833333 0.80277778 0.80555556 0.8\n",
            " 0.68333333 0.68333333 0.78055556 0.85       0.85       0.65833333\n",
            " 0.85       0.70833333 0.65833333 0.78055556 0.75833333 0.825\n",
            " 0.82777778 0.65833333        nan 0.825      0.82777778 0.85\n",
            " 0.80277778 0.65833333        nan 0.85       0.70833333 0.75833333\n",
            " 0.68333333 0.825             nan 0.85       0.825      0.825\n",
            " 0.80277778 0.75833333        nan 0.825             nan 0.75555556\n",
            " 0.80277778        nan        nan 0.73333333 0.85       0.78055556\n",
            " 0.85       0.80555556 0.85       0.70833333 0.85       0.78055556\n",
            " 0.65833333 0.70833333 0.78055556 0.76111111 0.68333333        nan\n",
            " 0.85       0.85       0.75833333        nan 0.85       0.82777778\n",
            " 0.85       0.68333333 0.80555556 0.75833333        nan 0.80277778\n",
            " 0.825      0.82777778 0.70833333 0.85       0.80277778 0.85\n",
            " 0.85       0.82777778 0.80555556 0.85       0.82777778 0.73333333\n",
            " 0.78055556 0.75833333 0.77777778 0.78333333 0.80277778 0.825\n",
            " 0.82777778 0.70833333 0.825      0.68333333 0.73333333 0.78055556\n",
            " 0.78055556 0.70833333 0.80277778 0.75277778 0.85       0.75833333\n",
            " 0.80555556 0.78055556 0.78055556 0.80277778        nan 0.825\n",
            " 0.825             nan        nan 0.85              nan 0.85\n",
            " 0.75555556 0.80555556 0.77777778 0.85       0.73333333 0.80555556\n",
            " 0.75833333        nan]\n",
            "  warnings.warn(\n",
            "/usr/local/lib/python3.8/dist-packages/sklearn/model_selection/_search.py:969: UserWarning: One or more of the train scores are non-finite: [0.80435606 0.89015152        nan 0.92689394 0.88409091 0.8594697\n",
            " 1.         0.80435606 1.         0.81647727 0.90246212 0.82253788\n",
            " 0.99393939        nan 0.80435606 0.8657197  0.81041667 0.79223485\n",
            "        nan 0.84715909 1.         0.91458333 0.92689394 0.83484848\n",
            " 0.81647727 0.8657197  0.82253788 1.         0.96969697 0.8592803\n",
            " 0.77405303 0.83465909        nan 0.88409091 0.81041667 0.83484848\n",
            " 0.84109848 0.81041667 0.8657197  0.91477273        nan 1.\n",
            " 0.95757576 0.84090909 0.81666667 0.82897727        nan 0.95113636\n",
            " 0.84109848 0.80435606 0.79223485 0.90265152 0.89640152        nan\n",
            " 0.8655303  0.96950758 0.82253788 0.80435606 0.92083333        nan\n",
            " 0.91477273 0.82859848 0.98181818 0.95113636        nan 0.79829545\n",
            "        nan        nan 0.77405303        nan 0.80435606 0.93314394\n",
            " 0.88390152 0.88409091 0.89640152 0.99393939 0.88409091 0.80435606\n",
            " 0.98162879 0.8780303  0.81041667 0.90871212 0.92064394 0.8532197\n",
            " 0.79223485 0.82859848 0.95113636 0.8657197  0.8657197  0.80435606\n",
            " 0.87784091 0.81647727 0.77405303 0.90227273 1.         0.8717803\n",
            " 0.8717803  0.79223485        nan 0.85965909 0.93920455 0.84090909\n",
            " 0.91477273 0.82253788        nan 0.84715909 0.77405303 1.\n",
            " 0.79829545 0.82916667        nan 0.8717803  0.85359848 0.8657197\n",
            " 0.84109848 0.84715909        nan 0.8657197         nan 1.\n",
            " 0.8655303         nan        nan 0.81647727 0.85359848 0.94507576\n",
            " 0.8717803  0.98162879 0.88390152 0.79223485 0.87784091 0.96325758\n",
            " 0.79829545 0.78617424 0.82859848 0.98787879 0.81041667        nan\n",
            " 0.88996212 0.88996212 1.                nan 0.85340909 0.90852273\n",
            " 0.8717803  0.82859848 0.96969697 0.95132576        nan 0.84109848\n",
            " 0.8657197  0.93295455 0.79829545 0.8657197  0.85965909 0.87784091\n",
            " 0.88390152 0.95113636 0.96363636 0.89602273 0.95719697 0.82859848\n",
            " 0.95113636 0.82859848 0.8532197  0.94507576 0.95738636 0.8717803\n",
            " 0.93295455 0.79829545 0.85340909 0.81041667 0.81647727 1.\n",
            " 0.92083333 0.79829545 0.90852273 0.82897727 0.88409091 0.98787879\n",
            " 0.95757576 1.         0.95113636 0.83503788        nan 0.8717803\n",
            " 0.92083333        nan        nan 0.88390152        nan 0.8657197\n",
            " 0.95113636 1.         0.87159091 0.89640152 0.81647727 0.90227273\n",
            " 0.98787879        nan]\n",
            "  warnings.warn(\n"
          ]
        },
        {
          "output_type": "execute_result",
          "data": {
            "text/plain": [
              "RandomizedSearchCV(cv=5, estimator=RandomForestClassifier(), n_iter=200,\n",
              "                   n_jobs=1,\n",
              "                   param_distributions={'max_depth': <scipy.stats._distn_infrastructure.rv_frozen object at 0x7f05d4ecfa90>,\n",
              "                                        'min_samples_leaf': <scipy.stats._distn_infrastructure.rv_frozen object at 0x7f05d4f57d60>,\n",
              "                                        'min_samples_split': <scipy.stats._distn_infrastructure.rv_frozen object at 0x7f05f125f940>,\n",
              "                                        'n_estimators': <scipy.stats._distn_infrastructure.rv_frozen object at 0x7f05d4ecf730>},\n",
              "                   return_train_score=True, verbose=1)"
            ]
          },
          "metadata": {},
          "execution_count": 7
        }
      ],
      "source": [
        "rf_model = RandomForestClassifier()\n",
        "\n",
        "params = {\n",
        "    \"n_estimators\": randint(75, 150),\n",
        "    \"max_depth\": randint(0, 10),\n",
        "    \"min_samples_leaf\": randint(0, 10), \n",
        "    \"min_samples_split\": randint(2, 5) \n",
        "}\n",
        "\n",
        "search = RandomizedSearchCV(rf_model, param_distributions=params, n_iter=200, cv=5, verbose=1, n_jobs=1, return_train_score=True)\n",
        "\n",
        "search.fit(X_train, y_train)"
      ]
    },
    {
      "cell_type": "code",
      "execution_count": 8,
      "metadata": {
        "colab": {
          "base_uri": "https://localhost:8080/"
        },
        "id": "ZnUvFZngJBy8",
        "outputId": "f6432b1c-bed3-4aa0-e94d-35b3a44fef9f"
      },
      "outputs": [
        {
          "output_type": "execute_result",
          "data": {
            "text/plain": [
              "{'max_depth': 6,\n",
              " 'min_samples_leaf': 4,\n",
              " 'min_samples_split': 3,\n",
              " 'n_estimators': 117}"
            ]
          },
          "metadata": {},
          "execution_count": 8
        }
      ],
      "source": [
        "best = search.best_params_\n",
        "best"
      ]
    },
    {
      "cell_type": "code",
      "execution_count": 9,
      "metadata": {
        "colab": {
          "base_uri": "https://localhost:8080/"
        },
        "id": "vs0VQjXZJLbG",
        "outputId": "3a50fd25-ce89-4778-d073-cf173e8c1a59"
      },
      "outputs": [
        {
          "output_type": "execute_result",
          "data": {
            "text/plain": [
              "array([1, 1, 1, 1, 1, 0, 0, 1, 0, 1, 1])"
            ]
          },
          "metadata": {},
          "execution_count": 9
        }
      ],
      "source": [
        "# fit a random forest classifier model to the training data using all predictors\n",
        "model_rf = RandomForestClassifier(n_estimators = best['n_estimators'], min_samples_leaf = best['min_samples_leaf'], \n",
        "                                  min_samples_split = best['min_samples_split'], max_depth = best['max_depth'])\n",
        "model_rf.fit(X_train, y_train)\n",
        "\n",
        "# predict for the test data\n",
        "pred_rf = model_rf.predict(X_test)\n",
        "pred_rf"
      ]
    },
    {
      "cell_type": "code",
      "execution_count": 10,
      "metadata": {
        "colab": {
          "base_uri": "https://localhost:8080/",
          "height": 0
        },
        "id": "WKGRCjCEJpGQ",
        "outputId": "da5f8172-b599-4fc9-b0cb-2ad91c253409"
      },
      "outputs": [
        {
          "output_type": "display_data",
          "data": {
            "text/plain": [
              "<Figure size 432x288 with 1 Axes>"
            ],
            "image/png": "[encoded data removed]"
          },
          "metadata": {}
        }
      ],
      "source": [
        "# show the confusion matrix to visualize the errors\n",
        "mat_rf = confusion_matrix(y_test, pred_rf)\n",
        "\n",
        "class_names = ['All Utilized', 'Not All Utilized']\n",
        "sns.heatmap(mat_rf.T, square=True, annot=True, cbar=False, xticklabels=class_names, yticklabels=class_names)\n",
        "plt.xlabel('true label')\n",
        "plt.ylabel('predicted label');"
      ]
    },
    {
      "cell_type": "code",
      "execution_count": 11,
      "metadata": {
        "colab": {
          "base_uri": "https://localhost:8080/",
          "height": 0
        },
        "id": "XVF-rznuJ1Tf",
        "outputId": "30b2ee90-470e-46ab-b9d4-a55ee9446224"
      },
      "outputs": [
        {
          "output_type": "execute_result",
          "data": {
            "text/plain": [
              "<graphviz.files.Source at 0x7f05d4d07c40>"
            ],
            "image/svg+xml": "<?xml version=\"1.0\" encoding=\"UTF-8\" standalone=\"no\"?>\n<!DOCTYPE svg PUBLIC \"-//W3C//DTD SVG 1.1//EN\"\n \"http://www.w3.org/Graphics/SVG/1.1/DTD/svg11.dtd\">\n<!-- Generated by graphviz version 2.40.1 (20161225.0304)\n -->\n<!-- Title: Tree Pages: 1 -->\n<svg width=\"299pt\" height=\"269pt\"\n viewBox=\"0.00 0.00 299.00 269.00\" xmlns=\"http://www.w3.org/2000/svg\" xmlns:xlink=\"http://www.w3.org/1999/xlink\">\n<g id=\"graph0\" class=\"graph\" transform=\"scale(1 1) rotate(0) translate(4 265)\">\n<title>Tree</title>\n<polygon fill=\"#ffffff\" stroke=\"transparent\" points=\"-4,4 -4,-265 295,-265 295,4 -4,4\"/>\n<!-- 0 -->\n<g id=\"node1\" class=\"node\">\n<title>0</title>\n<polygon fill=\"none\" stroke=\"#000000\" points=\"173.5,-261 57.5,-261 57.5,-193 173.5,-193 173.5,-261\"/>\n<text text-anchor=\"middle\" x=\"115.5\" y=\"-245.8\" font-family=\"Helvetica,sans-Serif\" font-size=\"14.00\" fill=\"#000000\">tdiff &lt;= 22.12</text>\n<text text-anchor=\"middle\" x=\"115.5\" y=\"-230.8\" font-family=\"Helvetica,sans-Serif\" font-size=\"14.00\" fill=\"#000000\">gini = 0.414</text>\n<text text-anchor=\"middle\" x=\"115.5\" y=\"-215.8\" font-family=\"Helvetica,sans-Serif\" font-size=\"14.00\" fill=\"#000000\">samples = 27</text>\n<text text-anchor=\"middle\" x=\"115.5\" y=\"-200.8\" font-family=\"Helvetica,sans-Serif\" font-size=\"14.00\" fill=\"#000000\">value = [12, 29]</text>\n</g>\n<!-- 1 -->\n<g id=\"node2\" class=\"node\">\n<title>1</title>\n<polygon fill=\"none\" stroke=\"#000000\" points=\"99,-149.5 0,-149.5 0,-96.5 99,-96.5 99,-149.5\"/>\n<text text-anchor=\"middle\" x=\"49.5\" y=\"-134.3\" font-family=\"Helvetica,sans-Serif\" font-size=\"14.00\" fill=\"#000000\">gini = 0.42</text>\n<text text-anchor=\"middle\" x=\"49.5\" y=\"-119.3\" font-family=\"Helvetica,sans-Serif\" font-size=\"14.00\" fill=\"#000000\">samples = 5</text>\n<text text-anchor=\"middle\" x=\"49.5\" y=\"-104.3\" font-family=\"Helvetica,sans-Serif\" font-size=\"14.00\" fill=\"#000000\">value = [7, 3]</text>\n</g>\n<!-- 0&#45;&gt;1 -->\n<g id=\"edge1\" class=\"edge\">\n<title>0&#45;&gt;1</title>\n<path fill=\"none\" stroke=\"#000000\" d=\"M93.8891,-192.9465C86.829,-181.8215 78.9761,-169.4473 71.8619,-158.237\"/>\n<polygon fill=\"#000000\" stroke=\"#000000\" points=\"74.6575,-156.1101 66.3441,-149.5422 68.7472,-159.8609 74.6575,-156.1101\"/>\n<text text-anchor=\"middle\" x=\"60.8904\" y=\"-170.2401\" font-family=\"Helvetica,sans-Serif\" font-size=\"14.00\" fill=\"#000000\">True</text>\n</g>\n<!-- 2 -->\n<g id=\"node3\" class=\"node\">\n<title>2</title>\n<polygon fill=\"none\" stroke=\"#000000\" points=\"245.5,-157 117.5,-157 117.5,-89 245.5,-89 245.5,-157\"/>\n<text text-anchor=\"middle\" x=\"181.5\" y=\"-141.8\" font-family=\"Helvetica,sans-Serif\" font-size=\"14.00\" fill=\"#000000\">vpddiff &lt;= 13.042</text>\n<text text-anchor=\"middle\" x=\"181.5\" y=\"-126.8\" font-family=\"Helvetica,sans-Serif\" font-size=\"14.00\" fill=\"#000000\">gini = 0.271</text>\n<text text-anchor=\"middle\" x=\"181.5\" y=\"-111.8\" font-family=\"Helvetica,sans-Serif\" font-size=\"14.00\" fill=\"#000000\">samples = 22</text>\n<text text-anchor=\"middle\" x=\"181.5\" y=\"-96.8\" font-family=\"Helvetica,sans-Serif\" font-size=\"14.00\" fill=\"#000000\">value = [5, 26]</text>\n</g>\n<!-- 0&#45;&gt;2 -->\n<g id=\"edge2\" class=\"edge\">\n<title>0&#45;&gt;2</title>\n<path fill=\"none\" stroke=\"#000000\" d=\"M137.1109,-192.9465C142.6378,-184.2373 148.6506,-174.7626 154.4146,-165.6801\"/>\n<polygon fill=\"#000000\" stroke=\"#000000\" points=\"157.4374,-167.4487 159.8406,-157.13 151.5271,-163.6979 157.4374,-167.4487\"/>\n<text text-anchor=\"middle\" x=\"165.2942\" y=\"-177.8279\" font-family=\"Helvetica,sans-Serif\" font-size=\"14.00\" fill=\"#000000\">False</text>\n</g>\n<!-- 3 -->\n<g id=\"node4\" class=\"node\">\n<title>3</title>\n<polygon fill=\"none\" stroke=\"#000000\" points=\"174,-53 67,-53 67,0 174,0 174,-53\"/>\n<text text-anchor=\"middle\" x=\"120.5\" y=\"-37.8\" font-family=\"Helvetica,sans-Serif\" font-size=\"14.00\" fill=\"#000000\">gini = 0.0</text>\n<text text-anchor=\"middle\" x=\"120.5\" y=\"-22.8\" font-family=\"Helvetica,sans-Serif\" font-size=\"14.00\" fill=\"#000000\">samples = 16</text>\n<text text-anchor=\"middle\" x=\"120.5\" y=\"-7.8\" font-family=\"Helvetica,sans-Serif\" font-size=\"14.00\" fill=\"#000000\">value = [0, 23]</text>\n</g>\n<!-- 2&#45;&gt;3 -->\n<g id=\"edge3\" class=\"edge\">\n<title>2&#45;&gt;3</title>\n<path fill=\"none\" stroke=\"#000000\" d=\"M159.9937,-88.9777C154.4369,-80.187 148.4427,-70.7044 142.8441,-61.8477\"/>\n<polygon fill=\"#000000\" stroke=\"#000000\" points=\"145.7101,-59.8312 137.4084,-53.2485 139.7931,-63.5714 145.7101,-59.8312\"/>\n</g>\n<!-- 4 -->\n<g id=\"node5\" class=\"node\">\n<title>4</title>\n<polygon fill=\"none\" stroke=\"#000000\" points=\"291,-53 192,-53 192,0 291,0 291,-53\"/>\n<text text-anchor=\"middle\" x=\"241.5\" y=\"-37.8\" font-family=\"Helvetica,sans-Serif\" font-size=\"14.00\" fill=\"#000000\">gini = 0.469</text>\n<text text-anchor=\"middle\" x=\"241.5\" y=\"-22.8\" font-family=\"Helvetica,sans-Serif\" font-size=\"14.00\" fill=\"#000000\">samples = 6</text>\n<text text-anchor=\"middle\" x=\"241.5\" y=\"-7.8\" font-family=\"Helvetica,sans-Serif\" font-size=\"14.00\" fill=\"#000000\">value = [5, 3]</text>\n</g>\n<!-- 2&#45;&gt;4 -->\n<g id=\"edge4\" class=\"edge\">\n<title>2&#45;&gt;4</title>\n<path fill=\"none\" stroke=\"#000000\" d=\"M202.6538,-88.9777C208.1195,-80.187 214.0154,-70.7044 219.5222,-61.8477\"/>\n<polygon fill=\"#000000\" stroke=\"#000000\" points=\"222.5609,-63.5889 224.8688,-53.2485 216.6163,-59.8927 222.5609,-63.5889\"/>\n</g>\n</g>\n</svg>\n"
          },
          "metadata": {},
          "execution_count": 11
        }
      ],
      "source": [
        "# plot some of the tree components\n",
        "tree_data = tree.export_graphviz(model_rf.estimators_[0], out_file=None, feature_names=X.columns) \n",
        "graph = graphviz.Source(tree_data) \n",
        "graph"
      ]
    },
    {
      "cell_type": "code",
      "execution_count": 12,
      "metadata": {
        "colab": {
          "base_uri": "https://localhost:8080/",
          "height": 0
        },
        "id": "pLkPZpwJJ7if",
        "outputId": "9080016a-81c2-4c94-cdcc-cec4ca528288"
      },
      "outputs": [
        {
          "output_type": "display_data",
          "data": {
            "text/plain": [
              "<Figure size 576x1152 with 1 Axes>"
            ],
            "image/png": "[encoded data removed]"
          },
          "metadata": {}
        }
      ],
      "source": [
        "# plot the variable importances for the random forest model\n",
        "(pd.DataFrame(dict(cols=X_train.columns, imp=model_rf.feature_importances_)).\n",
        " sort_values(by = 'imp').\n",
        " plot('cols', 'imp', 'barh', legend = False, figsize = (8,16)))\n",
        "\n",
        "plt.ylabel('')\n",
        "plt.xlabel('Variable importance', fontsize = 15)\n",
        "\n",
        "plt.tick_params(labelsize = 14);"
      ]
    },
    {
      "cell_type": "markdown",
      "metadata": {
        "id": "ojbYzaQyLwbS"
      },
      "source": [
        "### Logistic regression for most important variables in the random forest"
      ]
    },
    {
      "cell_type": "code",
      "execution_count": 13,
      "metadata": {
        "colab": {
          "base_uri": "https://localhost:8080/"
        },
        "id": "q1-LzkRLLxOE",
        "outputId": "2320eda4-b708-4a76-beeb-13ce30920a48"
      },
      "outputs": [
        {
          "output_type": "stream",
          "name": "stdout",
          "text": [
            "Optimization terminated successfully.\n",
            "         Current function value: 0.319314\n",
            "         Iterations 8\n",
            "                           Logit Regression Results                           \n",
            "==============================================================================\n",
            "Dep. Variable:           all_utilized   No. Observations:                   41\n",
            "Model:                          Logit   Df Residuals:                       37\n",
            "Method:                           MLE   Df Model:                            3\n",
            "Date:                Wed, 07 Dec 2022   Pseudo R-squ.:                  0.4718\n",
            "Time:                        23:32:12   Log-Likelihood:                -13.092\n",
            "converged:                       True   LL-Null:                       -24.786\n",
            "Covariance Type:            nonrobust   LLR p-value:                 3.352e-05\n",
            "==============================================================================\n",
            "                 coef    std err          z      P>|z|      [0.025      0.975]\n",
            "------------------------------------------------------------------------------\n",
            "const         -2.0341     30.984     -0.066      0.948     -62.761      58.693\n",
            "tmin          -3.5587      1.365     -2.607      0.009      -6.234      -0.883\n",
            "tmax           3.2171      1.369      2.349      0.019       0.533       5.901\n",
            "vpddiff       -4.4458      1.658     -2.682      0.007      -7.695      -1.197\n",
            "==============================================================================\n"
          ]
        },
        {
          "output_type": "stream",
          "name": "stderr",
          "text": [
            "/usr/local/lib/python3.8/dist-packages/statsmodels/tsa/tsatools.py:142: FutureWarning: In a future version of pandas all arguments of concat except for the argument 'objs' will be keyword-only\n",
            "  x = pd.concat(x[::order], 1)\n"
          ]
        }
      ],
      "source": [
        "# top three\n",
        "X_train2 = X_train.loc[:, model_rf.feature_importances_ >= np.sort(model_rf.feature_importances_)[-3]]\n",
        "X_test2 = X_test.loc[:, model_rf.feature_importances_ >= np.sort(model_rf.feature_importances_)[-3]]\n",
        "\n",
        "log_reg3 = sm.Logit(y_train, sm.add_constant(X_train2)).fit()\n",
        "print(log_reg3.summary())"
      ]
    },
    {
      "cell_type": "code",
      "execution_count": 14,
      "metadata": {
        "colab": {
          "base_uri": "https://localhost:8080/",
          "height": 335
        },
        "id": "-6PHnbT2RPCI",
        "outputId": "efea3de8-298f-483f-f9a2-5822a96f04a4"
      },
      "outputs": [
        {
          "output_type": "stream",
          "name": "stderr",
          "text": [
            "/usr/local/lib/python3.8/dist-packages/statsmodels/tsa/tsatools.py:142: FutureWarning: In a future version of pandas all arguments of concat except for the argument 'objs' will be keyword-only\n",
            "  x = pd.concat(x[::order], 1)\n"
          ]
        },
        {
          "output_type": "display_data",
          "data": {
            "text/plain": [
              "<Figure size 432x288 with 1 Axes>"
            ],
            "image/png": "[encoded data removed]"
          },
          "metadata": {}
        }
      ],
      "source": [
        "# evaluate the model accuracy\n",
        "prob_pred3 = log_reg3.predict(sm.add_constant(X_test2))\n",
        "pred3 = prob_pred3.round()\n",
        "mat3 = confusion_matrix(y_test, pred3)\n",
        "sns.heatmap(mat3.T, square=True, annot=True, cbar=False, xticklabels=class_names, yticklabels=class_names)\n",
        "plt.xlabel('true label')\n",
        "plt.ylabel('predicted label');"
      ]
    },
    {
      "cell_type": "code",
      "execution_count": 19,
      "metadata": {
        "colab": {
          "base_uri": "https://localhost:8080/"
        },
        "id": "1_rednIsRoNg",
        "outputId": "ede5c4bc-ae59-4659-ceda-321690a1098c"
      },
      "outputs": [
        {
          "output_type": "execute_result",
          "data": {
            "text/plain": [
              "0.8181818181818182"
            ]
          },
          "metadata": {},
          "execution_count": 19
        }
      ],
      "source": [
        "# accuracy\n",
        "np.sum(np.diag(mat3))/np.sum(mat3)"
      ]
    },
    {
      "cell_type": "code",
      "source": [
        "# specificity - - true negative rate\n",
        "7 / (7 + 1)"
      ],
      "metadata": {
        "colab": {
          "base_uri": "https://localhost:8080/"
        },
        "id": "nrFO9qyI7xI1",
        "outputId": "c19083bb-0a10-4fe7-a19a-025880f4e1c5"
      },
      "execution_count": 16,
      "outputs": [
        {
          "output_type": "execute_result",
          "data": {
            "text/plain": [
              "0.875"
            ]
          },
          "metadata": {},
          "execution_count": 16
        }
      ]
    },
    {
      "cell_type": "code",
      "source": [
        "# sensitivity - true positive rate\n",
        "2 / (2 + 1)"
      ],
      "metadata": {
        "colab": {
          "base_uri": "https://localhost:8080/"
        },
        "id": "uBLXReNV7yQ7",
        "outputId": "f91e647c-57f0-481b-f6a8-c502c3e02083"
      },
      "execution_count": 17,
      "outputs": [
        {
          "output_type": "execute_result",
          "data": {
            "text/plain": [
              "0.6666666666666666"
            ]
          },
          "metadata": {},
          "execution_count": 17
        }
      ]
    }
  ],
  "metadata": {
    "colab": {
      "provenance": [],
      "collapsed_sections": [
        "Oaur47OCH9MA"
      ]
    },
    "kernelspec": {
      "display_name": "Python 3",
      "name": "python3"
    },
    "language_info": {
      "name": "python"
    }
  },
  "nbformat": 4,
  "nbformat_minor": 0
}