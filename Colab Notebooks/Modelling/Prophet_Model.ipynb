{
  "nbformat": 4,
  "nbformat_minor": 0,
  "metadata": {
    "colab": {
      "provenance": []
    },
    "kernelspec": {
      "name": "python3",
      "display_name": "Python 3"
    },
    "language_info": {
      "name": "python"
    }
  },
  "cells": [
    {
      "cell_type": "markdown",
      "source": [
        "# FB Prohpet Modelling "
      ],
      "metadata": {
        "id": "pTNYhZa6S7Kn"
      }
    },
    {
      "cell_type": "code",
      "source": [
        "#import Prophet\n",
        "!pip install prophet\n",
        "\n",
        "import prophet\n",
        "from prophet.plot import plot_plotly, plot_components_plotly\n",
        "from prophet import Prophet"
      ],
      "metadata": {
        "colab": {
          "base_uri": "https://localhost:8080/"
        },
        "id": "05Yg0wflS-6-",
        "outputId": "4a77b086-60b5-40c0-af49-ed41a7fd6193"
      },
      "execution_count": 12,
      "outputs": [
        {
          "output_type": "stream",
          "name": "stdout",
          "text": [
            "Looking in indexes: https://pypi.org/simple, https://us-python.pkg.dev/colab-wheels/public/simple/\n",
            "Requirement already satisfied: prophet in /usr/local/lib/python3.8/dist-packages (1.1.1)\n",
            "Requirement already satisfied: convertdate>=2.1.2 in /usr/local/lib/python3.8/dist-packages (from prophet) (2.4.0)\n",
            "Requirement already satisfied: tqdm>=4.36.1 in /usr/local/lib/python3.8/dist-packages (from prophet) (4.64.1)\n",
            "Requirement already satisfied: pandas>=1.0.4 in /usr/local/lib/python3.8/dist-packages (from prophet) (1.3.5)\n",
            "Requirement already satisfied: cmdstanpy>=1.0.4 in /usr/local/lib/python3.8/dist-packages (from prophet) (1.0.8)\n",
            "Requirement already satisfied: setuptools>=42 in /usr/local/lib/python3.8/dist-packages (from prophet) (57.4.0)\n",
            "Requirement already satisfied: numpy>=1.15.4 in /usr/local/lib/python3.8/dist-packages (from prophet) (1.21.6)\n",
            "Requirement already satisfied: matplotlib>=2.0.0 in /usr/local/lib/python3.8/dist-packages (from prophet) (3.2.2)\n",
            "Requirement already satisfied: wheel>=0.37.0 in /usr/local/lib/python3.8/dist-packages (from prophet) (0.38.4)\n",
            "Requirement already satisfied: python-dateutil>=2.8.0 in /usr/local/lib/python3.8/dist-packages (from prophet) (2.8.2)\n",
            "Requirement already satisfied: LunarCalendar>=0.0.9 in /usr/local/lib/python3.8/dist-packages (from prophet) (0.0.9)\n",
            "Requirement already satisfied: holidays>=0.14.2 in /usr/local/lib/python3.8/dist-packages (from prophet) (0.17.2)\n",
            "Requirement already satisfied: setuptools-git>=1.2 in /usr/local/lib/python3.8/dist-packages (from prophet) (1.2)\n",
            "Requirement already satisfied: pymeeus<=1,>=0.3.13 in /usr/local/lib/python3.8/dist-packages (from convertdate>=2.1.2->prophet) (0.5.11)\n",
            "Requirement already satisfied: korean-lunar-calendar in /usr/local/lib/python3.8/dist-packages (from holidays>=0.14.2->prophet) (0.3.1)\n",
            "Requirement already satisfied: hijri-converter in /usr/local/lib/python3.8/dist-packages (from holidays>=0.14.2->prophet) (2.2.4)\n",
            "Requirement already satisfied: ephem>=3.7.5.3 in /usr/local/lib/python3.8/dist-packages (from LunarCalendar>=0.0.9->prophet) (4.1.3)\n",
            "Requirement already satisfied: pytz in /usr/local/lib/python3.8/dist-packages (from LunarCalendar>=0.0.9->prophet) (2022.6)\n",
            "Requirement already satisfied: pyparsing!=2.0.4,!=2.1.2,!=2.1.6,>=2.0.1 in /usr/local/lib/python3.8/dist-packages (from matplotlib>=2.0.0->prophet) (3.0.9)\n",
            "Requirement already satisfied: kiwisolver>=1.0.1 in /usr/local/lib/python3.8/dist-packages (from matplotlib>=2.0.0->prophet) (1.4.4)\n",
            "Requirement already satisfied: cycler>=0.10 in /usr/local/lib/python3.8/dist-packages (from matplotlib>=2.0.0->prophet) (0.11.0)\n",
            "Requirement already satisfied: six>=1.5 in /usr/local/lib/python3.8/dist-packages (from python-dateutil>=2.8.0->prophet) (1.15.0)\n"
          ]
        }
      ]
    },
    {
      "cell_type": "code",
      "source": [
        "#import pandas, numpy\n",
        "import pandas as pd\n",
        "import numpy as np\n",
        "import matplotlib.pyplot as plt\n",
        "import seaborn as sns \n",
        "\n",
        "#import root mean squared error from statsmodels\n",
        "from statsmodels.tools.eval_measures import rmse"
      ],
      "metadata": {
        "id": "0mPUIiD0S9jB"
      },
      "execution_count": 13,
      "outputs": []
    },
    {
      "cell_type": "code",
      "source": [
        "#import iterative imputer\n",
        "!pip install fancyimpute -q\n",
        "from fancyimpute import IterativeImputer"
      ],
      "metadata": {
        "id": "UBpETiHfVrht"
      },
      "execution_count": 14,
      "outputs": []
    },
    {
      "cell_type": "markdown",
      "source": [
        "## Load in Data and Prepare for Modelling"
      ],
      "metadata": {
        "id": "uwB2fxJITMvG"
      }
    },
    {
      "cell_type": "code",
      "source": [
        "apples = pd.read_csv('https://raw.githubusercontent.com/mckenzie-maidl/data5100-climate-agriculture/main/Cleaned%20Data/WA_apples_1889_2021.csv')\n",
        "prism = pd.read_csv('https://raw.githubusercontent.com/mckenzie-maidl/data5100-climate-agriculture/main/Cleaned%20Data/prism.csv')"
      ],
      "metadata": {
        "id": "mOB0dubOTBQO"
      },
      "execution_count": 15,
      "outputs": []
    },
    {
      "cell_type": "code",
      "source": [
        "#clean and prepare weather data from prism\n",
        "prism.drop(columns='Unnamed: 0', inplace=True)\n",
        "\n",
        "#rename columns\n",
        "cols = list(prism.columns)\n",
        "new = ['ppt', 'tmin', 'tmean', 'tmax', 'tdewmean', 'vpdmin', 'vpdmax', 'county', 'year', 'month']\n",
        "new_cols = dict(zip(cols,new))\n",
        "prism.rename(columns=new_cols, inplace=True)\n",
        "\n",
        "#add in vpddiff and temp diff and vpdmean\n",
        "prism['vpddiff'] = prism['vpdmax'] - prism['vpdmin']\n",
        "prism['tdiff'] = prism['tmax'] - prism['tmin']\n",
        "prism['vpdmean'] = (prism['vpdmax'] + prism['vpdmin']) / 2"
      ],
      "metadata": {
        "id": "jMANTMYSTR6g"
      },
      "execution_count": 16,
      "outputs": []
    },
    {
      "cell_type": "code",
      "source": [
        "#clean and prep apple data\n",
        "apples2 = apples.dropna().sort_values(by='year').set_index('year')\n",
        "apples2.drop(columns='Unnamed: 0', inplace=True)"
      ],
      "metadata": {
        "id": "JT6GWcCwTtKk"
      },
      "execution_count": 17,
      "outputs": []
    },
    {
      "cell_type": "code",
      "source": [
        "#copy prism for further cleaning\n",
        "prism2 = prism.copy()\n",
        "\n",
        "#groupby, mean for everything except precip and reset index\n",
        "prism2 = prism.groupby('year').mean().drop(columns='month')\n",
        "prism2['ppt'] = prism.groupby('year')['ppt'].sum()\n",
        "\n",
        "#join with apples2\n",
        "prism2 = prism2.loc[1919:].join(apples2['yield_acre_lbs'])\n",
        "prism2.reset_index(inplace=True)\n",
        "\n",
        "#make year into datetime and drop original year\n",
        "prism2['date'] = prism2['year'].apply(str) + '-' + '01'\n",
        "prism2['date'] = pd.to_datetime(prism2['date'])\n",
        "prism2.drop(columns='year', inplace=True)"
      ],
      "metadata": {
        "id": "PmfN8aqTTwCm"
      },
      "execution_count": 18,
      "outputs": []
    },
    {
      "cell_type": "markdown",
      "source": [
        "# Model"
      ],
      "metadata": {
        "id": "coN5rB5vWX_c"
      }
    },
    {
      "cell_type": "markdown",
      "source": [
        "## Calculate Yield Per Tree"
      ],
      "metadata": {
        "id": "2L2wIMPDxuYv"
      }
    },
    {
      "cell_type": "code",
      "source": [
        "apple_farms = pd.read_csv('https://raw.githubusercontent.com/mckenzie-maidl/data5100-climate-agriculture/main/Cleaned%20Data/apples_1970.csv')"
      ],
      "metadata": {
        "id": "RKJMIvBTxzxd"
      },
      "execution_count": 19,
      "outputs": []
    },
    {
      "cell_type": "code",
      "source": [
        "#drop unnamed and add yield per tree\n",
        "apple_farms.drop(columns='Unnamed: 0', inplace=True)\n",
        "#divide yield per acre by trees per acre to get yield per tree\n",
        "apple_farms['yield_tree'] = apple_farms['yield_acre_lbs']/apple_farms['trees_per_acre']\n",
        "#take past 50 years\n",
        "apple_farms = apple_farms.sort_values(by='year').set_index('year').loc[1972:]"
      ],
      "metadata": {
        "id": "Uw7p6DnFxz0D"
      },
      "execution_count": 20,
      "outputs": []
    },
    {
      "cell_type": "code",
      "source": [
        "#plot yield per tree over time\n",
        "plt.figure(0)\n",
        "\n",
        "plt.scatter(apple_farms.index , apple_farms['yield_tree'])"
      ],
      "metadata": {
        "colab": {
          "base_uri": "https://localhost:8080/",
          "height": 283
        },
        "id": "1X-8xiKvxz5G",
        "outputId": "cb41f661-a5f4-4c31-8c74-d50843aaf48d"
      },
      "execution_count": 21,
      "outputs": [
        {
          "output_type": "execute_result",
          "data": {
            "text/plain": [
              "<matplotlib.collections.PathCollection at 0x7feba8f00d30>"
            ]
          },
          "metadata": {},
          "execution_count": 21
        },
        {
          "output_type": "display_data",
          "data": {
            "text/plain": [
              "<Figure size 432x288 with 1 Axes>"
            ],
            "image/png": "[encoded data removed]"
          },
          "metadata": {
            "needs_background": "light"
          }
        }
      ]
    },
    {
      "cell_type": "code",
      "source": [
        "#make copy of prism\n",
        "prism3 = prism.copy()\n",
        "\n",
        "#groupby, mean for everything except precipitation\n",
        "prism3 = prism.groupby('year').mean().drop(columns='month')\n",
        "prism3['ppt'] = prism.groupby('year')['ppt'].sum()\n",
        "\n",
        "#join with yield tree from apple farms and reset index, taking last 50 years of data\n",
        "prism3 = prism3.loc[1972:].join(apple_farms['yield_tree'])\n",
        "prism3.reset_index(inplace=True)\n",
        "\n",
        "#make year into datetime and drop original year\n",
        "prism3['date'] = prism3['year'].apply(str) + '-' + '01'\n",
        "prism3['date'] = pd.to_datetime(prism3['date'])\n",
        "prism3.drop(columns='year', inplace=True)"
      ],
      "metadata": {
        "id": "kd5sqK6Rxz8M"
      },
      "execution_count": 22,
      "outputs": []
    },
    {
      "cell_type": "code",
      "source": [
        "prism3.head()"
      ],
      "metadata": {
        "colab": {
          "base_uri": "https://localhost:8080/",
          "height": 206
        },
        "id": "cFF6cIa9y-Cq",
        "outputId": "5711393e-8176-4973-94ee-9e350e806e8d"
      },
      "execution_count": 23,
      "outputs": [
        {
          "output_type": "execute_result",
          "data": {
            "text/plain": [
              "      ppt       tmin      tmean       tmax   tdewmean    vpdmin     vpdmax  \\\n",
              "0  160.07  35.936667  47.560000  59.190833  31.820000  1.539500  14.790417   \n",
              "1  151.75  37.214167  48.848333  60.475833  31.831667  2.014167  15.471333   \n",
              "2  143.71  37.306667  48.983333  60.665000  32.799167  1.925167  15.160417   \n",
              "3  176.08  36.076667  47.360000  58.643333  32.312500  1.686667  14.011333   \n",
              "4   97.12  36.110833  47.941667  59.785833  32.952500  1.477500  13.763417   \n",
              "\n",
              "     vpddiff      tdiff   vpdmean  yield_tree       date  \n",
              "0  13.250917  23.254167  8.164958  157.833656 1972-01-01  \n",
              "1  13.457167  23.261667  8.742750  179.322328 1973-01-01  \n",
              "2  13.235250  23.358333  8.542792  157.728707 1974-01-01  \n",
              "3  12.324667  22.566667  7.849000  170.974729 1975-01-01  \n",
              "4  12.285917  23.675000  7.620458  160.319574 1976-01-01  "
            ],
            "text/html": [
              "\n",
              "  <div id=\"df-a4a17854-b3e0-4b6e-9468-a586fd164ac3\">\n",
              "    <div class=\"colab-df-container\">\n",
              "      <div>\n",
              "<style scoped>\n",
              "    .dataframe tbody tr th:only-of-type {\n",
              "        vertical-align: middle;\n",
              "    }\n",
              "\n",
              "    .dataframe tbody tr th {\n",
              "        vertical-align: top;\n",
              "    }\n",
              "\n",
              "    .dataframe thead th {\n",
              "        text-align: right;\n",
              "    }\n",
              "</style>\n",
              "<table border=\"1\" class=\"dataframe\">\n",
              "  <thead>\n",
              "    <tr style=\"text-align: right;\">\n",
              "      <th></th>\n",
              "      <th>ppt</th>\n",
              "      <th>tmin</th>\n",
              "      <th>tmean</th>\n",
              "      <th>tmax</th>\n",
              "      <th>tdewmean</th>\n",
              "      <th>vpdmin</th>\n",
              "      <th>vpdmax</th>\n",
              "      <th>vpddiff</th>\n",
              "      <th>tdiff</th>\n",
              "      <th>vpdmean</th>\n",
              "      <th>yield_tree</th>\n",
              "      <th>date</th>\n",
              "    </tr>\n",
              "  </thead>\n",
              "  <tbody>\n",
              "    <tr>\n",
              "      <th>0</th>\n",
              "      <td>160.07</td>\n",
              "      <td>35.936667</td>\n",
              "      <td>47.560000</td>\n",
              "      <td>59.190833</td>\n",
              "      <td>31.820000</td>\n",
              "      <td>1.539500</td>\n",
              "      <td>14.790417</td>\n",
              "      <td>13.250917</td>\n",
              "      <td>23.254167</td>\n",
              "      <td>8.164958</td>\n",
              "      <td>157.833656</td>\n",
              "      <td>1972-01-01</td>\n",
              "    </tr>\n",
              "    <tr>\n",
              "      <th>1</th>\n",
              "      <td>151.75</td>\n",
              "      <td>37.214167</td>\n",
              "      <td>48.848333</td>\n",
              "      <td>60.475833</td>\n",
              "      <td>31.831667</td>\n",
              "      <td>2.014167</td>\n",
              "      <td>15.471333</td>\n",
              "      <td>13.457167</td>\n",
              "      <td>23.261667</td>\n",
              "      <td>8.742750</td>\n",
              "      <td>179.322328</td>\n",
              "      <td>1973-01-01</td>\n",
              "    </tr>\n",
              "    <tr>\n",
              "      <th>2</th>\n",
              "      <td>143.71</td>\n",
              "      <td>37.306667</td>\n",
              "      <td>48.983333</td>\n",
              "      <td>60.665000</td>\n",
              "      <td>32.799167</td>\n",
              "      <td>1.925167</td>\n",
              "      <td>15.160417</td>\n",
              "      <td>13.235250</td>\n",
              "      <td>23.358333</td>\n",
              "      <td>8.542792</td>\n",
              "      <td>157.728707</td>\n",
              "      <td>1974-01-01</td>\n",
              "    </tr>\n",
              "    <tr>\n",
              "      <th>3</th>\n",
              "      <td>176.08</td>\n",
              "      <td>36.076667</td>\n",
              "      <td>47.360000</td>\n",
              "      <td>58.643333</td>\n",
              "      <td>32.312500</td>\n",
              "      <td>1.686667</td>\n",
              "      <td>14.011333</td>\n",
              "      <td>12.324667</td>\n",
              "      <td>22.566667</td>\n",
              "      <td>7.849000</td>\n",
              "      <td>170.974729</td>\n",
              "      <td>1975-01-01</td>\n",
              "    </tr>\n",
              "    <tr>\n",
              "      <th>4</th>\n",
              "      <td>97.12</td>\n",
              "      <td>36.110833</td>\n",
              "      <td>47.941667</td>\n",
              "      <td>59.785833</td>\n",
              "      <td>32.952500</td>\n",
              "      <td>1.477500</td>\n",
              "      <td>13.763417</td>\n",
              "      <td>12.285917</td>\n",
              "      <td>23.675000</td>\n",
              "      <td>7.620458</td>\n",
              "      <td>160.319574</td>\n",
              "      <td>1976-01-01</td>\n",
              "    </tr>\n",
              "  </tbody>\n",
              "</table>\n",
              "</div>\n",
              "      <button class=\"colab-df-convert\" onclick=\"convertToInteractive('df-a4a17854-b3e0-4b6e-9468-a586fd164ac3')\"\n",
              "              title=\"Convert this dataframe to an interactive table.\"\n",
              "              style=\"display:none;\">\n",
              "        \n",
              "  <svg xmlns=\"http://www.w3.org/2000/svg\" height=\"24px\"viewBox=\"0 0 24 24\"\n",
              "       width=\"24px\">\n",
              "    <path d=\"M0 0h24v24H0V0z\" fill=\"none\"/>\n",
              "    <path d=\"M18.56 5.44l.94 2.06.94-2.06 2.06-.94-2.06-.94-.94-2.06-.94 2.06-2.06.94zm-11 1L8.5 8.5l.94-2.06 2.06-.94-2.06-.94L8.5 2.5l-.94 2.06-2.06.94zm10 10l.94 2.06.94-2.06 2.06-.94-2.06-.94-.94-2.06-.94 2.06-2.06.94z\"/><path d=\"M17.41 7.96l-1.37-1.37c-.4-.4-.92-.59-1.43-.59-.52 0-1.04.2-1.43.59L10.3 9.45l-7.72 7.72c-.78.78-.78 2.05 0 2.83L4 21.41c.39.39.9.59 1.41.59.51 0 1.02-.2 1.41-.59l7.78-7.78 2.81-2.81c.8-.78.8-2.07 0-2.86zM5.41 20L4 18.59l7.72-7.72 1.47 1.35L5.41 20z\"/>\n",
              "  </svg>\n",
              "      </button>\n",
              "      \n",
              "  <style>\n",
              "    .colab-df-container {\n",
              "      display:flex;\n",
              "      flex-wrap:wrap;\n",
              "      gap: 12px;\n",
              "    }\n",
              "\n",
              "    .colab-df-convert {\n",
              "      background-color: #E8F0FE;\n",
              "      border: none;\n",
              "      border-radius: 50%;\n",
              "      cursor: pointer;\n",
              "      display: none;\n",
              "      fill: #1967D2;\n",
              "      height: 32px;\n",
              "      padding: 0 0 0 0;\n",
              "      width: 32px;\n",
              "    }\n",
              "\n",
              "    .colab-df-convert:hover {\n",
              "      background-color: #E2EBFA;\n",
              "      box-shadow: 0px 1px 2px rgba(60, 64, 67, 0.3), 0px 1px 3px 1px rgba(60, 64, 67, 0.15);\n",
              "      fill: #174EA6;\n",
              "    }\n",
              "\n",
              "    [theme=dark] .colab-df-convert {\n",
              "      background-color: #3B4455;\n",
              "      fill: #D2E3FC;\n",
              "    }\n",
              "\n",
              "    [theme=dark] .colab-df-convert:hover {\n",
              "      background-color: #434B5C;\n",
              "      box-shadow: 0px 1px 3px 1px rgba(0, 0, 0, 0.15);\n",
              "      filter: drop-shadow(0px 1px 2px rgba(0, 0, 0, 0.3));\n",
              "      fill: #FFFFFF;\n",
              "    }\n",
              "  </style>\n",
              "\n",
              "      <script>\n",
              "        const buttonEl =\n",
              "          document.querySelector('#df-a4a17854-b3e0-4b6e-9468-a586fd164ac3 button.colab-df-convert');\n",
              "        buttonEl.style.display =\n",
              "          google.colab.kernel.accessAllowed ? 'block' : 'none';\n",
              "\n",
              "        async function convertToInteractive(key) {\n",
              "          const element = document.querySelector('#df-a4a17854-b3e0-4b6e-9468-a586fd164ac3');\n",
              "          const dataTable =\n",
              "            await google.colab.kernel.invokeFunction('convertToInteractive',\n",
              "                                                     [key], {});\n",
              "          if (!dataTable) return;\n",
              "\n",
              "          const docLinkHtml = 'Like what you see? Visit the ' +\n",
              "            '<a target=\"_blank\" href=https://colab.research.google.com/notebooks/data_table.ipynb>data table notebook</a>'\n",
              "            + ' to learn more about interactive tables.';\n",
              "          element.innerHTML = '';\n",
              "          dataTable['output_type'] = 'display_data';\n",
              "          await google.colab.output.renderOutput(dataTable, element);\n",
              "          const docLink = document.createElement('div');\n",
              "          docLink.innerHTML = docLinkHtml;\n",
              "          element.appendChild(docLink);\n",
              "        }\n",
              "      </script>\n",
              "    </div>\n",
              "  </div>\n",
              "  "
            ]
          },
          "metadata": {},
          "execution_count": 23
        }
      ]
    },
    {
      "cell_type": "code",
      "source": [
        "prism3.tail()"
      ],
      "metadata": {
        "colab": {
          "base_uri": "https://localhost:8080/",
          "height": 206
        },
        "id": "WNgkhTury_7s",
        "outputId": "7ea6bc31-a65e-435a-a727-69273f4a02d5"
      },
      "execution_count": 24,
      "outputs": [
        {
          "output_type": "execute_result",
          "data": {
            "text/plain": [
              "       ppt       tmin      tmean       tmax   tdewmean    vpdmin     vpdmax  \\\n",
              "45  175.55  37.214167  47.962500  58.707500  32.510000  1.788917  14.796583   \n",
              "46  135.34  38.705833  49.804167  60.909167  33.755833  1.734167  15.032417   \n",
              "47  126.79  37.000000  47.501667  58.002500  33.609167  1.395917  13.315250   \n",
              "48  137.08  38.450833  49.898333  61.340833  34.004167  1.877250  15.286333   \n",
              "49  130.38  39.106667  50.352500  61.603333  34.324167  2.285833  16.425000   \n",
              "\n",
              "      vpddiff      tdiff   vpdmean  yield_tree       date  \n",
              "45  13.007667  21.493333  8.292750   64.447592 2017-01-01  \n",
              "46  13.298250  22.203333  8.383292   54.004885 2018-01-01  \n",
              "47  11.919333  21.002500  7.355583   58.406612 2019-01-01  \n",
              "48  13.409083  22.890000  8.581792   50.384990 2020-01-01  \n",
              "49  14.139167  22.496667  9.355417   48.448917 2021-01-01  "
            ],
            "text/html": [
              "\n",
              "  <div id=\"df-93a708c6-6efa-48c4-9866-77e26b49321d\">\n",
              "    <div class=\"colab-df-container\">\n",
              "      <div>\n",
              "<style scoped>\n",
              "    .dataframe tbody tr th:only-of-type {\n",
              "        vertical-align: middle;\n",
              "    }\n",
              "\n",
              "    .dataframe tbody tr th {\n",
              "        vertical-align: top;\n",
              "    }\n",
              "\n",
              "    .dataframe thead th {\n",
              "        text-align: right;\n",
              "    }\n",
              "</style>\n",
              "<table border=\"1\" class=\"dataframe\">\n",
              "  <thead>\n",
              "    <tr style=\"text-align: right;\">\n",
              "      <th></th>\n",
              "      <th>ppt</th>\n",
              "      <th>tmin</th>\n",
              "      <th>tmean</th>\n",
              "      <th>tmax</th>\n",
              "      <th>tdewmean</th>\n",
              "      <th>vpdmin</th>\n",
              "      <th>vpdmax</th>\n",
              "      <th>vpddiff</th>\n",
              "      <th>tdiff</th>\n",
              "      <th>vpdmean</th>\n",
              "      <th>yield_tree</th>\n",
              "      <th>date</th>\n",
              "    </tr>\n",
              "  </thead>\n",
              "  <tbody>\n",
              "    <tr>\n",
              "      <th>45</th>\n",
              "      <td>175.55</td>\n",
              "      <td>37.214167</td>\n",
              "      <td>47.962500</td>\n",
              "      <td>58.707500</td>\n",
              "      <td>32.510000</td>\n",
              "      <td>1.788917</td>\n",
              "      <td>14.796583</td>\n",
              "      <td>13.007667</td>\n",
              "      <td>21.493333</td>\n",
              "      <td>8.292750</td>\n",
              "      <td>64.447592</td>\n",
              "      <td>2017-01-01</td>\n",
              "    </tr>\n",
              "    <tr>\n",
              "      <th>46</th>\n",
              "      <td>135.34</td>\n",
              "      <td>38.705833</td>\n",
              "      <td>49.804167</td>\n",
              "      <td>60.909167</td>\n",
              "      <td>33.755833</td>\n",
              "      <td>1.734167</td>\n",
              "      <td>15.032417</td>\n",
              "      <td>13.298250</td>\n",
              "      <td>22.203333</td>\n",
              "      <td>8.383292</td>\n",
              "      <td>54.004885</td>\n",
              "      <td>2018-01-01</td>\n",
              "    </tr>\n",
              "    <tr>\n",
              "      <th>47</th>\n",
              "      <td>126.79</td>\n",
              "      <td>37.000000</td>\n",
              "      <td>47.501667</td>\n",
              "      <td>58.002500</td>\n",
              "      <td>33.609167</td>\n",
              "      <td>1.395917</td>\n",
              "      <td>13.315250</td>\n",
              "      <td>11.919333</td>\n",
              "      <td>21.002500</td>\n",
              "      <td>7.355583</td>\n",
              "      <td>58.406612</td>\n",
              "      <td>2019-01-01</td>\n",
              "    </tr>\n",
              "    <tr>\n",
              "      <th>48</th>\n",
              "      <td>137.08</td>\n",
              "      <td>38.450833</td>\n",
              "      <td>49.898333</td>\n",
              "      <td>61.340833</td>\n",
              "      <td>34.004167</td>\n",
              "      <td>1.877250</td>\n",
              "      <td>15.286333</td>\n",
              "      <td>13.409083</td>\n",
              "      <td>22.890000</td>\n",
              "      <td>8.581792</td>\n",
              "      <td>50.384990</td>\n",
              "      <td>2020-01-01</td>\n",
              "    </tr>\n",
              "    <tr>\n",
              "      <th>49</th>\n",
              "      <td>130.38</td>\n",
              "      <td>39.106667</td>\n",
              "      <td>50.352500</td>\n",
              "      <td>61.603333</td>\n",
              "      <td>34.324167</td>\n",
              "      <td>2.285833</td>\n",
              "      <td>16.425000</td>\n",
              "      <td>14.139167</td>\n",
              "      <td>22.496667</td>\n",
              "      <td>9.355417</td>\n",
              "      <td>48.448917</td>\n",
              "      <td>2021-01-01</td>\n",
              "    </tr>\n",
              "  </tbody>\n",
              "</table>\n",
              "</div>\n",
              "      <button class=\"colab-df-convert\" onclick=\"convertToInteractive('df-93a708c6-6efa-48c4-9866-77e26b49321d')\"\n",
              "              title=\"Convert this dataframe to an interactive table.\"\n",
              "              style=\"display:none;\">\n",
              "        \n",
              "  <svg xmlns=\"http://www.w3.org/2000/svg\" height=\"24px\"viewBox=\"0 0 24 24\"\n",
              "       width=\"24px\">\n",
              "    <path d=\"M0 0h24v24H0V0z\" fill=\"none\"/>\n",
              "    <path d=\"M18.56 5.44l.94 2.06.94-2.06 2.06-.94-2.06-.94-.94-2.06-.94 2.06-2.06.94zm-11 1L8.5 8.5l.94-2.06 2.06-.94-2.06-.94L8.5 2.5l-.94 2.06-2.06.94zm10 10l.94 2.06.94-2.06 2.06-.94-2.06-.94-.94-2.06-.94 2.06-2.06.94z\"/><path d=\"M17.41 7.96l-1.37-1.37c-.4-.4-.92-.59-1.43-.59-.52 0-1.04.2-1.43.59L10.3 9.45l-7.72 7.72c-.78.78-.78 2.05 0 2.83L4 21.41c.39.39.9.59 1.41.59.51 0 1.02-.2 1.41-.59l7.78-7.78 2.81-2.81c.8-.78.8-2.07 0-2.86zM5.41 20L4 18.59l7.72-7.72 1.47 1.35L5.41 20z\"/>\n",
              "  </svg>\n",
              "      </button>\n",
              "      \n",
              "  <style>\n",
              "    .colab-df-container {\n",
              "      display:flex;\n",
              "      flex-wrap:wrap;\n",
              "      gap: 12px;\n",
              "    }\n",
              "\n",
              "    .colab-df-convert {\n",
              "      background-color: #E8F0FE;\n",
              "      border: none;\n",
              "      border-radius: 50%;\n",
              "      cursor: pointer;\n",
              "      display: none;\n",
              "      fill: #1967D2;\n",
              "      height: 32px;\n",
              "      padding: 0 0 0 0;\n",
              "      width: 32px;\n",
              "    }\n",
              "\n",
              "    .colab-df-convert:hover {\n",
              "      background-color: #E2EBFA;\n",
              "      box-shadow: 0px 1px 2px rgba(60, 64, 67, 0.3), 0px 1px 3px 1px rgba(60, 64, 67, 0.15);\n",
              "      fill: #174EA6;\n",
              "    }\n",
              "\n",
              "    [theme=dark] .colab-df-convert {\n",
              "      background-color: #3B4455;\n",
              "      fill: #D2E3FC;\n",
              "    }\n",
              "\n",
              "    [theme=dark] .colab-df-convert:hover {\n",
              "      background-color: #434B5C;\n",
              "      box-shadow: 0px 1px 3px 1px rgba(0, 0, 0, 0.15);\n",
              "      filter: drop-shadow(0px 1px 2px rgba(0, 0, 0, 0.3));\n",
              "      fill: #FFFFFF;\n",
              "    }\n",
              "  </style>\n",
              "\n",
              "      <script>\n",
              "        const buttonEl =\n",
              "          document.querySelector('#df-93a708c6-6efa-48c4-9866-77e26b49321d button.colab-df-convert');\n",
              "        buttonEl.style.display =\n",
              "          google.colab.kernel.accessAllowed ? 'block' : 'none';\n",
              "\n",
              "        async function convertToInteractive(key) {\n",
              "          const element = document.querySelector('#df-93a708c6-6efa-48c4-9866-77e26b49321d');\n",
              "          const dataTable =\n",
              "            await google.colab.kernel.invokeFunction('convertToInteractive',\n",
              "                                                     [key], {});\n",
              "          if (!dataTable) return;\n",
              "\n",
              "          const docLinkHtml = 'Like what you see? Visit the ' +\n",
              "            '<a target=\"_blank\" href=https://colab.research.google.com/notebooks/data_table.ipynb>data table notebook</a>'\n",
              "            + ' to learn more about interactive tables.';\n",
              "          element.innerHTML = '';\n",
              "          dataTable['output_type'] = 'display_data';\n",
              "          await google.colab.output.renderOutput(dataTable, element);\n",
              "          const docLink = document.createElement('div');\n",
              "          docLink.innerHTML = docLinkHtml;\n",
              "          element.appendChild(docLink);\n",
              "        }\n",
              "      </script>\n",
              "    </div>\n",
              "  </div>\n",
              "  "
            ]
          },
          "metadata": {},
          "execution_count": 24
        }
      ]
    },
    {
      "cell_type": "code",
      "source": [
        "prism3.shape"
      ],
      "metadata": {
        "colab": {
          "base_uri": "https://localhost:8080/"
        },
        "id": "yMrPXqJGOchI",
        "outputId": "e8ee02da-369e-4338-e1be-7e8bd1576207"
      },
      "execution_count": 25,
      "outputs": [
        {
          "output_type": "execute_result",
          "data": {
            "text/plain": [
              "(50, 12)"
            ]
          },
          "metadata": {},
          "execution_count": 25
        }
      ]
    },
    {
      "cell_type": "markdown",
      "source": [
        "## Model with yield per tree"
      ],
      "metadata": {
        "id": "I5gwOXTZ9zD5"
      }
    },
    {
      "cell_type": "code",
      "source": [
        "#make a df p with datetime and yield_tree\n",
        "p = prism3[['date', 'yield_tree']]\n",
        "p.rename(columns={'date':'ds', 'yield_tree': 'y'}, inplace=True)\n",
        "\n",
        "#add potential predictors\n",
        "best_predictors = list(prism3.columns[:10])\n",
        "for predictor in best_predictors:\n",
        "  p[predictor] = prism3[predictor]\n",
        "p.apply(lambda x: x.isna().sum())"
      ],
      "metadata": {
        "colab": {
          "base_uri": "https://localhost:8080/"
        },
        "id": "cXZ3ly_tINae",
        "outputId": "5d2c15a9-2f28-470a-d3ac-c3a4955d2a74"
      },
      "execution_count": 26,
      "outputs": [
        {
          "output_type": "stream",
          "name": "stderr",
          "text": [
            "/usr/local/lib/python3.8/dist-packages/pandas/core/frame.py:5039: SettingWithCopyWarning: \n",
            "A value is trying to be set on a copy of a slice from a DataFrame\n",
            "\n",
            "See the caveats in the documentation: https://pandas.pydata.org/pandas-docs/stable/user_guide/indexing.html#returning-a-view-versus-a-copy\n",
            "  return super().rename(\n",
            "<ipython-input-26-8e8f46e709ee>:8: SettingWithCopyWarning: \n",
            "A value is trying to be set on a copy of a slice from a DataFrame.\n",
            "Try using .loc[row_indexer,col_indexer] = value instead\n",
            "\n",
            "See the caveats in the documentation: https://pandas.pydata.org/pandas-docs/stable/user_guide/indexing.html#returning-a-view-versus-a-copy\n",
            "  p[predictor] = prism3[predictor]\n"
          ]
        },
        {
          "output_type": "execute_result",
          "data": {
            "text/plain": [
              "ds          0\n",
              "y           0\n",
              "ppt         0\n",
              "tmin        0\n",
              "tmean       0\n",
              "tmax        0\n",
              "tdewmean    0\n",
              "vpdmin      0\n",
              "vpdmax      0\n",
              "vpddiff     0\n",
              "tdiff       0\n",
              "vpdmean     0\n",
              "dtype: int64"
            ]
          },
          "metadata": {},
          "execution_count": 26
        }
      ]
    },
    {
      "cell_type": "code",
      "source": [
        "p.shape"
      ],
      "metadata": {
        "colab": {
          "base_uri": "https://localhost:8080/"
        },
        "id": "7bnw5OytNjcP",
        "outputId": "fcb71240-9d7f-4111-f37a-467c664e5fa7"
      },
      "execution_count": 27,
      "outputs": [
        {
          "output_type": "execute_result",
          "data": {
            "text/plain": [
              "(50, 12)"
            ]
          },
          "metadata": {},
          "execution_count": 27
        }
      ]
    },
    {
      "cell_type": "code",
      "source": [
        "#split into train and test, last ten years is test\n",
        "train = p[:-10]\n",
        "test = p[-10:]"
      ],
      "metadata": {
        "id": "OiFj_aYt3tyc"
      },
      "execution_count": 28,
      "outputs": []
    },
    {
      "cell_type": "code",
      "source": [
        "train.tail()"
      ],
      "metadata": {
        "colab": {
          "base_uri": "https://localhost:8080/",
          "height": 206
        },
        "id": "4aS79euWAi3N",
        "outputId": "e6cfe652-9f53-4777-b886-58bcfc345778"
      },
      "execution_count": 29,
      "outputs": [
        {
          "output_type": "execute_result",
          "data": {
            "text/plain": [
              "           ds          y     ppt       tmin      tmean       tmax   tdewmean  \\\n",
              "35 2007-01-01  78.341014  122.61  37.030000  48.349167  59.674167  33.490833   \n",
              "36 2008-01-01  80.287206  110.83  35.610833  47.200833  58.787500  31.599167   \n",
              "37 2009-01-01  70.074196  128.39  36.566667  47.811667  59.065833  31.585833   \n",
              "38 2010-01-01  72.435395  183.97  38.096667  48.667500  59.233333  34.784167   \n",
              "39 2011-01-01  68.232662  139.44  36.036667  47.154167  58.275833  31.601667   \n",
              "\n",
              "      vpdmin     vpdmax    vpddiff      tdiff   vpdmean  \n",
              "35  1.436417  14.037000  12.600583  22.644167  7.736708  \n",
              "36  1.542500  13.993333  12.450833  23.176667  7.767917  \n",
              "37  1.701417  14.686083  12.984667  22.499167  8.193750  \n",
              "38  1.265667  12.738750  11.473083  21.136667  7.002208  \n",
              "39  1.605750  13.229333  11.623583  22.239167  7.417542  "
            ],
            "text/html": [
              "\n",
              "  <div id=\"df-06440c7f-530d-433c-9523-d8b4ca095dec\">\n",
              "    <div class=\"colab-df-container\">\n",
              "      <div>\n",
              "<style scoped>\n",
              "    .dataframe tbody tr th:only-of-type {\n",
              "        vertical-align: middle;\n",
              "    }\n",
              "\n",
              "    .dataframe tbody tr th {\n",
              "        vertical-align: top;\n",
              "    }\n",
              "\n",
              "    .dataframe thead th {\n",
              "        text-align: right;\n",
              "    }\n",
              "</style>\n",
              "<table border=\"1\" class=\"dataframe\">\n",
              "  <thead>\n",
              "    <tr style=\"text-align: right;\">\n",
              "      <th></th>\n",
              "      <th>ds</th>\n",
              "      <th>y</th>\n",
              "      <th>ppt</th>\n",
              "      <th>tmin</th>\n",
              "      <th>tmean</th>\n",
              "      <th>tmax</th>\n",
              "      <th>tdewmean</th>\n",
              "      <th>vpdmin</th>\n",
              "      <th>vpdmax</th>\n",
              "      <th>vpddiff</th>\n",
              "      <th>tdiff</th>\n",
              "      <th>vpdmean</th>\n",
              "    </tr>\n",
              "  </thead>\n",
              "  <tbody>\n",
              "    <tr>\n",
              "      <th>35</th>\n",
              "      <td>2007-01-01</td>\n",
              "      <td>78.341014</td>\n",
              "      <td>122.61</td>\n",
              "      <td>37.030000</td>\n",
              "      <td>48.349167</td>\n",
              "      <td>59.674167</td>\n",
              "      <td>33.490833</td>\n",
              "      <td>1.436417</td>\n",
              "      <td>14.037000</td>\n",
              "      <td>12.600583</td>\n",
              "      <td>22.644167</td>\n",
              "      <td>7.736708</td>\n",
              "    </tr>\n",
              "    <tr>\n",
              "      <th>36</th>\n",
              "      <td>2008-01-01</td>\n",
              "      <td>80.287206</td>\n",
              "      <td>110.83</td>\n",
              "      <td>35.610833</td>\n",
              "      <td>47.200833</td>\n",
              "      <td>58.787500</td>\n",
              "      <td>31.599167</td>\n",
              "      <td>1.542500</td>\n",
              "      <td>13.993333</td>\n",
              "      <td>12.450833</td>\n",
              "      <td>23.176667</td>\n",
              "      <td>7.767917</td>\n",
              "    </tr>\n",
              "    <tr>\n",
              "      <th>37</th>\n",
              "      <td>2009-01-01</td>\n",
              "      <td>70.074196</td>\n",
              "      <td>128.39</td>\n",
              "      <td>36.566667</td>\n",
              "      <td>47.811667</td>\n",
              "      <td>59.065833</td>\n",
              "      <td>31.585833</td>\n",
              "      <td>1.701417</td>\n",
              "      <td>14.686083</td>\n",
              "      <td>12.984667</td>\n",
              "      <td>22.499167</td>\n",
              "      <td>8.193750</td>\n",
              "    </tr>\n",
              "    <tr>\n",
              "      <th>38</th>\n",
              "      <td>2010-01-01</td>\n",
              "      <td>72.435395</td>\n",
              "      <td>183.97</td>\n",
              "      <td>38.096667</td>\n",
              "      <td>48.667500</td>\n",
              "      <td>59.233333</td>\n",
              "      <td>34.784167</td>\n",
              "      <td>1.265667</td>\n",
              "      <td>12.738750</td>\n",
              "      <td>11.473083</td>\n",
              "      <td>21.136667</td>\n",
              "      <td>7.002208</td>\n",
              "    </tr>\n",
              "    <tr>\n",
              "      <th>39</th>\n",
              "      <td>2011-01-01</td>\n",
              "      <td>68.232662</td>\n",
              "      <td>139.44</td>\n",
              "      <td>36.036667</td>\n",
              "      <td>47.154167</td>\n",
              "      <td>58.275833</td>\n",
              "      <td>31.601667</td>\n",
              "      <td>1.605750</td>\n",
              "      <td>13.229333</td>\n",
              "      <td>11.623583</td>\n",
              "      <td>22.239167</td>\n",
              "      <td>7.417542</td>\n",
              "    </tr>\n",
              "  </tbody>\n",
              "</table>\n",
              "</div>\n",
              "      <button class=\"colab-df-convert\" onclick=\"convertToInteractive('df-06440c7f-530d-433c-9523-d8b4ca095dec')\"\n",
              "              title=\"Convert this dataframe to an interactive table.\"\n",
              "              style=\"display:none;\">\n",
              "        \n",
              "  <svg xmlns=\"http://www.w3.org/2000/svg\" height=\"24px\"viewBox=\"0 0 24 24\"\n",
              "       width=\"24px\">\n",
              "    <path d=\"M0 0h24v24H0V0z\" fill=\"none\"/>\n",
              "    <path d=\"M18.56 5.44l.94 2.06.94-2.06 2.06-.94-2.06-.94-.94-2.06-.94 2.06-2.06.94zm-11 1L8.5 8.5l.94-2.06 2.06-.94-2.06-.94L8.5 2.5l-.94 2.06-2.06.94zm10 10l.94 2.06.94-2.06 2.06-.94-2.06-.94-.94-2.06-.94 2.06-2.06.94z\"/><path d=\"M17.41 7.96l-1.37-1.37c-.4-.4-.92-.59-1.43-.59-.52 0-1.04.2-1.43.59L10.3 9.45l-7.72 7.72c-.78.78-.78 2.05 0 2.83L4 21.41c.39.39.9.59 1.41.59.51 0 1.02-.2 1.41-.59l7.78-7.78 2.81-2.81c.8-.78.8-2.07 0-2.86zM5.41 20L4 18.59l7.72-7.72 1.47 1.35L5.41 20z\"/>\n",
              "  </svg>\n",
              "      </button>\n",
              "      \n",
              "  <style>\n",
              "    .colab-df-container {\n",
              "      display:flex;\n",
              "      flex-wrap:wrap;\n",
              "      gap: 12px;\n",
              "    }\n",
              "\n",
              "    .colab-df-convert {\n",
              "      background-color: #E8F0FE;\n",
              "      border: none;\n",
              "      border-radius: 50%;\n",
              "      cursor: pointer;\n",
              "      display: none;\n",
              "      fill: #1967D2;\n",
              "      height: 32px;\n",
              "      padding: 0 0 0 0;\n",
              "      width: 32px;\n",
              "    }\n",
              "\n",
              "    .colab-df-convert:hover {\n",
              "      background-color: #E2EBFA;\n",
              "      box-shadow: 0px 1px 2px rgba(60, 64, 67, 0.3), 0px 1px 3px 1px rgba(60, 64, 67, 0.15);\n",
              "      fill: #174EA6;\n",
              "    }\n",
              "\n",
              "    [theme=dark] .colab-df-convert {\n",
              "      background-color: #3B4455;\n",
              "      fill: #D2E3FC;\n",
              "    }\n",
              "\n",
              "    [theme=dark] .colab-df-convert:hover {\n",
              "      background-color: #434B5C;\n",
              "      box-shadow: 0px 1px 3px 1px rgba(0, 0, 0, 0.15);\n",
              "      filter: drop-shadow(0px 1px 2px rgba(0, 0, 0, 0.3));\n",
              "      fill: #FFFFFF;\n",
              "    }\n",
              "  </style>\n",
              "\n",
              "      <script>\n",
              "        const buttonEl =\n",
              "          document.querySelector('#df-06440c7f-530d-433c-9523-d8b4ca095dec button.colab-df-convert');\n",
              "        buttonEl.style.display =\n",
              "          google.colab.kernel.accessAllowed ? 'block' : 'none';\n",
              "\n",
              "        async function convertToInteractive(key) {\n",
              "          const element = document.querySelector('#df-06440c7f-530d-433c-9523-d8b4ca095dec');\n",
              "          const dataTable =\n",
              "            await google.colab.kernel.invokeFunction('convertToInteractive',\n",
              "                                                     [key], {});\n",
              "          if (!dataTable) return;\n",
              "\n",
              "          const docLinkHtml = 'Like what you see? Visit the ' +\n",
              "            '<a target=\"_blank\" href=https://colab.research.google.com/notebooks/data_table.ipynb>data table notebook</a>'\n",
              "            + ' to learn more about interactive tables.';\n",
              "          element.innerHTML = '';\n",
              "          dataTable['output_type'] = 'display_data';\n",
              "          await google.colab.output.renderOutput(dataTable, element);\n",
              "          const docLink = document.createElement('div');\n",
              "          docLink.innerHTML = docLinkHtml;\n",
              "          element.appendChild(docLink);\n",
              "        }\n",
              "      </script>\n",
              "    </div>\n",
              "  </div>\n",
              "  "
            ]
          },
          "metadata": {},
          "execution_count": 29
        }
      ]
    },
    {
      "cell_type": "code",
      "source": [
        "print(train.shape)\n",
        "print(test.shape)"
      ],
      "metadata": {
        "colab": {
          "base_uri": "https://localhost:8080/"
        },
        "id": "KS2LU0qc-y69",
        "outputId": "ab5bae1b-6ac4-4c87-9768-36f0b5704bad"
      },
      "execution_count": 30,
      "outputs": [
        {
          "output_type": "stream",
          "name": "stdout",
          "text": [
            "(40, 12)\n",
            "(10, 12)\n"
          ]
        }
      ]
    },
    {
      "cell_type": "code",
      "source": [
        "#train the model on the historical data, adding in regressors\n",
        "m = Prophet()\n",
        "for reg in ['tdiff', 'vpdmin', 'ppt', 'vpdmean', 'vpddiff']:\n",
        "  m.add_regressor(reg)\n",
        "m.fit(train)\n",
        "\n",
        "#make past and future df for trained model and forecasted model\n",
        "past = m.predict(train)\n",
        "future = test\n",
        "forecast = m.predict(future)"
      ],
      "metadata": {
        "colab": {
          "base_uri": "https://localhost:8080/"
        },
        "id": "c1AReuJM30nW",
        "outputId": "c66417bd-74a7-409b-949c-cdbd44d84be1"
      },
      "execution_count": 31,
      "outputs": [
        {
          "output_type": "stream",
          "name": "stderr",
          "text": [
            "INFO:prophet:Disabling weekly seasonality. Run prophet with weekly_seasonality=True to override this.\n",
            "INFO:prophet:Disabling daily seasonality. Run prophet with daily_seasonality=True to override this.\n",
            "DEBUG:cmdstanpy:input tempfile: /tmp/tmpr5xdj8nm/s4n3r9ni.json\n",
            "DEBUG:cmdstanpy:input tempfile: /tmp/tmpr5xdj8nm/_x68cj34.json\n",
            "DEBUG:cmdstanpy:idx 0\n",
            "DEBUG:cmdstanpy:running CmdStan, num_threads: None\n",
            "DEBUG:cmdstanpy:CmdStan args: ['/usr/local/lib/python3.8/dist-packages/prophet/stan_model/prophet_model.bin', 'random', 'seed=67063', 'data', 'file=/tmp/tmpr5xdj8nm/s4n3r9ni.json', 'init=/tmp/tmpr5xdj8nm/_x68cj34.json', 'output', 'file=/tmp/tmpr5xdj8nm/prophet_model78j6t5n5/prophet_model-20221207233751.csv', 'method=optimize', 'algorithm=newton', 'iter=10000']\n",
            "23:37:51 - cmdstanpy - INFO - Chain [1] start processing\n",
            "INFO:cmdstanpy:Chain [1] start processing\n",
            "23:37:51 - cmdstanpy - INFO - Chain [1] done processing\n",
            "INFO:cmdstanpy:Chain [1] done processing\n"
          ]
        }
      ]
    },
    {
      "cell_type": "code",
      "source": [
        "#plot fitted model\n",
        "m.plot(past)"
      ],
      "metadata": {
        "colab": {
          "base_uri": "https://localhost:8080/",
          "height": 865
        },
        "id": "YBbUEQ-48Zmv",
        "outputId": "e54793b2-ba7c-49d5-b8e7-4b723e18a923"
      },
      "execution_count": 32,
      "outputs": [
        {
          "output_type": "execute_result",
          "data": {
            "text/plain": [
              "<Figure size 720x432 with 1 Axes>"
            ],
            "image/png": "[encoded data removed]"
          },
          "metadata": {},
          "execution_count": 32
        },
        {
          "output_type": "display_data",
          "data": {
            "text/plain": [
              "<Figure size 720x432 with 1 Axes>"
            ],
            "image/png": "[encoded data removed]"
          },
          "metadata": {}
        }
      ]
    },
    {
      "cell_type": "code",
      "source": [
        "#plot forecast\n",
        "m.plot(forecast)"
      ],
      "metadata": {
        "colab": {
          "base_uri": "https://localhost:8080/",
          "height": 865
        },
        "id": "0y4tUsrZ5vj6",
        "outputId": "0793280a-e5ce-4968-c0b2-f412cb7edf60"
      },
      "execution_count": 33,
      "outputs": [
        {
          "output_type": "execute_result",
          "data": {
            "text/plain": [
              "<Figure size 720x432 with 1 Axes>"
            ],
            "image/png": "[encoded data removed]"
          },
          "metadata": {},
          "execution_count": 33
        },
        {
          "output_type": "display_data",
          "data": {
            "text/plain": [
              "<Figure size 720x432 with 1 Axes>"
            ],
            "image/png": "[encoded data removed]"
          },
          "metadata": {}
        }
      ]
    },
    {
      "cell_type": "code",
      "source": [
        "forecast['yhat']"
      ],
      "metadata": {
        "colab": {
          "base_uri": "https://localhost:8080/"
        },
        "id": "iW-jCsrtHBWy",
        "outputId": "1b9c1d6b-0cec-4fa9-8947-7b17e7b40f4c"
      },
      "execution_count": 34,
      "outputs": [
        {
          "output_type": "execute_result",
          "data": {
            "text/plain": [
              "0    73.948913\n",
              "1    60.644368\n",
              "2    70.870217\n",
              "3    76.070775\n",
              "4    71.281039\n",
              "5    63.432133\n",
              "6    59.851510\n",
              "7    52.741461\n",
              "8    58.721375\n",
              "9    59.084026\n",
              "Name: yhat, dtype: float64"
            ]
          },
          "metadata": {},
          "execution_count": 34
        }
      ]
    },
    {
      "cell_type": "code",
      "source": [
        "#Assessing Model Accuracy\n",
        "#training model\n",
        "predictions = past['yhat']\n",
        "print('Traing RMSE: ', rmse(predictions, train['y']))\n",
        "print('Average of Train Data: ', train['y'].mean())\n",
        "print('Training RMSE/AVG: ', rmse(predictions, train['y'])/train['y'].mean())\n",
        "\n",
        "print('')\n",
        "print('*' * 30)\n",
        "print('')\n",
        "\n",
        "#testing model\n",
        "predictions = forecast['yhat']\n",
        "print('Testing RMSE: ', rmse(predictions, test['y']))\n",
        "print('Average of Test Data: ', test['y'].mean())\n",
        "print('Testing RMSE/AVG: ', rmse(predictions, test['y'])/test['y'].mean())"
      ],
      "metadata": {
        "colab": {
          "base_uri": "https://localhost:8080/"
        },
        "id": "bFtjnKOHKmOh",
        "outputId": "33a98de0-f1bc-4db4-e6eb-5437415c0aad"
      },
      "execution_count": 35,
      "outputs": [
        {
          "output_type": "stream",
          "name": "stdout",
          "text": [
            "Traing RMSE:  14.949012657844786\n",
            "Average of Train Data:  106.04393561074153\n",
            "Training RMSE/AVG:  0.14096999108669966\n",
            "\n",
            "******************************\n",
            "\n",
            "Testing RMSE:  8.62184716218035\n",
            "Average of Test Data:  61.904229566292756\n",
            "Testing RMSE/AVG:  0.13927719030809166\n"
          ]
        }
      ]
    },
    {
      "cell_type": "code",
      "source": [
        "#compare the results with parameters to the results without parameters\n",
        "m_no_reg = Prophet()\n",
        "m_no_reg.fit(train[['ds', 'y']])\n",
        "\n",
        "#make future and past dfs\n",
        "past_no_reg = m_no_reg.predict(train[['ds', 'y']])\n",
        "future_no_reg = test[['ds', 'y']]\n",
        "forecast_no_reg = m_no_reg.predict(future_no_reg)"
      ],
      "metadata": {
        "colab": {
          "base_uri": "https://localhost:8080/"
        },
        "id": "puHMhIZ6KmSe",
        "outputId": "f3e5c72e-f88e-4b3e-98a3-b141e9ceb6ff"
      },
      "execution_count": 36,
      "outputs": [
        {
          "output_type": "stream",
          "name": "stderr",
          "text": [
            "INFO:prophet:Disabling weekly seasonality. Run prophet with weekly_seasonality=True to override this.\n",
            "INFO:prophet:Disabling daily seasonality. Run prophet with daily_seasonality=True to override this.\n",
            "DEBUG:cmdstanpy:input tempfile: /tmp/tmpr5xdj8nm/b3z3os1e.json\n",
            "DEBUG:cmdstanpy:input tempfile: /tmp/tmpr5xdj8nm/7wdgiy1_.json\n",
            "DEBUG:cmdstanpy:idx 0\n",
            "DEBUG:cmdstanpy:running CmdStan, num_threads: None\n",
            "DEBUG:cmdstanpy:CmdStan args: ['/usr/local/lib/python3.8/dist-packages/prophet/stan_model/prophet_model.bin', 'random', 'seed=5672', 'data', 'file=/tmp/tmpr5xdj8nm/b3z3os1e.json', 'init=/tmp/tmpr5xdj8nm/7wdgiy1_.json', 'output', 'file=/tmp/tmpr5xdj8nm/prophet_modelgwdjyow2/prophet_model-20221207233753.csv', 'method=optimize', 'algorithm=newton', 'iter=10000']\n",
            "23:37:53 - cmdstanpy - INFO - Chain [1] start processing\n",
            "INFO:cmdstanpy:Chain [1] start processing\n",
            "23:37:53 - cmdstanpy - INFO - Chain [1] done processing\n",
            "INFO:cmdstanpy:Chain [1] done processing\n"
          ]
        }
      ]
    },
    {
      "cell_type": "code",
      "source": [
        "#training model with no parameters\n",
        "#accuracy of the training model\n",
        "predictions = past_no_reg['yhat']\n",
        "print('Traing RMSE: ', rmse(predictions, train['y']))\n",
        "print('Average of Train Data: ', train['y'].mean())\n",
        "print('Training RMSE/AVG: ', rmse(predictions, train['y'])/train['y'].mean())\n",
        "\n",
        "print('')\n",
        "print('*' * 30)\n",
        "print('')\n",
        "\n",
        "#testing model with no parameters\n",
        "predictions = forecast_no_reg['yhat']\n",
        "print('Testing RMSE: ', rmse(predictions, test['y']))\n",
        "print('Average of Test Data: ', test['y'].mean())\n",
        "print('Testing RMSE/AVG: ', rmse(predictions, test['y'])/test['y'].mean())"
      ],
      "metadata": {
        "colab": {
          "base_uri": "https://localhost:8080/"
        },
        "id": "Nf5rcGR_K1iQ",
        "outputId": "045c9fb4-b6d6-49bc-b3a8-acaf91889081"
      },
      "execution_count": 37,
      "outputs": [
        {
          "output_type": "stream",
          "name": "stdout",
          "text": [
            "Traing RMSE:  16.196970046702354\n",
            "Average of Train Data:  106.04393561074153\n",
            "Training RMSE/AVG:  0.15273829619222196\n",
            "\n",
            "******************************\n",
            "\n",
            "Testing RMSE:  10.583879001883977\n",
            "Average of Test Data:  61.904229566292756\n",
            "Testing RMSE/AVG:  0.17097182334770492\n"
          ]
        }
      ]
    },
    {
      "cell_type": "markdown",
      "source": [
        "Adding in the regressors makes the model better, but not a whole lot."
      ],
      "metadata": {
        "id": "3oJ8Uc2o8IDf"
      }
    },
    {
      "cell_type": "markdown",
      "source": [
        "# Forecasting 5 Years Out"
      ],
      "metadata": {
        "id": "b9bSUwQrOF4R"
      }
    },
    {
      "cell_type": "markdown",
      "source": [
        "## Imputing with MICE"
      ],
      "metadata": {
        "id": "esMYUCccOmYr"
      }
    },
    {
      "cell_type": "code",
      "source": [
        "#add some empty rows to the df for next five years\n",
        "empty = pd.DataFrame({'ppt':[np.nan,np.nan,np.nan,np.nan,np.nan], 'tmin':[np.nan,np.nan,np.nan,np.nan,np.nan], 'tmean':[np.nan,np.nan,np.nan,np.nan,np.nan], 'tmax':[np.nan,np.nan,np.nan,np.nan,np.nan], 'tdewmean':[np.nan,np.nan,np.nan,np.nan,np.nan],\n",
        "                     'vpdmin':[np.nan,np.nan,np.nan,np.nan,np.nan], 'vpdmax':[np.nan,np.nan,np.nan,np.nan,np.nan], 'tdiff' :[np.nan,np.nan,np.nan,np.nan,np.nan], 'tdiff' :[np.nan,np.nan,np.nan,np.nan,np.nan], \n",
        "                     'yield_tree' :[np.nan,np.nan,np.nan,np.nan,np.nan], 'date': ['2022-01', '2023-01', '2024-01', '2025-01', '2026-01']})\n",
        "\n",
        "prism3_future = prism3.append(empty)\n",
        "\n",
        "prism3_future['date'] = pd.to_datetime(prism3_future['date'])"
      ],
      "metadata": {
        "id": "uvRrLvNJOFJJ"
      },
      "execution_count": 38,
      "outputs": []
    },
    {
      "cell_type": "code",
      "source": [
        "#mice imputation\n",
        "X = prism3_future[prism3_future.columns[0:10]]\n",
        "imputer = IterativeImputer()\n",
        "prism3_future[prism3_future.columns[0:10]] = imputer.fit_transform(X)\n",
        "\n",
        "prism2_future = prism3_future.reset_index(drop=True)"
      ],
      "metadata": {
        "id": "0miCQXbHOFQ0"
      },
      "execution_count": 39,
      "outputs": []
    },
    {
      "cell_type": "code",
      "source": [
        "prism3_future.head()"
      ],
      "metadata": {
        "colab": {
          "base_uri": "https://localhost:8080/",
          "height": 206
        },
        "id": "F0uLIDkLO9SV",
        "outputId": "83e34b82-8c26-403b-ffde-b95798545b32"
      },
      "execution_count": 40,
      "outputs": [
        {
          "output_type": "execute_result",
          "data": {
            "text/plain": [
              "      ppt       tmin      tmean       tmax   tdewmean    vpdmin     vpdmax  \\\n",
              "0  160.07  35.936667  47.560000  59.190833  31.820000  1.539500  14.790417   \n",
              "1  151.75  37.214167  48.848333  60.475833  31.831667  2.014167  15.471333   \n",
              "2  143.71  37.306667  48.983333  60.665000  32.799167  1.925167  15.160417   \n",
              "3  176.08  36.076667  47.360000  58.643333  32.312500  1.686667  14.011333   \n",
              "4   97.12  36.110833  47.941667  59.785833  32.952500  1.477500  13.763417   \n",
              "\n",
              "     vpddiff      tdiff   vpdmean  yield_tree       date  \n",
              "0  13.250917  23.254167  8.164958  157.833656 1972-01-01  \n",
              "1  13.457167  23.261667  8.742750  179.322328 1973-01-01  \n",
              "2  13.235250  23.358333  8.542792  157.728707 1974-01-01  \n",
              "3  12.324667  22.566667  7.849000  170.974729 1975-01-01  \n",
              "4  12.285917  23.675000  7.620458  160.319574 1976-01-01  "
            ],
            "text/html": [
              "\n",
              "  <div id=\"df-330f3ce1-c5d5-4342-a68b-2fcd94ad7a4a\">\n",
              "    <div class=\"colab-df-container\">\n",
              "      <div>\n",
              "<style scoped>\n",
              "    .dataframe tbody tr th:only-of-type {\n",
              "        vertical-align: middle;\n",
              "    }\n",
              "\n",
              "    .dataframe tbody tr th {\n",
              "        vertical-align: top;\n",
              "    }\n",
              "\n",
              "    .dataframe thead th {\n",
              "        text-align: right;\n",
              "    }\n",
              "</style>\n",
              "<table border=\"1\" class=\"dataframe\">\n",
              "  <thead>\n",
              "    <tr style=\"text-align: right;\">\n",
              "      <th></th>\n",
              "      <th>ppt</th>\n",
              "      <th>tmin</th>\n",
              "      <th>tmean</th>\n",
              "      <th>tmax</th>\n",
              "      <th>tdewmean</th>\n",
              "      <th>vpdmin</th>\n",
              "      <th>vpdmax</th>\n",
              "      <th>vpddiff</th>\n",
              "      <th>tdiff</th>\n",
              "      <th>vpdmean</th>\n",
              "      <th>yield_tree</th>\n",
              "      <th>date</th>\n",
              "    </tr>\n",
              "  </thead>\n",
              "  <tbody>\n",
              "    <tr>\n",
              "      <th>0</th>\n",
              "      <td>160.07</td>\n",
              "      <td>35.936667</td>\n",
              "      <td>47.560000</td>\n",
              "      <td>59.190833</td>\n",
              "      <td>31.820000</td>\n",
              "      <td>1.539500</td>\n",
              "      <td>14.790417</td>\n",
              "      <td>13.250917</td>\n",
              "      <td>23.254167</td>\n",
              "      <td>8.164958</td>\n",
              "      <td>157.833656</td>\n",
              "      <td>1972-01-01</td>\n",
              "    </tr>\n",
              "    <tr>\n",
              "      <th>1</th>\n",
              "      <td>151.75</td>\n",
              "      <td>37.214167</td>\n",
              "      <td>48.848333</td>\n",
              "      <td>60.475833</td>\n",
              "      <td>31.831667</td>\n",
              "      <td>2.014167</td>\n",
              "      <td>15.471333</td>\n",
              "      <td>13.457167</td>\n",
              "      <td>23.261667</td>\n",
              "      <td>8.742750</td>\n",
              "      <td>179.322328</td>\n",
              "      <td>1973-01-01</td>\n",
              "    </tr>\n",
              "    <tr>\n",
              "      <th>2</th>\n",
              "      <td>143.71</td>\n",
              "      <td>37.306667</td>\n",
              "      <td>48.983333</td>\n",
              "      <td>60.665000</td>\n",
              "      <td>32.799167</td>\n",
              "      <td>1.925167</td>\n",
              "      <td>15.160417</td>\n",
              "      <td>13.235250</td>\n",
              "      <td>23.358333</td>\n",
              "      <td>8.542792</td>\n",
              "      <td>157.728707</td>\n",
              "      <td>1974-01-01</td>\n",
              "    </tr>\n",
              "    <tr>\n",
              "      <th>3</th>\n",
              "      <td>176.08</td>\n",
              "      <td>36.076667</td>\n",
              "      <td>47.360000</td>\n",
              "      <td>58.643333</td>\n",
              "      <td>32.312500</td>\n",
              "      <td>1.686667</td>\n",
              "      <td>14.011333</td>\n",
              "      <td>12.324667</td>\n",
              "      <td>22.566667</td>\n",
              "      <td>7.849000</td>\n",
              "      <td>170.974729</td>\n",
              "      <td>1975-01-01</td>\n",
              "    </tr>\n",
              "    <tr>\n",
              "      <th>4</th>\n",
              "      <td>97.12</td>\n",
              "      <td>36.110833</td>\n",
              "      <td>47.941667</td>\n",
              "      <td>59.785833</td>\n",
              "      <td>32.952500</td>\n",
              "      <td>1.477500</td>\n",
              "      <td>13.763417</td>\n",
              "      <td>12.285917</td>\n",
              "      <td>23.675000</td>\n",
              "      <td>7.620458</td>\n",
              "      <td>160.319574</td>\n",
              "      <td>1976-01-01</td>\n",
              "    </tr>\n",
              "  </tbody>\n",
              "</table>\n",
              "</div>\n",
              "      <button class=\"colab-df-convert\" onclick=\"convertToInteractive('df-330f3ce1-c5d5-4342-a68b-2fcd94ad7a4a')\"\n",
              "              title=\"Convert this dataframe to an interactive table.\"\n",
              "              style=\"display:none;\">\n",
              "        \n",
              "  <svg xmlns=\"http://www.w3.org/2000/svg\" height=\"24px\"viewBox=\"0 0 24 24\"\n",
              "       width=\"24px\">\n",
              "    <path d=\"M0 0h24v24H0V0z\" fill=\"none\"/>\n",
              "    <path d=\"M18.56 5.44l.94 2.06.94-2.06 2.06-.94-2.06-.94-.94-2.06-.94 2.06-2.06.94zm-11 1L8.5 8.5l.94-2.06 2.06-.94-2.06-.94L8.5 2.5l-.94 2.06-2.06.94zm10 10l.94 2.06.94-2.06 2.06-.94-2.06-.94-.94-2.06-.94 2.06-2.06.94z\"/><path d=\"M17.41 7.96l-1.37-1.37c-.4-.4-.92-.59-1.43-.59-.52 0-1.04.2-1.43.59L10.3 9.45l-7.72 7.72c-.78.78-.78 2.05 0 2.83L4 21.41c.39.39.9.59 1.41.59.51 0 1.02-.2 1.41-.59l7.78-7.78 2.81-2.81c.8-.78.8-2.07 0-2.86zM5.41 20L4 18.59l7.72-7.72 1.47 1.35L5.41 20z\"/>\n",
              "  </svg>\n",
              "      </button>\n",
              "      \n",
              "  <style>\n",
              "    .colab-df-container {\n",
              "      display:flex;\n",
              "      flex-wrap:wrap;\n",
              "      gap: 12px;\n",
              "    }\n",
              "\n",
              "    .colab-df-convert {\n",
              "      background-color: #E8F0FE;\n",
              "      border: none;\n",
              "      border-radius: 50%;\n",
              "      cursor: pointer;\n",
              "      display: none;\n",
              "      fill: #1967D2;\n",
              "      height: 32px;\n",
              "      padding: 0 0 0 0;\n",
              "      width: 32px;\n",
              "    }\n",
              "\n",
              "    .colab-df-convert:hover {\n",
              "      background-color: #E2EBFA;\n",
              "      box-shadow: 0px 1px 2px rgba(60, 64, 67, 0.3), 0px 1px 3px 1px rgba(60, 64, 67, 0.15);\n",
              "      fill: #174EA6;\n",
              "    }\n",
              "\n",
              "    [theme=dark] .colab-df-convert {\n",
              "      background-color: #3B4455;\n",
              "      fill: #D2E3FC;\n",
              "    }\n",
              "\n",
              "    [theme=dark] .colab-df-convert:hover {\n",
              "      background-color: #434B5C;\n",
              "      box-shadow: 0px 1px 3px 1px rgba(0, 0, 0, 0.15);\n",
              "      filter: drop-shadow(0px 1px 2px rgba(0, 0, 0, 0.3));\n",
              "      fill: #FFFFFF;\n",
              "    }\n",
              "  </style>\n",
              "\n",
              "      <script>\n",
              "        const buttonEl =\n",
              "          document.querySelector('#df-330f3ce1-c5d5-4342-a68b-2fcd94ad7a4a button.colab-df-convert');\n",
              "        buttonEl.style.display =\n",
              "          google.colab.kernel.accessAllowed ? 'block' : 'none';\n",
              "\n",
              "        async function convertToInteractive(key) {\n",
              "          const element = document.querySelector('#df-330f3ce1-c5d5-4342-a68b-2fcd94ad7a4a');\n",
              "          const dataTable =\n",
              "            await google.colab.kernel.invokeFunction('convertToInteractive',\n",
              "                                                     [key], {});\n",
              "          if (!dataTable) return;\n",
              "\n",
              "          const docLinkHtml = 'Like what you see? Visit the ' +\n",
              "            '<a target=\"_blank\" href=https://colab.research.google.com/notebooks/data_table.ipynb>data table notebook</a>'\n",
              "            + ' to learn more about interactive tables.';\n",
              "          element.innerHTML = '';\n",
              "          dataTable['output_type'] = 'display_data';\n",
              "          await google.colab.output.renderOutput(dataTable, element);\n",
              "          const docLink = document.createElement('div');\n",
              "          docLink.innerHTML = docLinkHtml;\n",
              "          element.appendChild(docLink);\n",
              "        }\n",
              "      </script>\n",
              "    </div>\n",
              "  </div>\n",
              "  "
            ]
          },
          "metadata": {},
          "execution_count": 40
        }
      ]
    },
    {
      "cell_type": "code",
      "source": [
        "prism3_future.tail()"
      ],
      "metadata": {
        "colab": {
          "base_uri": "https://localhost:8080/",
          "height": 206
        },
        "id": "zzLbzhwsO0gU",
        "outputId": "42e0737e-2a63-42b1-8f94-316c8d4ed3e0"
      },
      "execution_count": 41,
      "outputs": [
        {
          "output_type": "execute_result",
          "data": {
            "text/plain": [
              "       ppt      tmin      tmean     tmax  tdewmean    vpdmin     vpdmax  \\\n",
              "0  145.493  37.31305  48.604317  59.8972  33.32065  1.612798  14.222528   \n",
              "1  145.493  37.31305  48.604317  59.8972  33.32065  1.612798  14.222528   \n",
              "2  145.493  37.31305  48.604317  59.8972  33.32065  1.612798  14.222528   \n",
              "3  145.493  37.31305  48.604317  59.8972  33.32065  1.612798  14.222528   \n",
              "4  145.493  37.31305  48.604317  59.8972  33.32065  1.612798  14.222528   \n",
              "\n",
              "    vpddiff     tdiff   vpdmean  yield_tree       date  \n",
              "0  12.60973  22.58415  7.917663         NaN 2022-01-01  \n",
              "1  12.60973  22.58415  7.917663         NaN 2023-01-01  \n",
              "2  12.60973  22.58415  7.917663         NaN 2024-01-01  \n",
              "3  12.60973  22.58415  7.917663         NaN 2025-01-01  \n",
              "4  12.60973  22.58415  7.917663         NaN 2026-01-01  "
            ],
            "text/html": [
              "\n",
              "  <div id=\"df-bd2cc679-ed78-4aa0-8a02-a06f29e3b067\">\n",
              "    <div class=\"colab-df-container\">\n",
              "      <div>\n",
              "<style scoped>\n",
              "    .dataframe tbody tr th:only-of-type {\n",
              "        vertical-align: middle;\n",
              "    }\n",
              "\n",
              "    .dataframe tbody tr th {\n",
              "        vertical-align: top;\n",
              "    }\n",
              "\n",
              "    .dataframe thead th {\n",
              "        text-align: right;\n",
              "    }\n",
              "</style>\n",
              "<table border=\"1\" class=\"dataframe\">\n",
              "  <thead>\n",
              "    <tr style=\"text-align: right;\">\n",
              "      <th></th>\n",
              "      <th>ppt</th>\n",
              "      <th>tmin</th>\n",
              "      <th>tmean</th>\n",
              "      <th>tmax</th>\n",
              "      <th>tdewmean</th>\n",
              "      <th>vpdmin</th>\n",
              "      <th>vpdmax</th>\n",
              "      <th>vpddiff</th>\n",
              "      <th>tdiff</th>\n",
              "      <th>vpdmean</th>\n",
              "      <th>yield_tree</th>\n",
              "      <th>date</th>\n",
              "    </tr>\n",
              "  </thead>\n",
              "  <tbody>\n",
              "    <tr>\n",
              "      <th>0</th>\n",
              "      <td>145.493</td>\n",
              "      <td>37.31305</td>\n",
              "      <td>48.604317</td>\n",
              "      <td>59.8972</td>\n",
              "      <td>33.32065</td>\n",
              "      <td>1.612798</td>\n",
              "      <td>14.222528</td>\n",
              "      <td>12.60973</td>\n",
              "      <td>22.58415</td>\n",
              "      <td>7.917663</td>\n",
              "      <td>NaN</td>\n",
              "      <td>2022-01-01</td>\n",
              "    </tr>\n",
              "    <tr>\n",
              "      <th>1</th>\n",
              "      <td>145.493</td>\n",
              "      <td>37.31305</td>\n",
              "      <td>48.604317</td>\n",
              "      <td>59.8972</td>\n",
              "      <td>33.32065</td>\n",
              "      <td>1.612798</td>\n",
              "      <td>14.222528</td>\n",
              "      <td>12.60973</td>\n",
              "      <td>22.58415</td>\n",
              "      <td>7.917663</td>\n",
              "      <td>NaN</td>\n",
              "      <td>2023-01-01</td>\n",
              "    </tr>\n",
              "    <tr>\n",
              "      <th>2</th>\n",
              "      <td>145.493</td>\n",
              "      <td>37.31305</td>\n",
              "      <td>48.604317</td>\n",
              "      <td>59.8972</td>\n",
              "      <td>33.32065</td>\n",
              "      <td>1.612798</td>\n",
              "      <td>14.222528</td>\n",
              "      <td>12.60973</td>\n",
              "      <td>22.58415</td>\n",
              "      <td>7.917663</td>\n",
              "      <td>NaN</td>\n",
              "      <td>2024-01-01</td>\n",
              "    </tr>\n",
              "    <tr>\n",
              "      <th>3</th>\n",
              "      <td>145.493</td>\n",
              "      <td>37.31305</td>\n",
              "      <td>48.604317</td>\n",
              "      <td>59.8972</td>\n",
              "      <td>33.32065</td>\n",
              "      <td>1.612798</td>\n",
              "      <td>14.222528</td>\n",
              "      <td>12.60973</td>\n",
              "      <td>22.58415</td>\n",
              "      <td>7.917663</td>\n",
              "      <td>NaN</td>\n",
              "      <td>2025-01-01</td>\n",
              "    </tr>\n",
              "    <tr>\n",
              "      <th>4</th>\n",
              "      <td>145.493</td>\n",
              "      <td>37.31305</td>\n",
              "      <td>48.604317</td>\n",
              "      <td>59.8972</td>\n",
              "      <td>33.32065</td>\n",
              "      <td>1.612798</td>\n",
              "      <td>14.222528</td>\n",
              "      <td>12.60973</td>\n",
              "      <td>22.58415</td>\n",
              "      <td>7.917663</td>\n",
              "      <td>NaN</td>\n",
              "      <td>2026-01-01</td>\n",
              "    </tr>\n",
              "  </tbody>\n",
              "</table>\n",
              "</div>\n",
              "      <button class=\"colab-df-convert\" onclick=\"convertToInteractive('df-bd2cc679-ed78-4aa0-8a02-a06f29e3b067')\"\n",
              "              title=\"Convert this dataframe to an interactive table.\"\n",
              "              style=\"display:none;\">\n",
              "        \n",
              "  <svg xmlns=\"http://www.w3.org/2000/svg\" height=\"24px\"viewBox=\"0 0 24 24\"\n",
              "       width=\"24px\">\n",
              "    <path d=\"M0 0h24v24H0V0z\" fill=\"none\"/>\n",
              "    <path d=\"M18.56 5.44l.94 2.06.94-2.06 2.06-.94-2.06-.94-.94-2.06-.94 2.06-2.06.94zm-11 1L8.5 8.5l.94-2.06 2.06-.94-2.06-.94L8.5 2.5l-.94 2.06-2.06.94zm10 10l.94 2.06.94-2.06 2.06-.94-2.06-.94-.94-2.06-.94 2.06-2.06.94z\"/><path d=\"M17.41 7.96l-1.37-1.37c-.4-.4-.92-.59-1.43-.59-.52 0-1.04.2-1.43.59L10.3 9.45l-7.72 7.72c-.78.78-.78 2.05 0 2.83L4 21.41c.39.39.9.59 1.41.59.51 0 1.02-.2 1.41-.59l7.78-7.78 2.81-2.81c.8-.78.8-2.07 0-2.86zM5.41 20L4 18.59l7.72-7.72 1.47 1.35L5.41 20z\"/>\n",
              "  </svg>\n",
              "      </button>\n",
              "      \n",
              "  <style>\n",
              "    .colab-df-container {\n",
              "      display:flex;\n",
              "      flex-wrap:wrap;\n",
              "      gap: 12px;\n",
              "    }\n",
              "\n",
              "    .colab-df-convert {\n",
              "      background-color: #E8F0FE;\n",
              "      border: none;\n",
              "      border-radius: 50%;\n",
              "      cursor: pointer;\n",
              "      display: none;\n",
              "      fill: #1967D2;\n",
              "      height: 32px;\n",
              "      padding: 0 0 0 0;\n",
              "      width: 32px;\n",
              "    }\n",
              "\n",
              "    .colab-df-convert:hover {\n",
              "      background-color: #E2EBFA;\n",
              "      box-shadow: 0px 1px 2px rgba(60, 64, 67, 0.3), 0px 1px 3px 1px rgba(60, 64, 67, 0.15);\n",
              "      fill: #174EA6;\n",
              "    }\n",
              "\n",
              "    [theme=dark] .colab-df-convert {\n",
              "      background-color: #3B4455;\n",
              "      fill: #D2E3FC;\n",
              "    }\n",
              "\n",
              "    [theme=dark] .colab-df-convert:hover {\n",
              "      background-color: #434B5C;\n",
              "      box-shadow: 0px 1px 3px 1px rgba(0, 0, 0, 0.15);\n",
              "      filter: drop-shadow(0px 1px 2px rgba(0, 0, 0, 0.3));\n",
              "      fill: #FFFFFF;\n",
              "    }\n",
              "  </style>\n",
              "\n",
              "      <script>\n",
              "        const buttonEl =\n",
              "          document.querySelector('#df-bd2cc679-ed78-4aa0-8a02-a06f29e3b067 button.colab-df-convert');\n",
              "        buttonEl.style.display =\n",
              "          google.colab.kernel.accessAllowed ? 'block' : 'none';\n",
              "\n",
              "        async function convertToInteractive(key) {\n",
              "          const element = document.querySelector('#df-bd2cc679-ed78-4aa0-8a02-a06f29e3b067');\n",
              "          const dataTable =\n",
              "            await google.colab.kernel.invokeFunction('convertToInteractive',\n",
              "                                                     [key], {});\n",
              "          if (!dataTable) return;\n",
              "\n",
              "          const docLinkHtml = 'Like what you see? Visit the ' +\n",
              "            '<a target=\"_blank\" href=https://colab.research.google.com/notebooks/data_table.ipynb>data table notebook</a>'\n",
              "            + ' to learn more about interactive tables.';\n",
              "          element.innerHTML = '';\n",
              "          dataTable['output_type'] = 'display_data';\n",
              "          await google.colab.output.renderOutput(dataTable, element);\n",
              "          const docLink = document.createElement('div');\n",
              "          docLink.innerHTML = docLinkHtml;\n",
              "          element.appendChild(docLink);\n",
              "        }\n",
              "      </script>\n",
              "    </div>\n",
              "  </div>\n",
              "  "
            ]
          },
          "metadata": {},
          "execution_count": 41
        }
      ]
    },
    {
      "cell_type": "code",
      "source": [
        "#make a df p with datetime and yield_tree\n",
        "p = prism3_future[['date', 'yield_tree']]\n",
        "p.rename(columns={'date':'ds', 'yield_tree': 'y'}, inplace=True)\n",
        "\n",
        "#add potential predictors variables\n",
        "best_predictors = list(prism3_future.columns[:10])\n",
        "for predictor in best_predictors:\n",
        "  p[predictor] = prism3_future[predictor]\n",
        "p.apply(lambda x: x.isna().sum())"
      ],
      "metadata": {
        "colab": {
          "base_uri": "https://localhost:8080/"
        },
        "id": "g85wcVWFPA5o",
        "outputId": "7a3d89e0-99c0-46fb-b8f1-fda83dd09ed9"
      },
      "execution_count": 42,
      "outputs": [
        {
          "output_type": "stream",
          "name": "stderr",
          "text": [
            "/usr/local/lib/python3.8/dist-packages/pandas/core/frame.py:5039: SettingWithCopyWarning: \n",
            "A value is trying to be set on a copy of a slice from a DataFrame\n",
            "\n",
            "See the caveats in the documentation: https://pandas.pydata.org/pandas-docs/stable/user_guide/indexing.html#returning-a-view-versus-a-copy\n",
            "  return super().rename(\n",
            "<ipython-input-42-ae6b345154bf>:8: SettingWithCopyWarning: \n",
            "A value is trying to be set on a copy of a slice from a DataFrame.\n",
            "Try using .loc[row_indexer,col_indexer] = value instead\n",
            "\n",
            "See the caveats in the documentation: https://pandas.pydata.org/pandas-docs/stable/user_guide/indexing.html#returning-a-view-versus-a-copy\n",
            "  p[predictor] = prism3_future[predictor]\n"
          ]
        },
        {
          "output_type": "execute_result",
          "data": {
            "text/plain": [
              "ds          0\n",
              "y           5\n",
              "ppt         0\n",
              "tmin        0\n",
              "tmean       0\n",
              "tmax        0\n",
              "tdewmean    0\n",
              "vpdmin      0\n",
              "vpdmax      0\n",
              "vpddiff     0\n",
              "tdiff       0\n",
              "vpdmean     0\n",
              "dtype: int64"
            ]
          },
          "metadata": {},
          "execution_count": 42
        }
      ]
    },
    {
      "cell_type": "code",
      "source": [
        "#split into train and test\n",
        "train = p[:-5]\n",
        "test = p[-5:]"
      ],
      "metadata": {
        "id": "555B3I8qPcLl"
      },
      "execution_count": 43,
      "outputs": []
    },
    {
      "cell_type": "code",
      "source": [
        "print(train.shape)\n",
        "print(test.shape)"
      ],
      "metadata": {
        "colab": {
          "base_uri": "https://localhost:8080/"
        },
        "id": "kzzzskIuQrvE",
        "outputId": "b256178e-fb12-4354-998f-2eced811a049"
      },
      "execution_count": 44,
      "outputs": [
        {
          "output_type": "stream",
          "name": "stdout",
          "text": [
            "(50, 12)\n",
            "(5, 12)\n"
          ]
        }
      ]
    },
    {
      "cell_type": "code",
      "source": [
        "#train the model on the historical data, adding in regressors\n",
        "m = Prophet()\n",
        "for reg in ['tdiff', 'vpdmin', 'ppt', 'vpdmean', 'vpddiff']:\n",
        "  m.add_regressor(reg)\n",
        "m.fit(train)\n",
        "\n",
        "#make future and past dfs manually\n",
        "past = m.predict(train)\n",
        "future = test\n",
        "forecast = m.predict(future)"
      ],
      "metadata": {
        "colab": {
          "base_uri": "https://localhost:8080/"
        },
        "id": "zTqtkB6qPg1U",
        "outputId": "181b931d-da79-4ed2-b645-067aefac808c"
      },
      "execution_count": 45,
      "outputs": [
        {
          "output_type": "stream",
          "name": "stderr",
          "text": [
            "INFO:prophet:Disabling weekly seasonality. Run prophet with weekly_seasonality=True to override this.\n",
            "INFO:prophet:Disabling daily seasonality. Run prophet with daily_seasonality=True to override this.\n",
            "DEBUG:cmdstanpy:input tempfile: /tmp/tmpr5xdj8nm/2yjx9upr.json\n",
            "DEBUG:cmdstanpy:input tempfile: /tmp/tmpr5xdj8nm/jd1g4cm6.json\n",
            "DEBUG:cmdstanpy:idx 0\n",
            "DEBUG:cmdstanpy:running CmdStan, num_threads: None\n",
            "DEBUG:cmdstanpy:CmdStan args: ['/usr/local/lib/python3.8/dist-packages/prophet/stan_model/prophet_model.bin', 'random', 'seed=46743', 'data', 'file=/tmp/tmpr5xdj8nm/2yjx9upr.json', 'init=/tmp/tmpr5xdj8nm/jd1g4cm6.json', 'output', 'file=/tmp/tmpr5xdj8nm/prophet_models9abglyn/prophet_model-20221207233755.csv', 'method=optimize', 'algorithm=newton', 'iter=10000']\n",
            "23:37:55 - cmdstanpy - INFO - Chain [1] start processing\n",
            "INFO:cmdstanpy:Chain [1] start processing\n",
            "23:37:55 - cmdstanpy - INFO - Chain [1] done processing\n",
            "INFO:cmdstanpy:Chain [1] done processing\n"
          ]
        }
      ]
    },
    {
      "cell_type": "code",
      "source": [
        "m.plot(past)"
      ],
      "metadata": {
        "colab": {
          "base_uri": "https://localhost:8080/",
          "height": 865
        },
        "id": "oO99x8xkQWjl",
        "outputId": "241ca54e-75aa-467e-f322-456a4d154361"
      },
      "execution_count": 46,
      "outputs": [
        {
          "output_type": "execute_result",
          "data": {
            "text/plain": [
              "<Figure size 720x432 with 1 Axes>"
            ],
            "image/png": "[encoded data removed]"
          },
          "metadata": {},
          "execution_count": 46
        },
        {
          "output_type": "display_data",
          "data": {
            "text/plain": [
              "<Figure size 720x432 with 1 Axes>"
            ],
            "image/png": "[encoded data removed]"
          },
          "metadata": {}
        }
      ]
    },
    {
      "cell_type": "code",
      "source": [
        "m.plot(forecast)"
      ],
      "metadata": {
        "colab": {
          "base_uri": "https://localhost:8080/",
          "height": 865
        },
        "id": "cEAzV3cmQY2E",
        "outputId": "8e90ace6-b9dc-4d00-e473-301091715ea3"
      },
      "execution_count": 47,
      "outputs": [
        {
          "output_type": "execute_result",
          "data": {
            "text/plain": [
              "<Figure size 720x432 with 1 Axes>"
            ],
            "image/png": "[encoded data removed]"
          },
          "metadata": {},
          "execution_count": 47
        },
        {
          "output_type": "display_data",
          "data": {
            "text/plain": [
              "<Figure size 720x432 with 1 Axes>"
            ],
            "image/png": "[encoded data removed]"
          },
          "metadata": {}
        }
      ]
    },
    {
      "cell_type": "code",
      "source": [
        "#Assessing Model Accuracy\n",
        "#training model\n",
        "predictions = past['yhat']\n",
        "print('Traing RMSE: ', rmse(predictions, train['y']))\n",
        "print('Average of Train Data: ', train['y'].mean())\n",
        "print('Training RMSE/AVG: ', rmse(predictions, train['y'])/train['y'].mean())\n",
        "\n",
        "print('')\n",
        "print('*' * 30)\n",
        "print('')\n",
        "\n",
        "#Predictions\n",
        "forecast['yhat']"
      ],
      "metadata": {
        "colab": {
          "base_uri": "https://localhost:8080/"
        },
        "id": "7lWTl-nRPqSV",
        "outputId": "4cf2e839-438f-456e-eebf-d23965133501"
      },
      "execution_count": 48,
      "outputs": [
        {
          "output_type": "stream",
          "name": "stdout",
          "text": [
            "Traing RMSE:  13.787032257008951\n",
            "Average of Train Data:  97.21599440185177\n",
            "Training RMSE/AVG:  0.14181855919735709\n",
            "\n",
            "******************************\n",
            "\n"
          ]
        },
        {
          "output_type": "execute_result",
          "data": {
            "text/plain": [
              "0    38.393532\n",
              "1    38.717480\n",
              "2    40.373027\n",
              "3    30.486864\n",
              "4    29.476196\n",
              "Name: yhat, dtype: float64"
            ]
          },
          "metadata": {},
          "execution_count": 48
        }
      ]
    },
    {
      "cell_type": "code",
      "source": [
        "forecast"
      ],
      "metadata": {
        "colab": {
          "base_uri": "https://localhost:8080/",
          "height": 386
        },
        "id": "nkBuzoNVREDz",
        "outputId": "a1167797-fd88-4233-8c73-ade6a97f9981"
      },
      "execution_count": 49,
      "outputs": [
        {
          "output_type": "execute_result",
          "data": {
            "text/plain": [
              "          ds      trend  yhat_lower  yhat_upper  trend_lower  trend_upper  \\\n",
              "0 2022-01-01 -40.712182   20.756024   57.685628   -40.712247   -40.712113   \n",
              "1 2023-01-01 -42.939990   20.528623   56.665206   -42.940208   -42.939773   \n",
              "2 2024-01-01 -45.167798   22.320516   58.977136   -45.168252   -45.167366   \n",
              "3 2025-01-01 -47.401710   13.872687   48.400313   -47.402449   -47.401007   \n",
              "4 2026-01-01 -49.629518   12.436066   48.664211   -49.630598   -49.628514   \n",
              "\n",
              "   additive_terms  additive_terms_lower  additive_terms_upper  \\\n",
              "0       79.105714             79.105714             79.105714   \n",
              "1       81.657470             81.657470             81.657470   \n",
              "2       85.540825             85.540825             85.540825   \n",
              "3       77.888575             77.888575             77.888575   \n",
              "4       79.105714             79.105714             79.105714   \n",
              "\n",
              "   extra_regressors_additive  ...        vpdmin  vpdmin_lower  vpdmin_upper  \\\n",
              "0              -1.583240e-13  ... -2.823046e-14 -2.823046e-14 -2.823046e-14   \n",
              "1              -1.583240e-13  ... -2.823046e-14 -2.823046e-14 -2.823046e-14   \n",
              "2              -1.583240e-13  ... -2.823046e-14 -2.823046e-14 -2.823046e-14   \n",
              "3              -1.583240e-13  ... -2.823046e-14 -2.823046e-14 -2.823046e-14   \n",
              "4              -1.280995e-13  ... -9.410154e-15 -9.410154e-15 -9.410154e-15   \n",
              "\n",
              "      yearly  yearly_lower  yearly_upper  multiplicative_terms  \\\n",
              "0  79.105714     79.105714     79.105714                   0.0   \n",
              "1  81.657470     81.657470     81.657470                   0.0   \n",
              "2  85.540825     85.540825     85.540825                   0.0   \n",
              "3  77.888575     77.888575     77.888575                   0.0   \n",
              "4  79.105714     79.105714     79.105714                   0.0   \n",
              "\n",
              "   multiplicative_terms_lower  multiplicative_terms_upper       yhat  \n",
              "0                         0.0                         0.0  38.393532  \n",
              "1                         0.0                         0.0  38.717480  \n",
              "2                         0.0                         0.0  40.373027  \n",
              "3                         0.0                         0.0  30.486864  \n",
              "4                         0.0                         0.0  29.476196  \n",
              "\n",
              "[5 rows x 34 columns]"
            ],
            "text/html": [
              "\n",
              "  <div id=\"df-ca497755-91a5-41c0-abec-7d044f89709b\">\n",
              "    <div class=\"colab-df-container\">\n",
              "      <div>\n",
              "<style scoped>\n",
              "    .dataframe tbody tr th:only-of-type {\n",
              "        vertical-align: middle;\n",
              "    }\n",
              "\n",
              "    .dataframe tbody tr th {\n",
              "        vertical-align: top;\n",
              "    }\n",
              "\n",
              "    .dataframe thead th {\n",
              "        text-align: right;\n",
              "    }\n",
              "</style>\n",
              "<table border=\"1\" class=\"dataframe\">\n",
              "  <thead>\n",
              "    <tr style=\"text-align: right;\">\n",
              "      <th></th>\n",
              "      <th>ds</th>\n",
              "      <th>trend</th>\n",
              "      <th>yhat_lower</th>\n",
              "      <th>yhat_upper</th>\n",
              "      <th>trend_lower</th>\n",
              "      <th>trend_upper</th>\n",
              "      <th>additive_terms</th>\n",
              "      <th>additive_terms_lower</th>\n",
              "      <th>additive_terms_upper</th>\n",
              "      <th>extra_regressors_additive</th>\n",
              "      <th>...</th>\n",
              "      <th>vpdmin</th>\n",
              "      <th>vpdmin_lower</th>\n",
              "      <th>vpdmin_upper</th>\n",
              "      <th>yearly</th>\n",
              "      <th>yearly_lower</th>\n",
              "      <th>yearly_upper</th>\n",
              "      <th>multiplicative_terms</th>\n",
              "      <th>multiplicative_terms_lower</th>\n",
              "      <th>multiplicative_terms_upper</th>\n",
              "      <th>yhat</th>\n",
              "    </tr>\n",
              "  </thead>\n",
              "  <tbody>\n",
              "    <tr>\n",
              "      <th>0</th>\n",
              "      <td>2022-01-01</td>\n",
              "      <td>-40.712182</td>\n",
              "      <td>20.756024</td>\n",
              "      <td>57.685628</td>\n",
              "      <td>-40.712247</td>\n",
              "      <td>-40.712113</td>\n",
              "      <td>79.105714</td>\n",
              "      <td>79.105714</td>\n",
              "      <td>79.105714</td>\n",
              "      <td>-1.583240e-13</td>\n",
              "      <td>...</td>\n",
              "      <td>-2.823046e-14</td>\n",
              "      <td>-2.823046e-14</td>\n",
              "      <td>-2.823046e-14</td>\n",
              "      <td>79.105714</td>\n",
              "      <td>79.105714</td>\n",
              "      <td>79.105714</td>\n",
              "      <td>0.0</td>\n",
              "      <td>0.0</td>\n",
              "      <td>0.0</td>\n",
              "      <td>38.393532</td>\n",
              "    </tr>\n",
              "    <tr>\n",
              "      <th>1</th>\n",
              "      <td>2023-01-01</td>\n",
              "      <td>-42.939990</td>\n",
              "      <td>20.528623</td>\n",
              "      <td>56.665206</td>\n",
              "      <td>-42.940208</td>\n",
              "      <td>-42.939773</td>\n",
              "      <td>81.657470</td>\n",
              "      <td>81.657470</td>\n",
              "      <td>81.657470</td>\n",
              "      <td>-1.583240e-13</td>\n",
              "      <td>...</td>\n",
              "      <td>-2.823046e-14</td>\n",
              "      <td>-2.823046e-14</td>\n",
              "      <td>-2.823046e-14</td>\n",
              "      <td>81.657470</td>\n",
              "      <td>81.657470</td>\n",
              "      <td>81.657470</td>\n",
              "      <td>0.0</td>\n",
              "      <td>0.0</td>\n",
              "      <td>0.0</td>\n",
              "      <td>38.717480</td>\n",
              "    </tr>\n",
              "    <tr>\n",
              "      <th>2</th>\n",
              "      <td>2024-01-01</td>\n",
              "      <td>-45.167798</td>\n",
              "      <td>22.320516</td>\n",
              "      <td>58.977136</td>\n",
              "      <td>-45.168252</td>\n",
              "      <td>-45.167366</td>\n",
              "      <td>85.540825</td>\n",
              "      <td>85.540825</td>\n",
              "      <td>85.540825</td>\n",
              "      <td>-1.583240e-13</td>\n",
              "      <td>...</td>\n",
              "      <td>-2.823046e-14</td>\n",
              "      <td>-2.823046e-14</td>\n",
              "      <td>-2.823046e-14</td>\n",
              "      <td>85.540825</td>\n",
              "      <td>85.540825</td>\n",
              "      <td>85.540825</td>\n",
              "      <td>0.0</td>\n",
              "      <td>0.0</td>\n",
              "      <td>0.0</td>\n",
              "      <td>40.373027</td>\n",
              "    </tr>\n",
              "    <tr>\n",
              "      <th>3</th>\n",
              "      <td>2025-01-01</td>\n",
              "      <td>-47.401710</td>\n",
              "      <td>13.872687</td>\n",
              "      <td>48.400313</td>\n",
              "      <td>-47.402449</td>\n",
              "      <td>-47.401007</td>\n",
              "      <td>77.888575</td>\n",
              "      <td>77.888575</td>\n",
              "      <td>77.888575</td>\n",
              "      <td>-1.583240e-13</td>\n",
              "      <td>...</td>\n",
              "      <td>-2.823046e-14</td>\n",
              "      <td>-2.823046e-14</td>\n",
              "      <td>-2.823046e-14</td>\n",
              "      <td>77.888575</td>\n",
              "      <td>77.888575</td>\n",
              "      <td>77.888575</td>\n",
              "      <td>0.0</td>\n",
              "      <td>0.0</td>\n",
              "      <td>0.0</td>\n",
              "      <td>30.486864</td>\n",
              "    </tr>\n",
              "    <tr>\n",
              "      <th>4</th>\n",
              "      <td>2026-01-01</td>\n",
              "      <td>-49.629518</td>\n",
              "      <td>12.436066</td>\n",
              "      <td>48.664211</td>\n",
              "      <td>-49.630598</td>\n",
              "      <td>-49.628514</td>\n",
              "      <td>79.105714</td>\n",
              "      <td>79.105714</td>\n",
              "      <td>79.105714</td>\n",
              "      <td>-1.280995e-13</td>\n",
              "      <td>...</td>\n",
              "      <td>-9.410154e-15</td>\n",
              "      <td>-9.410154e-15</td>\n",
              "      <td>-9.410154e-15</td>\n",
              "      <td>79.105714</td>\n",
              "      <td>79.105714</td>\n",
              "      <td>79.105714</td>\n",
              "      <td>0.0</td>\n",
              "      <td>0.0</td>\n",
              "      <td>0.0</td>\n",
              "      <td>29.476196</td>\n",
              "    </tr>\n",
              "  </tbody>\n",
              "</table>\n",
              "<p>5 rows × 34 columns</p>\n",
              "</div>\n",
              "      <button class=\"colab-df-convert\" onclick=\"convertToInteractive('df-ca497755-91a5-41c0-abec-7d044f89709b')\"\n",
              "              title=\"Convert this dataframe to an interactive table.\"\n",
              "              style=\"display:none;\">\n",
              "        \n",
              "  <svg xmlns=\"http://www.w3.org/2000/svg\" height=\"24px\"viewBox=\"0 0 24 24\"\n",
              "       width=\"24px\">\n",
              "    <path d=\"M0 0h24v24H0V0z\" fill=\"none\"/>\n",
              "    <path d=\"M18.56 5.44l.94 2.06.94-2.06 2.06-.94-2.06-.94-.94-2.06-.94 2.06-2.06.94zm-11 1L8.5 8.5l.94-2.06 2.06-.94-2.06-.94L8.5 2.5l-.94 2.06-2.06.94zm10 10l.94 2.06.94-2.06 2.06-.94-2.06-.94-.94-2.06-.94 2.06-2.06.94z\"/><path d=\"M17.41 7.96l-1.37-1.37c-.4-.4-.92-.59-1.43-.59-.52 0-1.04.2-1.43.59L10.3 9.45l-7.72 7.72c-.78.78-.78 2.05 0 2.83L4 21.41c.39.39.9.59 1.41.59.51 0 1.02-.2 1.41-.59l7.78-7.78 2.81-2.81c.8-.78.8-2.07 0-2.86zM5.41 20L4 18.59l7.72-7.72 1.47 1.35L5.41 20z\"/>\n",
              "  </svg>\n",
              "      </button>\n",
              "      \n",
              "  <style>\n",
              "    .colab-df-container {\n",
              "      display:flex;\n",
              "      flex-wrap:wrap;\n",
              "      gap: 12px;\n",
              "    }\n",
              "\n",
              "    .colab-df-convert {\n",
              "      background-color: #E8F0FE;\n",
              "      border: none;\n",
              "      border-radius: 50%;\n",
              "      cursor: pointer;\n",
              "      display: none;\n",
              "      fill: #1967D2;\n",
              "      height: 32px;\n",
              "      padding: 0 0 0 0;\n",
              "      width: 32px;\n",
              "    }\n",
              "\n",
              "    .colab-df-convert:hover {\n",
              "      background-color: #E2EBFA;\n",
              "      box-shadow: 0px 1px 2px rgba(60, 64, 67, 0.3), 0px 1px 3px 1px rgba(60, 64, 67, 0.15);\n",
              "      fill: #174EA6;\n",
              "    }\n",
              "\n",
              "    [theme=dark] .colab-df-convert {\n",
              "      background-color: #3B4455;\n",
              "      fill: #D2E3FC;\n",
              "    }\n",
              "\n",
              "    [theme=dark] .colab-df-convert:hover {\n",
              "      background-color: #434B5C;\n",
              "      box-shadow: 0px 1px 3px 1px rgba(0, 0, 0, 0.15);\n",
              "      filter: drop-shadow(0px 1px 2px rgba(0, 0, 0, 0.3));\n",
              "      fill: #FFFFFF;\n",
              "    }\n",
              "  </style>\n",
              "\n",
              "      <script>\n",
              "        const buttonEl =\n",
              "          document.querySelector('#df-ca497755-91a5-41c0-abec-7d044f89709b button.colab-df-convert');\n",
              "        buttonEl.style.display =\n",
              "          google.colab.kernel.accessAllowed ? 'block' : 'none';\n",
              "\n",
              "        async function convertToInteractive(key) {\n",
              "          const element = document.querySelector('#df-ca497755-91a5-41c0-abec-7d044f89709b');\n",
              "          const dataTable =\n",
              "            await google.colab.kernel.invokeFunction('convertToInteractive',\n",
              "                                                     [key], {});\n",
              "          if (!dataTable) return;\n",
              "\n",
              "          const docLinkHtml = 'Like what you see? Visit the ' +\n",
              "            '<a target=\"_blank\" href=https://colab.research.google.com/notebooks/data_table.ipynb>data table notebook</a>'\n",
              "            + ' to learn more about interactive tables.';\n",
              "          element.innerHTML = '';\n",
              "          dataTable['output_type'] = 'display_data';\n",
              "          await google.colab.output.renderOutput(dataTable, element);\n",
              "          const docLink = document.createElement('div');\n",
              "          docLink.innerHTML = docLinkHtml;\n",
              "          element.appendChild(docLink);\n",
              "        }\n",
              "      </script>\n",
              "    </div>\n",
              "  </div>\n",
              "  "
            ]
          },
          "metadata": {},
          "execution_count": 49
        }
      ]
    },
    {
      "cell_type": "markdown",
      "source": [
        "# Sources"
      ],
      "metadata": {
        "id": "HlUygkp1sbhP"
      }
    },
    {
      "cell_type": "markdown",
      "source": [
        "“Forecasting at Scale” Facebook. Accessed December 6, 2022. https://facebook.github.io/prophet/.\n",
        "\n",
        "\n",
        "Nicolas (Nico) Fauchereau. “The impact of weather conditions on cycling counts in Auckland, New Zealand” Published September 12, 2018, Accessed December 6, 2022. https://nbviewer.org/github/nicolasfauchereau/Auckland_Cycling/blob/master/notebooks/Auckland_cycling_and_weather.ipynb.\n",
        "\n",
        "\n",
        "\n",
        "Jason Brownlee. “Time Series Forecasting With Prophet in Python” Machine Learning Mastery. Published August 26, 2020, Accessed December 6, 2022. https://machinelearningmastery.com/time-series-forecasting-with-prophet-in-python/.\n"
      ],
      "metadata": {
        "id": "g7TCTPyiserN"
      }
    }
  ]
}