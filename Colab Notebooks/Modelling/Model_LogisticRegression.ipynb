{
  "cells": [
    {
      "cell_type": "code",
      "execution_count": null,
      "metadata": {
        "id": "aVAG--UiSGux"
      },
      "outputs": [],
      "source": [
        "# import\n",
        "import pandas as pd\n",
        "import numpy as np\n",
        "import matplotlib.pyplot as plt\n",
        "import seaborn as sns\n",
        "sns.set_style(\"whitegrid\")\n",
        "from sklearn.model_selection import train_test_split, RandomizedSearchCV\n",
        "from sklearn.linear_model import LogisticRegression\n",
        "import statsmodels.api as sm\n",
        "from sklearn.metrics import confusion_matrix\n",
        "from scipy.stats import uniform, randint\n",
        "from sklearn.ensemble import RandomForestClassifier\n",
        "import graphviz\n",
        "from sklearn import tree"
      ]
    },
    {
      "cell_type": "code",
      "execution_count": null,
      "metadata": {
        "colab": {
          "base_uri": "https://localhost:8080/",
          "height": 270
        },
        "id": "kGyHan_dWPh8",
        "outputId": "576c71ae-0826-45f6-f624-d362f362016a"
      },
      "outputs": [
        {
          "output_type": "execute_result",
          "data": {
            "text/plain": [
              "   year     ppt       tmin      tmean       tmax   tdewmean    vpdmin  \\\n",
              "0  1970  144.62  36.515833  48.256667  59.994167  31.793333  1.726083   \n",
              "1  1971  157.63  36.100000  47.832500  59.564167  32.140833  1.498333   \n",
              "2  1972  160.07  35.936667  47.560000  59.190833  31.820000  1.539500   \n",
              "3  1973  151.75  37.214167  48.848333  60.475833  31.831667  2.014167   \n",
              "4  1974  143.71  37.306667  48.983333  60.665000  32.799167  1.925167   \n",
              "\n",
              "      vpdmax    vpddiff      tdiff  yield_acre_lbs  percent_utilized  \\\n",
              "0  15.529917  13.803833  23.478333         23600.0         99.856322   \n",
              "1  14.965500  13.467167  23.464167         19000.0         99.502488   \n",
              "2  14.790417  13.250917  23.254167         20400.0         99.784637   \n",
              "3  15.471333  13.457167  23.261667         25800.0        100.000000   \n",
              "4  15.160417  13.235250  23.358333         25000.0        100.000000   \n",
              "\n",
              "   utilized_per_acre  avg_price_pound_dollars  trees_per_acre  \n",
              "0       23599.320883                   0.0507         100.000  \n",
              "1       18867.924528                   0.0620         114.625  \n",
              "2       20381.231672                   0.0821         129.250  \n",
              "3       25761.772853                   0.0840         143.875  \n",
              "4       25013.850416                   0.0930         158.500  "
            ],
            "text/html": [
              "\n",
              "  <div id=\"df-55406fd9-4e34-4ac4-ade4-a82f29eb7587\">\n",
              "    <div class=\"colab-df-container\">\n",
              "      <div>\n",
              "<style scoped>\n",
              "    .dataframe tbody tr th:only-of-type {\n",
              "        vertical-align: middle;\n",
              "    }\n",
              "\n",
              "    .dataframe tbody tr th {\n",
              "        vertical-align: top;\n",
              "    }\n",
              "\n",
              "    .dataframe thead th {\n",
              "        text-align: right;\n",
              "    }\n",
              "</style>\n",
              "<table border=\"1\" class=\"dataframe\">\n",
              "  <thead>\n",
              "    <tr style=\"text-align: right;\">\n",
              "      <th></th>\n",
              "      <th>year</th>\n",
              "      <th>ppt</th>\n",
              "      <th>tmin</th>\n",
              "      <th>tmean</th>\n",
              "      <th>tmax</th>\n",
              "      <th>tdewmean</th>\n",
              "      <th>vpdmin</th>\n",
              "      <th>vpdmax</th>\n",
              "      <th>vpddiff</th>\n",
              "      <th>tdiff</th>\n",
              "      <th>yield_acre_lbs</th>\n",
              "      <th>percent_utilized</th>\n",
              "      <th>utilized_per_acre</th>\n",
              "      <th>avg_price_pound_dollars</th>\n",
              "      <th>trees_per_acre</th>\n",
              "    </tr>\n",
              "  </thead>\n",
              "  <tbody>\n",
              "    <tr>\n",
              "      <th>0</th>\n",
              "      <td>1970</td>\n",
              "      <td>144.62</td>\n",
              "      <td>36.515833</td>\n",
              "      <td>48.256667</td>\n",
              "      <td>59.994167</td>\n",
              "      <td>31.793333</td>\n",
              "      <td>1.726083</td>\n",
              "      <td>15.529917</td>\n",
              "      <td>13.803833</td>\n",
              "      <td>23.478333</td>\n",
              "      <td>23600.0</td>\n",
              "      <td>99.856322</td>\n",
              "      <td>23599.320883</td>\n",
              "      <td>0.0507</td>\n",
              "      <td>100.000</td>\n",
              "    </tr>\n",
              "    <tr>\n",
              "      <th>1</th>\n",
              "      <td>1971</td>\n",
              "      <td>157.63</td>\n",
              "      <td>36.100000</td>\n",
              "      <td>47.832500</td>\n",
              "      <td>59.564167</td>\n",
              "      <td>32.140833</td>\n",
              "      <td>1.498333</td>\n",
              "      <td>14.965500</td>\n",
              "      <td>13.467167</td>\n",
              "      <td>23.464167</td>\n",
              "      <td>19000.0</td>\n",
              "      <td>99.502488</td>\n",
              "      <td>18867.924528</td>\n",
              "      <td>0.0620</td>\n",
              "      <td>114.625</td>\n",
              "    </tr>\n",
              "    <tr>\n",
              "      <th>2</th>\n",
              "      <td>1972</td>\n",
              "      <td>160.07</td>\n",
              "      <td>35.936667</td>\n",
              "      <td>47.560000</td>\n",
              "      <td>59.190833</td>\n",
              "      <td>31.820000</td>\n",
              "      <td>1.539500</td>\n",
              "      <td>14.790417</td>\n",
              "      <td>13.250917</td>\n",
              "      <td>23.254167</td>\n",
              "      <td>20400.0</td>\n",
              "      <td>99.784637</td>\n",
              "      <td>20381.231672</td>\n",
              "      <td>0.0821</td>\n",
              "      <td>129.250</td>\n",
              "    </tr>\n",
              "    <tr>\n",
              "      <th>3</th>\n",
              "      <td>1973</td>\n",
              "      <td>151.75</td>\n",
              "      <td>37.214167</td>\n",
              "      <td>48.848333</td>\n",
              "      <td>60.475833</td>\n",
              "      <td>31.831667</td>\n",
              "      <td>2.014167</td>\n",
              "      <td>15.471333</td>\n",
              "      <td>13.457167</td>\n",
              "      <td>23.261667</td>\n",
              "      <td>25800.0</td>\n",
              "      <td>100.000000</td>\n",
              "      <td>25761.772853</td>\n",
              "      <td>0.0840</td>\n",
              "      <td>143.875</td>\n",
              "    </tr>\n",
              "    <tr>\n",
              "      <th>4</th>\n",
              "      <td>1974</td>\n",
              "      <td>143.71</td>\n",
              "      <td>37.306667</td>\n",
              "      <td>48.983333</td>\n",
              "      <td>60.665000</td>\n",
              "      <td>32.799167</td>\n",
              "      <td>1.925167</td>\n",
              "      <td>15.160417</td>\n",
              "      <td>13.235250</td>\n",
              "      <td>23.358333</td>\n",
              "      <td>25000.0</td>\n",
              "      <td>100.000000</td>\n",
              "      <td>25013.850416</td>\n",
              "      <td>0.0930</td>\n",
              "      <td>158.500</td>\n",
              "    </tr>\n",
              "  </tbody>\n",
              "</table>\n",
              "</div>\n",
              "      <button class=\"colab-df-convert\" onclick=\"convertToInteractive('df-55406fd9-4e34-4ac4-ade4-a82f29eb7587')\"\n",
              "              title=\"Convert this dataframe to an interactive table.\"\n",
              "              style=\"display:none;\">\n",
              "        \n",
              "  <svg xmlns=\"http://www.w3.org/2000/svg\" height=\"24px\"viewBox=\"0 0 24 24\"\n",
              "       width=\"24px\">\n",
              "    <path d=\"M0 0h24v24H0V0z\" fill=\"none\"/>\n",
              "    <path d=\"M18.56 5.44l.94 2.06.94-2.06 2.06-.94-2.06-.94-.94-2.06-.94 2.06-2.06.94zm-11 1L8.5 8.5l.94-2.06 2.06-.94-2.06-.94L8.5 2.5l-.94 2.06-2.06.94zm10 10l.94 2.06.94-2.06 2.06-.94-2.06-.94-.94-2.06-.94 2.06-2.06.94z\"/><path d=\"M17.41 7.96l-1.37-1.37c-.4-.4-.92-.59-1.43-.59-.52 0-1.04.2-1.43.59L10.3 9.45l-7.72 7.72c-.78.78-.78 2.05 0 2.83L4 21.41c.39.39.9.59 1.41.59.51 0 1.02-.2 1.41-.59l7.78-7.78 2.81-2.81c.8-.78.8-2.07 0-2.86zM5.41 20L4 18.59l7.72-7.72 1.47 1.35L5.41 20z\"/>\n",
              "  </svg>\n",
              "      </button>\n",
              "      \n",
              "  <style>\n",
              "    .colab-df-container {\n",
              "      display:flex;\n",
              "      flex-wrap:wrap;\n",
              "      gap: 12px;\n",
              "    }\n",
              "\n",
              "    .colab-df-convert {\n",
              "      background-color: #E8F0FE;\n",
              "      border: none;\n",
              "      border-radius: 50%;\n",
              "      cursor: pointer;\n",
              "      display: none;\n",
              "      fill: #1967D2;\n",
              "      height: 32px;\n",
              "      padding: 0 0 0 0;\n",
              "      width: 32px;\n",
              "    }\n",
              "\n",
              "    .colab-df-convert:hover {\n",
              "      background-color: #E2EBFA;\n",
              "      box-shadow: 0px 1px 2px rgba(60, 64, 67, 0.3), 0px 1px 3px 1px rgba(60, 64, 67, 0.15);\n",
              "      fill: #174EA6;\n",
              "    }\n",
              "\n",
              "    [theme=dark] .colab-df-convert {\n",
              "      background-color: #3B4455;\n",
              "      fill: #D2E3FC;\n",
              "    }\n",
              "\n",
              "    [theme=dark] .colab-df-convert:hover {\n",
              "      background-color: #434B5C;\n",
              "      box-shadow: 0px 1px 3px 1px rgba(0, 0, 0, 0.15);\n",
              "      filter: drop-shadow(0px 1px 2px rgba(0, 0, 0, 0.3));\n",
              "      fill: #FFFFFF;\n",
              "    }\n",
              "  </style>\n",
              "\n",
              "      <script>\n",
              "        const buttonEl =\n",
              "          document.querySelector('#df-55406fd9-4e34-4ac4-ade4-a82f29eb7587 button.colab-df-convert');\n",
              "        buttonEl.style.display =\n",
              "          google.colab.kernel.accessAllowed ? 'block' : 'none';\n",
              "\n",
              "        async function convertToInteractive(key) {\n",
              "          const element = document.querySelector('#df-55406fd9-4e34-4ac4-ade4-a82f29eb7587');\n",
              "          const dataTable =\n",
              "            await google.colab.kernel.invokeFunction('convertToInteractive',\n",
              "                                                     [key], {});\n",
              "          if (!dataTable) return;\n",
              "\n",
              "          const docLinkHtml = 'Like what you see? Visit the ' +\n",
              "            '<a target=\"_blank\" href=https://colab.research.google.com/notebooks/data_table.ipynb>data table notebook</a>'\n",
              "            + ' to learn more about interactive tables.';\n",
              "          element.innerHTML = '';\n",
              "          dataTable['output_type'] = 'display_data';\n",
              "          await google.colab.output.renderOutput(dataTable, element);\n",
              "          const docLink = document.createElement('div');\n",
              "          docLink.innerHTML = docLinkHtml;\n",
              "          element.appendChild(docLink);\n",
              "        }\n",
              "      </script>\n",
              "    </div>\n",
              "  </div>\n",
              "  "
            ]
          },
          "metadata": {},
          "execution_count": 2
        }
      ],
      "source": [
        "# data\n",
        "df =  pd.read_csv('https://raw.githubusercontent.com/mckenzie-maidl/data5100-climate-agriculture/main/Cleaned%20Data/apples_years.csv')\n",
        "df = df.drop(columns = 'Unnamed: 0')\n",
        "df.head()"
      ]
    },
    {
      "cell_type": "code",
      "execution_count": null,
      "metadata": {
        "colab": {
          "base_uri": "https://localhost:8080/",
          "height": 270
        },
        "id": "-VAgDEs5WRAK",
        "outputId": "39d2b938-23d9-4edb-bc94-0df0f961822a"
      },
      "outputs": [
        {
          "output_type": "execute_result",
          "data": {
            "text/plain": [
              "   year     ppt       tmin      tmean       tmax   tdewmean    vpdmin  \\\n",
              "0  1970  144.62  36.515833  48.256667  59.994167  31.793333  1.726083   \n",
              "1  1971  157.63  36.100000  47.832500  59.564167  32.140833  1.498333   \n",
              "2  1972  160.07  35.936667  47.560000  59.190833  31.820000  1.539500   \n",
              "3  1973  151.75  37.214167  48.848333  60.475833  31.831667  2.014167   \n",
              "4  1974  143.71  37.306667  48.983333  60.665000  32.799167  1.925167   \n",
              "\n",
              "      vpdmax    vpddiff      tdiff  yield_acre_lbs  percent_utilized  \\\n",
              "0  15.529917  13.803833  23.478333         23600.0         99.856322   \n",
              "1  14.965500  13.467167  23.464167         19000.0         99.502488   \n",
              "2  14.790417  13.250917  23.254167         20400.0         99.784637   \n",
              "3  15.471333  13.457167  23.261667         25800.0        100.000000   \n",
              "4  15.160417  13.235250  23.358333         25000.0        100.000000   \n",
              "\n",
              "   utilized_per_acre  avg_price_pound_dollars  trees_per_acre  all_utilized  \n",
              "0       23599.320883                   0.0507         100.000             0  \n",
              "1       18867.924528                   0.0620         114.625             0  \n",
              "2       20381.231672                   0.0821         129.250             0  \n",
              "3       25761.772853                   0.0840         143.875             1  \n",
              "4       25013.850416                   0.0930         158.500             1  "
            ],
            "text/html": [
              "\n",
              "  <div id=\"df-a12ab318-2414-4dfd-b45d-9d006f271d0a\">\n",
              "    <div class=\"colab-df-container\">\n",
              "      <div>\n",
              "<style scoped>\n",
              "    .dataframe tbody tr th:only-of-type {\n",
              "        vertical-align: middle;\n",
              "    }\n",
              "\n",
              "    .dataframe tbody tr th {\n",
              "        vertical-align: top;\n",
              "    }\n",
              "\n",
              "    .dataframe thead th {\n",
              "        text-align: right;\n",
              "    }\n",
              "</style>\n",
              "<table border=\"1\" class=\"dataframe\">\n",
              "  <thead>\n",
              "    <tr style=\"text-align: right;\">\n",
              "      <th></th>\n",
              "      <th>year</th>\n",
              "      <th>ppt</th>\n",
              "      <th>tmin</th>\n",
              "      <th>tmean</th>\n",
              "      <th>tmax</th>\n",
              "      <th>tdewmean</th>\n",
              "      <th>vpdmin</th>\n",
              "      <th>vpdmax</th>\n",
              "      <th>vpddiff</th>\n",
              "      <th>tdiff</th>\n",
              "      <th>yield_acre_lbs</th>\n",
              "      <th>percent_utilized</th>\n",
              "      <th>utilized_per_acre</th>\n",
              "      <th>avg_price_pound_dollars</th>\n",
              "      <th>trees_per_acre</th>\n",
              "      <th>all_utilized</th>\n",
              "    </tr>\n",
              "  </thead>\n",
              "  <tbody>\n",
              "    <tr>\n",
              "      <th>0</th>\n",
              "      <td>1970</td>\n",
              "      <td>144.62</td>\n",
              "      <td>36.515833</td>\n",
              "      <td>48.256667</td>\n",
              "      <td>59.994167</td>\n",
              "      <td>31.793333</td>\n",
              "      <td>1.726083</td>\n",
              "      <td>15.529917</td>\n",
              "      <td>13.803833</td>\n",
              "      <td>23.478333</td>\n",
              "      <td>23600.0</td>\n",
              "      <td>99.856322</td>\n",
              "      <td>23599.320883</td>\n",
              "      <td>0.0507</td>\n",
              "      <td>100.000</td>\n",
              "      <td>0</td>\n",
              "    </tr>\n",
              "    <tr>\n",
              "      <th>1</th>\n",
              "      <td>1971</td>\n",
              "      <td>157.63</td>\n",
              "      <td>36.100000</td>\n",
              "      <td>47.832500</td>\n",
              "      <td>59.564167</td>\n",
              "      <td>32.140833</td>\n",
              "      <td>1.498333</td>\n",
              "      <td>14.965500</td>\n",
              "      <td>13.467167</td>\n",
              "      <td>23.464167</td>\n",
              "      <td>19000.0</td>\n",
              "      <td>99.502488</td>\n",
              "      <td>18867.924528</td>\n",
              "      <td>0.0620</td>\n",
              "      <td>114.625</td>\n",
              "      <td>0</td>\n",
              "    </tr>\n",
              "    <tr>\n",
              "      <th>2</th>\n",
              "      <td>1972</td>\n",
              "      <td>160.07</td>\n",
              "      <td>35.936667</td>\n",
              "      <td>47.560000</td>\n",
              "      <td>59.190833</td>\n",
              "      <td>31.820000</td>\n",
              "      <td>1.539500</td>\n",
              "      <td>14.790417</td>\n",
              "      <td>13.250917</td>\n",
              "      <td>23.254167</td>\n",
              "      <td>20400.0</td>\n",
              "      <td>99.784637</td>\n",
              "      <td>20381.231672</td>\n",
              "      <td>0.0821</td>\n",
              "      <td>129.250</td>\n",
              "      <td>0</td>\n",
              "    </tr>\n",
              "    <tr>\n",
              "      <th>3</th>\n",
              "      <td>1973</td>\n",
              "      <td>151.75</td>\n",
              "      <td>37.214167</td>\n",
              "      <td>48.848333</td>\n",
              "      <td>60.475833</td>\n",
              "      <td>31.831667</td>\n",
              "      <td>2.014167</td>\n",
              "      <td>15.471333</td>\n",
              "      <td>13.457167</td>\n",
              "      <td>23.261667</td>\n",
              "      <td>25800.0</td>\n",
              "      <td>100.000000</td>\n",
              "      <td>25761.772853</td>\n",
              "      <td>0.0840</td>\n",
              "      <td>143.875</td>\n",
              "      <td>1</td>\n",
              "    </tr>\n",
              "    <tr>\n",
              "      <th>4</th>\n",
              "      <td>1974</td>\n",
              "      <td>143.71</td>\n",
              "      <td>37.306667</td>\n",
              "      <td>48.983333</td>\n",
              "      <td>60.665000</td>\n",
              "      <td>32.799167</td>\n",
              "      <td>1.925167</td>\n",
              "      <td>15.160417</td>\n",
              "      <td>13.235250</td>\n",
              "      <td>23.358333</td>\n",
              "      <td>25000.0</td>\n",
              "      <td>100.000000</td>\n",
              "      <td>25013.850416</td>\n",
              "      <td>0.0930</td>\n",
              "      <td>158.500</td>\n",
              "      <td>1</td>\n",
              "    </tr>\n",
              "  </tbody>\n",
              "</table>\n",
              "</div>\n",
              "      <button class=\"colab-df-convert\" onclick=\"convertToInteractive('df-a12ab318-2414-4dfd-b45d-9d006f271d0a')\"\n",
              "              title=\"Convert this dataframe to an interactive table.\"\n",
              "              style=\"display:none;\">\n",
              "        \n",
              "  <svg xmlns=\"http://www.w3.org/2000/svg\" height=\"24px\"viewBox=\"0 0 24 24\"\n",
              "       width=\"24px\">\n",
              "    <path d=\"M0 0h24v24H0V0z\" fill=\"none\"/>\n",
              "    <path d=\"M18.56 5.44l.94 2.06.94-2.06 2.06-.94-2.06-.94-.94-2.06-.94 2.06-2.06.94zm-11 1L8.5 8.5l.94-2.06 2.06-.94-2.06-.94L8.5 2.5l-.94 2.06-2.06.94zm10 10l.94 2.06.94-2.06 2.06-.94-2.06-.94-.94-2.06-.94 2.06-2.06.94z\"/><path d=\"M17.41 7.96l-1.37-1.37c-.4-.4-.92-.59-1.43-.59-.52 0-1.04.2-1.43.59L10.3 9.45l-7.72 7.72c-.78.78-.78 2.05 0 2.83L4 21.41c.39.39.9.59 1.41.59.51 0 1.02-.2 1.41-.59l7.78-7.78 2.81-2.81c.8-.78.8-2.07 0-2.86zM5.41 20L4 18.59l7.72-7.72 1.47 1.35L5.41 20z\"/>\n",
              "  </svg>\n",
              "      </button>\n",
              "      \n",
              "  <style>\n",
              "    .colab-df-container {\n",
              "      display:flex;\n",
              "      flex-wrap:wrap;\n",
              "      gap: 12px;\n",
              "    }\n",
              "\n",
              "    .colab-df-convert {\n",
              "      background-color: #E8F0FE;\n",
              "      border: none;\n",
              "      border-radius: 50%;\n",
              "      cursor: pointer;\n",
              "      display: none;\n",
              "      fill: #1967D2;\n",
              "      height: 32px;\n",
              "      padding: 0 0 0 0;\n",
              "      width: 32px;\n",
              "    }\n",
              "\n",
              "    .colab-df-convert:hover {\n",
              "      background-color: #E2EBFA;\n",
              "      box-shadow: 0px 1px 2px rgba(60, 64, 67, 0.3), 0px 1px 3px 1px rgba(60, 64, 67, 0.15);\n",
              "      fill: #174EA6;\n",
              "    }\n",
              "\n",
              "    [theme=dark] .colab-df-convert {\n",
              "      background-color: #3B4455;\n",
              "      fill: #D2E3FC;\n",
              "    }\n",
              "\n",
              "    [theme=dark] .colab-df-convert:hover {\n",
              "      background-color: #434B5C;\n",
              "      box-shadow: 0px 1px 3px 1px rgba(0, 0, 0, 0.15);\n",
              "      filter: drop-shadow(0px 1px 2px rgba(0, 0, 0, 0.3));\n",
              "      fill: #FFFFFF;\n",
              "    }\n",
              "  </style>\n",
              "\n",
              "      <script>\n",
              "        const buttonEl =\n",
              "          document.querySelector('#df-a12ab318-2414-4dfd-b45d-9d006f271d0a button.colab-df-convert');\n",
              "        buttonEl.style.display =\n",
              "          google.colab.kernel.accessAllowed ? 'block' : 'none';\n",
              "\n",
              "        async function convertToInteractive(key) {\n",
              "          const element = document.querySelector('#df-a12ab318-2414-4dfd-b45d-9d006f271d0a');\n",
              "          const dataTable =\n",
              "            await google.colab.kernel.invokeFunction('convertToInteractive',\n",
              "                                                     [key], {});\n",
              "          if (!dataTable) return;\n",
              "\n",
              "          const docLinkHtml = 'Like what you see? Visit the ' +\n",
              "            '<a target=\"_blank\" href=https://colab.research.google.com/notebooks/data_table.ipynb>data table notebook</a>'\n",
              "            + ' to learn more about interactive tables.';\n",
              "          element.innerHTML = '';\n",
              "          dataTable['output_type'] = 'display_data';\n",
              "          await google.colab.output.renderOutput(dataTable, element);\n",
              "          const docLink = document.createElement('div');\n",
              "          docLink.innerHTML = docLinkHtml;\n",
              "          element.appendChild(docLink);\n",
              "        }\n",
              "      </script>\n",
              "    </div>\n",
              "  </div>\n",
              "  "
            ]
          },
          "metadata": {},
          "execution_count": 3
        }
      ],
      "source": [
        "# new field\n",
        "df['all_utilized'] = np.where(df['percent_utilized'] < 100.000000, 0, 1)\n",
        "df.head()"
      ]
    },
    {
      "cell_type": "markdown",
      "metadata": {
        "id": "QA6u0RdBHfoP"
      },
      "source": [
        "### Using All Variables"
      ]
    },
    {
      "cell_type": "code",
      "execution_count": null,
      "metadata": {
        "id": "arbLeEwEXVSY"
      },
      "outputs": [],
      "source": [
        "# test / train\n",
        "\n",
        "# predictors (X) / response (y) = all_utilized\n",
        "X = df.loc[:, ~df.columns.isin(['year','yield_acre_lbs','percent_utilized','utilized_per_acre','avg_price_pound_dollars','trees_per_acre','all_utilized'])]\n",
        "y = df['all_utilized']\n",
        "\n",
        "# training and test splits of the data (test = 20%)\n",
        "X_train, X_test, y_train, y_test = train_test_split(X, y, test_size = .2, random_state = 1)"
      ]
    },
    {
      "cell_type": "code",
      "execution_count": null,
      "metadata": {
        "colab": {
          "base_uri": "https://localhost:8080/"
        },
        "id": "-hTYeJsHXXyU",
        "outputId": "b706bc27-4ace-4a1d-aaf6-00d5893c6473"
      },
      "outputs": [
        {
          "output_type": "stream",
          "name": "stderr",
          "text": [
            "/usr/local/lib/python3.8/dist-packages/sklearn/linear_model/_logistic.py:814: ConvergenceWarning: lbfgs failed to converge (status=1):\n",
            "STOP: TOTAL NO. of ITERATIONS REACHED LIMIT.\n",
            "\n",
            "Increase the number of iterations (max_iter) or scale the data as shown in:\n",
            "    https://scikit-learn.org/stable/modules/preprocessing.html\n",
            "Please also refer to the documentation for alternative solver options:\n",
            "    https://scikit-learn.org/stable/modules/linear_model.html#logistic-regression\n",
            "  n_iter_i = _check_optimize_result(\n",
            "/usr/local/lib/python3.8/dist-packages/sklearn/linear_model/_logistic.py:814: ConvergenceWarning: lbfgs failed to converge (status=1):\n",
            "STOP: TOTAL NO. of ITERATIONS REACHED LIMIT.\n",
            "\n",
            "Increase the number of iterations (max_iter) or scale the data as shown in:\n",
            "    https://scikit-learn.org/stable/modules/preprocessing.html\n",
            "Please also refer to the documentation for alternative solver options:\n",
            "    https://scikit-learn.org/stable/modules/linear_model.html#logistic-regression\n",
            "  n_iter_i = _check_optimize_result(\n"
          ]
        }
      ],
      "source": [
        "# instantiate and fit the logistic regression model\n",
        "log_reg_all = LogisticRegression(penalty = 'none').fit(X_train, y_train).fit(X_train, y_train)\n",
        "#log_reg_all_sm = sm.Logit(y_train, sm.add_constant(X_train)).fit() #produces error"
      ]
    },
    {
      "cell_type": "markdown",
      "metadata": {
        "id": "Oaur47OCH9MA"
      },
      "source": [
        "### Random Forest"
      ]
    },
    {
      "cell_type": "code",
      "execution_count": null,
      "metadata": {
        "colab": {
          "base_uri": "https://localhost:8080/"
        },
        "id": "Uh1Gleu0IBAG",
        "outputId": "5d5f60d4-5a15-4ae4-b465-16b1a7ea7cea"
      },
      "outputs": [
        {
          "metadata": {
            "tags": null
          },
          "name": "stdout",
          "output_type": "stream",
          "text": [
            "Fitting 5 folds for each of 200 candidates, totalling 1000 fits\n"
          ]
        },
        {
          "output_type": "stream",
          "name": "stderr",
          "text": [
            "/usr/local/lib/python3.8/dist-packages/sklearn/model_selection/_validation.py:372: FitFailedWarning: \n",
            "150 fits failed out of a total of 1000.\n",
            "The score on these train-test partitions for these parameters will be set to nan.\n",
            "If these failures are not expected, you can try to debug them by setting error_score='raise'.\n",
            "\n",
            "Below are more details about the failures:\n",
            "--------------------------------------------------------------------------------\n",
            "75 fits failed with the following error:\n",
            "Traceback (most recent call last):\n",
            "  File \"/usr/local/lib/python3.8/dist-packages/sklearn/model_selection/_validation.py\", line 680, in _fit_and_score\n",
            "    estimator.fit(X_train, y_train, **fit_params)\n",
            "  File \"/usr/local/lib/python3.8/dist-packages/sklearn/ensemble/_forest.py\", line 450, in fit\n",
            "    trees = Parallel(\n",
            "  File \"/usr/local/lib/python3.8/dist-packages/joblib/parallel.py\", line 1085, in __call__\n",
            "    if self.dispatch_one_batch(iterator):\n",
            "  File \"/usr/local/lib/python3.8/dist-packages/joblib/parallel.py\", line 901, in dispatch_one_batch\n",
            "    self._dispatch(tasks)\n",
            "  File \"/usr/local/lib/python3.8/dist-packages/joblib/parallel.py\", line 819, in _dispatch\n",
            "    job = self._backend.apply_async(batch, callback=cb)\n",
            "  File \"/usr/local/lib/python3.8/dist-packages/joblib/_parallel_backends.py\", line 208, in apply_async\n",
            "    result = ImmediateResult(func)\n",
            "  File \"/usr/local/lib/python3.8/dist-packages/joblib/_parallel_backends.py\", line 597, in __init__\n",
            "    self.results = batch()\n",
            "  File \"/usr/local/lib/python3.8/dist-packages/joblib/parallel.py\", line 288, in __call__\n",
            "    return [func(*args, **kwargs)\n",
            "  File \"/usr/local/lib/python3.8/dist-packages/joblib/parallel.py\", line 288, in <listcomp>\n",
            "    return [func(*args, **kwargs)\n",
            "  File \"/usr/local/lib/python3.8/dist-packages/sklearn/utils/fixes.py\", line 216, in __call__\n",
            "    return self.function(*args, **kwargs)\n",
            "  File \"/usr/local/lib/python3.8/dist-packages/sklearn/ensemble/_forest.py\", line 185, in _parallel_build_trees\n",
            "    tree.fit(X, y, sample_weight=curr_sample_weight, check_input=False)\n",
            "  File \"/usr/local/lib/python3.8/dist-packages/sklearn/tree/_classes.py\", line 937, in fit\n",
            "    super().fit(\n",
            "  File \"/usr/local/lib/python3.8/dist-packages/sklearn/tree/_classes.py\", line 306, in fit\n",
            "    raise ValueError(\"max_depth must be greater than zero. \")\n",
            "ValueError: max_depth must be greater than zero. \n",
            "\n",
            "--------------------------------------------------------------------------------\n",
            "75 fits failed with the following error:\n",
            "Traceback (most recent call last):\n",
            "  File \"/usr/local/lib/python3.8/dist-packages/sklearn/model_selection/_validation.py\", line 680, in _fit_and_score\n",
            "    estimator.fit(X_train, y_train, **fit_params)\n",
            "  File \"/usr/local/lib/python3.8/dist-packages/sklearn/ensemble/_forest.py\", line 450, in fit\n",
            "    trees = Parallel(\n",
            "  File \"/usr/local/lib/python3.8/dist-packages/joblib/parallel.py\", line 1085, in __call__\n",
            "    if self.dispatch_one_batch(iterator):\n",
            "  File \"/usr/local/lib/python3.8/dist-packages/joblib/parallel.py\", line 901, in dispatch_one_batch\n",
            "    self._dispatch(tasks)\n",
            "  File \"/usr/local/lib/python3.8/dist-packages/joblib/parallel.py\", line 819, in _dispatch\n",
            "    job = self._backend.apply_async(batch, callback=cb)\n",
            "  File \"/usr/local/lib/python3.8/dist-packages/joblib/_parallel_backends.py\", line 208, in apply_async\n",
            "    result = ImmediateResult(func)\n",
            "  File \"/usr/local/lib/python3.8/dist-packages/joblib/_parallel_backends.py\", line 597, in __init__\n",
            "    self.results = batch()\n",
            "  File \"/usr/local/lib/python3.8/dist-packages/joblib/parallel.py\", line 288, in __call__\n",
            "    return [func(*args, **kwargs)\n",
            "  File \"/usr/local/lib/python3.8/dist-packages/joblib/parallel.py\", line 288, in <listcomp>\n",
            "    return [func(*args, **kwargs)\n",
            "  File \"/usr/local/lib/python3.8/dist-packages/sklearn/utils/fixes.py\", line 216, in __call__\n",
            "    return self.function(*args, **kwargs)\n",
            "  File \"/usr/local/lib/python3.8/dist-packages/sklearn/ensemble/_forest.py\", line 185, in _parallel_build_trees\n",
            "    tree.fit(X, y, sample_weight=curr_sample_weight, check_input=False)\n",
            "  File \"/usr/local/lib/python3.8/dist-packages/sklearn/tree/_classes.py\", line 937, in fit\n",
            "    super().fit(\n",
            "  File \"/usr/local/lib/python3.8/dist-packages/sklearn/tree/_classes.py\", line 235, in fit\n",
            "    raise ValueError(\n",
            "ValueError: min_samples_leaf must be at least 1 or in (0, 0.5], got 0\n",
            "\n",
            "  warnings.warn(some_fits_failed_message, FitFailedWarning)\n",
            "/usr/local/lib/python3.8/dist-packages/sklearn/model_selection/_search.py:969: UserWarning: One or more of the test scores are non-finite: [0.70833333 0.70833333 0.65833333 0.78055556 0.70833333 0.73055556\n",
            " 0.82777778        nan 0.75833333 0.75555556 0.73333333 0.68333333\n",
            " 0.80277778 0.75555556 0.80555556 0.68333333 0.85       0.78055556\n",
            " 0.80555556        nan 0.85       0.82777778 0.825      0.70833333\n",
            " 0.68333333 0.85              nan 0.75833333 0.8               nan\n",
            " 0.68333333 0.80277778 0.825      0.80277778        nan 0.65833333\n",
            " 0.77777778        nan 0.825      0.65833333        nan 0.65833333\n",
            " 0.85              nan 0.70833333 0.75555556 0.85       0.825\n",
            " 0.75555556 0.78055556        nan 0.85       0.825      0.80277778\n",
            " 0.78055556 0.825      0.80277778 0.80555556 0.825      0.68333333\n",
            " 0.85       0.68333333 0.85       0.80555556 0.825      0.825\n",
            " 0.8        0.70833333 0.85       0.85       0.825      0.78055556\n",
            "        nan 0.80277778 0.65833333 0.68333333 0.85              nan\n",
            " 0.78055556 0.63333333        nan 0.70833333 0.80555556 0.68333333\n",
            " 0.75555556 0.65833333 0.77777778 0.80277778        nan 0.82777778\n",
            "        nan        nan 0.85       0.68333333 0.85       0.85\n",
            " 0.80555556 0.68333333 0.85       0.70833333 0.80277778        nan\n",
            "        nan        nan 0.85       0.65833333 0.85       0.85\n",
            " 0.85       0.70833333 0.70833333 0.70833333        nan 0.825\n",
            " 0.80277778 0.68333333 0.77777778 0.77777778 0.80555556 0.68333333\n",
            " 0.85       0.78055556 0.80277778 0.75555556        nan 0.82777778\n",
            " 0.85              nan 0.68333333 0.85              nan 0.85\n",
            " 0.73333333 0.825      0.825      0.68333333 0.70833333 0.85\n",
            " 0.85       0.80555556 0.825      0.80277778 0.80555556 0.78055556\n",
            " 0.75833333 0.68333333        nan 0.70833333 0.80277778 0.68333333\n",
            " 0.73333333 0.78055556 0.75833333        nan 0.82777778 0.78333333\n",
            "        nan 0.85       0.75833333 0.85       0.80555556 0.75833333\n",
            " 0.68333333 0.85              nan 0.68333333 0.85       0.85\n",
            " 0.85       0.75555556 0.68333333 0.70833333 0.68333333 0.82777778\n",
            " 0.82777778 0.85       0.85       0.85       0.85       0.825\n",
            "        nan 0.70555556 0.65833333 0.65833333 0.82777778 0.78333333\n",
            " 0.73333333 0.80555556 0.80555556 0.70833333 0.70833333 0.80277778\n",
            " 0.70833333 0.8               nan 0.68333333        nan        nan\n",
            " 0.85       0.825     ]\n",
            "  warnings.warn(\n",
            "/usr/local/lib/python3.8/dist-packages/sklearn/model_selection/_search.py:969: UserWarning: One or more of the train scores are non-finite: [0.82253788 0.78011364 0.81041667 0.90814394 0.73768939 0.81647727\n",
            " 0.90833333        nan 0.8407197  0.95738636 0.8467803  0.79223485\n",
            " 0.89640152 0.82272727 0.91439394 0.79829545 0.88390152 0.95738636\n",
            " 1.                nan 0.87159091 0.89015152 0.87159091 0.81666667\n",
            " 0.79223485 0.89034091        nan 0.90852273 0.84734848        nan\n",
            " 0.82253788 0.83503788 0.96969697 0.82272727        nan 0.80435606\n",
            " 0.84715909        nan 0.84109848 0.81041667        nan 0.81041667\n",
            " 0.8657197         nan 0.79223485 1.         0.84734848 0.85340909\n",
            " 0.95719697 0.92083333        nan 0.85340909 0.88390152 0.90265152\n",
            " 0.91439394 0.87784091 0.90246212 0.95738636 0.8717803  0.81647727\n",
            " 0.87784091 0.81041667 0.89640152 1.         0.88390152 0.8780303\n",
            " 0.83484848 0.79223485 0.87784091 0.8719697  0.85965909 0.84109848\n",
            "        nan 0.95738636 0.79223485 0.81647727 0.87784091        nan\n",
            " 0.8469697  0.81647727        nan 0.80435606 0.95132576 0.81647727\n",
            " 0.96344697 0.78617424 0.8532197  0.82272727        nan 0.85965909\n",
            "        nan        nan 0.8657197  0.81647727 0.88996212 0.90833333\n",
            " 0.96363636 0.79829545 0.85965909 0.79829545 0.8469697         nan\n",
            "        nan        nan 0.8594697  0.80435606 0.88409091 0.89034091\n",
            " 0.8657197  0.80435606 0.82878788 0.80435606        nan 0.8657197\n",
            " 0.8532197  0.81647727 0.8657197  0.85965909 0.96969697 0.81041667\n",
            " 0.87784091 0.96969697 0.8532197  1.                nan 0.84734848\n",
            " 0.86590909        nan 0.79829545 0.89015152        nan 0.87784091\n",
            " 0.82253788 0.8717803  0.89034091 0.79829545 0.81041667 0.85965909\n",
            " 0.8592803  1.         0.85340909 0.8407197  0.96344697 1.\n",
            " 0.83465909 0.81041667        nan 0.74981061 0.85340909 0.81041667\n",
            " 0.83465909 0.98181818 0.82253788        nan 0.92689394 0.95132576\n",
            "        nan 0.8780303  1.         0.8657197  0.93257576 1.\n",
            " 0.79829545 0.85340909        nan 0.79223485 0.89015152 0.8655303\n",
            " 0.89015152 1.         0.79223485 0.78011364 0.80435606 0.92689394\n",
            " 0.84715909 0.85359848 0.8905303  0.93295455 0.8719697  0.85984848\n",
            "        nan 0.82272727 0.79829545 0.81041667 0.84715909 1.\n",
            " 0.82859848 0.92064394 0.92083333 0.81647727 0.81647727 0.8717803\n",
            " 0.79223485 0.87784091        nan 0.81647727        nan        nan\n",
            " 0.8717803  0.87159091]\n",
            "  warnings.warn(\n"
          ]
        },
        {
          "output_type": "execute_result",
          "data": {
            "text/plain": [
              "RandomizedSearchCV(cv=5, estimator=RandomForestClassifier(), n_iter=200,\n",
              "                   n_jobs=1,\n",
              "                   param_distributions={'max_depth': <scipy.stats._distn_infrastructure.rv_frozen object at 0x7f087617f520>,\n",
              "                                        'min_samples_leaf': <scipy.stats._distn_infrastructure.rv_frozen object at 0x7f087617fb20>,\n",
              "                                        'min_samples_split': <scipy.stats._distn_infrastructure.rv_frozen object at 0x7f08760e2370>,\n",
              "                                        'n_estimators': <scipy.stats._distn_infrastructure.rv_frozen object at 0x7f0876114f70>},\n",
              "                   return_train_score=True, verbose=1)"
            ]
          },
          "metadata": {},
          "execution_count": 6
        }
      ],
      "source": [
        "rf_model = RandomForestClassifier()\n",
        "\n",
        "params = {\n",
        "    \"n_estimators\": randint(75, 150),\n",
        "    \"max_depth\": randint(0, 10),\n",
        "    \"min_samples_leaf\": randint(0, 10), \n",
        "    \"min_samples_split\": randint(2, 5) \n",
        "}\n",
        "\n",
        "search = RandomizedSearchCV(rf_model, param_distributions=params, n_iter=200, cv=5, verbose=1, n_jobs=1, return_train_score=True)\n",
        "\n",
        "search.fit(X_train, y_train)"
      ]
    },
    {
      "cell_type": "code",
      "execution_count": null,
      "metadata": {
        "colab": {
          "base_uri": "https://localhost:8080/"
        },
        "id": "ZnUvFZngJBy8",
        "outputId": "0bcdf6ba-ad52-4f03-bf9e-a2132febd621"
      },
      "outputs": [
        {
          "data": {
            "text/plain": [
              "{'max_depth': 3,\n",
              " 'min_samples_leaf': 4,\n",
              " 'min_samples_split': 2,\n",
              " 'n_estimators': 84}"
            ]
          },
          "execution_count": 7,
          "metadata": {},
          "output_type": "execute_result"
        }
      ],
      "source": [
        "best = search.best_params_\n",
        "best"
      ]
    },
    {
      "cell_type": "code",
      "execution_count": null,
      "metadata": {
        "colab": {
          "base_uri": "https://localhost:8080/"
        },
        "id": "vs0VQjXZJLbG",
        "outputId": "d16c01b7-82a0-4436-af5e-df6f1e2f4f70"
      },
      "outputs": [
        {
          "output_type": "execute_result",
          "data": {
            "text/plain": [
              "array([1, 1, 1, 1, 1, 0, 0, 1, 0, 1, 1])"
            ]
          },
          "metadata": {},
          "execution_count": 8
        }
      ],
      "source": [
        "# fit a random forest classifier model to the training data using all predictors\n",
        "model_rf = RandomForestClassifier(n_estimators = best['n_estimators'], min_samples_leaf = best['min_samples_leaf'], \n",
        "                                  min_samples_split = best['min_samples_split'], max_depth = best['max_depth'])\n",
        "model_rf.fit(X_train, y_train)\n",
        "\n",
        "# predict for the test data\n",
        "pred_rf = model_rf.predict(X_test)\n",
        "pred_rf"
      ]
    },
    {
      "cell_type": "code",
      "execution_count": null,
      "metadata": {
        "colab": {
          "base_uri": "https://localhost:8080/",
          "height": 279
        },
        "id": "WKGRCjCEJpGQ",
        "outputId": "20b4137d-15d1-40fc-ef51-81418685ff2a"
      },
      "outputs": [
        {
          "output_type": "display_data",
          "data": {
            "text/plain": [
              "<Figure size 432x288 with 1 Axes>"
            ],
            "image/png": "[encoded data removed]"
          },
          "metadata": {}
        }
      ],
      "source": [
        "# show the confusion matrix to visualize the errors\n",
        "mat_rf = confusion_matrix(y_test, pred_rf)\n",
        "\n",
        "class_names = ['All Utilized', 'Not All Utilized']\n",
        "sns.heatmap(mat_rf.T, square=True, annot=True, cbar=False, xticklabels=class_names, yticklabels=class_names)\n",
        "plt.xlabel('true label')\n",
        "plt.ylabel('predicted label');"
      ]
    },
    {
      "cell_type": "code",
      "execution_count": null,
      "metadata": {
        "colab": {
          "base_uri": "https://localhost:8080/",
          "height": 380
        },
        "id": "XVF-rznuJ1Tf",
        "outputId": "23c7cf6e-7b59-40cd-fc86-7b724e00616d"
      },
      "outputs": [
        {
          "output_type": "execute_result",
          "data": {
            "text/plain": [
              "<graphviz.files.Source at 0x7f0875f48280>"
            ],
            "image/svg+xml": "<?xml version=\"1.0\" encoding=\"UTF-8\" standalone=\"no\"?>\n<!DOCTYPE svg PUBLIC \"-//W3C//DTD SVG 1.1//EN\"\n \"http://www.w3.org/Graphics/SVG/1.1/DTD/svg11.dtd\">\n<!-- Generated by graphviz version 2.40.1 (20161225.0304)\n -->\n<!-- Title: Tree Pages: 1 -->\n<svg width=\"297pt\" height=\"269pt\"\n viewBox=\"0.00 0.00 297.00 269.00\" xmlns=\"http://www.w3.org/2000/svg\" xmlns:xlink=\"http://www.w3.org/1999/xlink\">\n<g id=\"graph0\" class=\"graph\" transform=\"scale(1 1) rotate(0) translate(4 265)\">\n<title>Tree</title>\n<polygon fill=\"#ffffff\" stroke=\"transparent\" points=\"-4,4 -4,-265 293,-265 293,4 -4,4\"/>\n<!-- 0 -->\n<g id=\"node1\" class=\"node\">\n<title>0</title>\n<polygon fill=\"none\" stroke=\"#000000\" points=\"186,-261 49,-261 49,-193 186,-193 186,-261\"/>\n<text text-anchor=\"middle\" x=\"117.5\" y=\"-245.8\" font-family=\"Helvetica,sans-Serif\" font-size=\"14.00\" fill=\"#000000\">vpdmax &lt;= 14.429</text>\n<text text-anchor=\"middle\" x=\"117.5\" y=\"-230.8\" font-family=\"Helvetica,sans-Serif\" font-size=\"14.00\" fill=\"#000000\">gini = 0.369</text>\n<text text-anchor=\"middle\" x=\"117.5\" y=\"-215.8\" font-family=\"Helvetica,sans-Serif\" font-size=\"14.00\" fill=\"#000000\">samples = 28</text>\n<text text-anchor=\"middle\" x=\"117.5\" y=\"-200.8\" font-family=\"Helvetica,sans-Serif\" font-size=\"14.00\" fill=\"#000000\">value = [10, 31]</text>\n</g>\n<!-- 1 -->\n<g id=\"node2\" class=\"node\">\n<title>1</title>\n<polygon fill=\"none\" stroke=\"#000000\" points=\"107,-149.5 0,-149.5 0,-96.5 107,-96.5 107,-149.5\"/>\n<text text-anchor=\"middle\" x=\"53.5\" y=\"-134.3\" font-family=\"Helvetica,sans-Serif\" font-size=\"14.00\" fill=\"#000000\">gini = 0.0</text>\n<text text-anchor=\"middle\" x=\"53.5\" y=\"-119.3\" font-family=\"Helvetica,sans-Serif\" font-size=\"14.00\" fill=\"#000000\">samples = 16</text>\n<text text-anchor=\"middle\" x=\"53.5\" y=\"-104.3\" font-family=\"Helvetica,sans-Serif\" font-size=\"14.00\" fill=\"#000000\">value = [0, 23]</text>\n</g>\n<!-- 0&#45;&gt;1 -->\n<g id=\"edge1\" class=\"edge\">\n<title>0&#45;&gt;1</title>\n<path fill=\"none\" stroke=\"#000000\" d=\"M96.544,-192.9465C89.6978,-181.8215 82.0829,-169.4473 75.1843,-158.237\"/>\n<polygon fill=\"#000000\" stroke=\"#000000\" points=\"78.0555,-156.2244 69.8336,-149.5422 72.0939,-159.8931 78.0555,-156.2244\"/>\n<text text-anchor=\"middle\" x=\"64.0431\" y=\"-170.1623\" font-family=\"Helvetica,sans-Serif\" font-size=\"14.00\" fill=\"#000000\">True</text>\n</g>\n<!-- 2 -->\n<g id=\"node3\" class=\"node\">\n<title>2</title>\n<polygon fill=\"none\" stroke=\"#000000\" points=\"238,-157 125,-157 125,-89 238,-89 238,-157\"/>\n<text text-anchor=\"middle\" x=\"181.5\" y=\"-141.8\" font-family=\"Helvetica,sans-Serif\" font-size=\"14.00\" fill=\"#000000\">tmin &lt;= 37.939</text>\n<text text-anchor=\"middle\" x=\"181.5\" y=\"-126.8\" font-family=\"Helvetica,sans-Serif\" font-size=\"14.00\" fill=\"#000000\">gini = 0.494</text>\n<text text-anchor=\"middle\" x=\"181.5\" y=\"-111.8\" font-family=\"Helvetica,sans-Serif\" font-size=\"14.00\" fill=\"#000000\">samples = 12</text>\n<text text-anchor=\"middle\" x=\"181.5\" y=\"-96.8\" font-family=\"Helvetica,sans-Serif\" font-size=\"14.00\" fill=\"#000000\">value = [10, 8]</text>\n</g>\n<!-- 0&#45;&gt;2 -->\n<g id=\"edge2\" class=\"edge\">\n<title>0&#45;&gt;2</title>\n<path fill=\"none\" stroke=\"#000000\" d=\"M138.456,-192.9465C143.8155,-184.2373 149.6461,-174.7626 155.2353,-165.6801\"/>\n<polygon fill=\"#000000\" stroke=\"#000000\" points=\"158.2367,-167.481 160.4969,-157.13 152.2751,-163.8122 158.2367,-167.481\"/>\n<text text-anchor=\"middle\" x=\"166.2874\" y=\"-177.7502\" font-family=\"Helvetica,sans-Serif\" font-size=\"14.00\" fill=\"#000000\">False</text>\n</g>\n<!-- 3 -->\n<g id=\"node4\" class=\"node\">\n<title>3</title>\n<polygon fill=\"none\" stroke=\"#000000\" points=\"172,-53 73,-53 73,0 172,0 172,-53\"/>\n<text text-anchor=\"middle\" x=\"122.5\" y=\"-37.8\" font-family=\"Helvetica,sans-Serif\" font-size=\"14.00\" fill=\"#000000\">gini = 0.444</text>\n<text text-anchor=\"middle\" x=\"122.5\" y=\"-22.8\" font-family=\"Helvetica,sans-Serif\" font-size=\"14.00\" fill=\"#000000\">samples = 7</text>\n<text text-anchor=\"middle\" x=\"122.5\" y=\"-7.8\" font-family=\"Helvetica,sans-Serif\" font-size=\"14.00\" fill=\"#000000\">value = [4, 8]</text>\n</g>\n<!-- 2&#45;&gt;3 -->\n<g id=\"edge3\" class=\"edge\">\n<title>2&#45;&gt;3</title>\n<path fill=\"none\" stroke=\"#000000\" d=\"M160.6988,-88.9777C155.3242,-80.187 149.5265,-70.7044 144.1115,-61.8477\"/>\n<polygon fill=\"#000000\" stroke=\"#000000\" points=\"147.0564,-59.9545 138.854,-53.2485 141.0842,-63.6059 147.0564,-59.9545\"/>\n</g>\n<!-- 4 -->\n<g id=\"node5\" class=\"node\">\n<title>4</title>\n<polygon fill=\"none\" stroke=\"#000000\" points=\"289,-53 190,-53 190,0 289,0 289,-53\"/>\n<text text-anchor=\"middle\" x=\"239.5\" y=\"-37.8\" font-family=\"Helvetica,sans-Serif\" font-size=\"14.00\" fill=\"#000000\">gini = 0.0</text>\n<text text-anchor=\"middle\" x=\"239.5\" y=\"-22.8\" font-family=\"Helvetica,sans-Serif\" font-size=\"14.00\" fill=\"#000000\">samples = 5</text>\n<text text-anchor=\"middle\" x=\"239.5\" y=\"-7.8\" font-family=\"Helvetica,sans-Serif\" font-size=\"14.00\" fill=\"#000000\">value = [6, 0]</text>\n</g>\n<!-- 2&#45;&gt;4 -->\n<g id=\"edge4\" class=\"edge\">\n<title>2&#45;&gt;4</title>\n<path fill=\"none\" stroke=\"#000000\" d=\"M201.9486,-88.9777C207.2322,-80.187 212.9316,-70.7044 218.2548,-61.8477\"/>\n<polygon fill=\"#000000\" stroke=\"#000000\" points=\"221.2715,-63.6225 223.4232,-53.2485 215.2718,-60.0165 221.2715,-63.6225\"/>\n</g>\n</g>\n</svg>\n"
          },
          "metadata": {},
          "execution_count": 10
        }
      ],
      "source": [
        "# plot some of the tree components\n",
        "tree_data = tree.export_graphviz(model_rf.estimators_[0], out_file=None, feature_names=X.columns) \n",
        "graph = graphviz.Source(tree_data) \n",
        "graph"
      ]
    },
    {
      "cell_type": "code",
      "execution_count": null,
      "metadata": {
        "colab": {
          "base_uri": "https://localhost:8080/",
          "height": 941
        },
        "id": "pLkPZpwJJ7if",
        "outputId": "e87aedfa-89f1-4aef-c184-c2ffdec3faa4"
      },
      "outputs": [
        {
          "output_type": "display_data",
          "data": {
            "text/plain": [
              "<Figure size 576x1152 with 1 Axes>"
            ],
            "image/png": "[encoded data removed]"
          },
          "metadata": {}
        }
      ],
      "source": [
        "# plot the variable importances for the random forest model\n",
        "(pd.DataFrame(dict(cols=X_train.columns, imp=model_rf.feature_importances_)).\n",
        " sort_values(by = 'imp').\n",
        " plot('cols', 'imp', 'barh', legend = False, figsize = (8,16)))\n",
        "\n",
        "plt.ylabel('')\n",
        "plt.xlabel('Variable importance', fontsize = 15)\n",
        "\n",
        "plt.tick_params(labelsize = 14);"
      ]
    },
    {
      "cell_type": "markdown",
      "metadata": {
        "id": "ojbYzaQyLwbS"
      },
      "source": [
        "### Logistic regression for most important variables in the random forest"
      ]
    },
    {
      "cell_type": "code",
      "execution_count": null,
      "metadata": {
        "colab": {
          "base_uri": "https://localhost:8080/"
        },
        "id": "q1-LzkRLLxOE",
        "outputId": "3cf57ea5-43fc-4296-b7c6-c1e9819b8dff"
      },
      "outputs": [
        {
          "output_type": "stream",
          "name": "stdout",
          "text": [
            "Optimization terminated successfully.\n",
            "         Current function value: 0.319314\n",
            "         Iterations 8\n",
            "                           Logit Regression Results                           \n",
            "==============================================================================\n",
            "Dep. Variable:           all_utilized   No. Observations:                   41\n",
            "Model:                          Logit   Df Residuals:                       37\n",
            "Method:                           MLE   Df Model:                            3\n",
            "Date:                Mon, 05 Dec 2022   Pseudo R-squ.:                  0.4718\n",
            "Time:                        23:18:52   Log-Likelihood:                -13.092\n",
            "converged:                       True   LL-Null:                       -24.786\n",
            "Covariance Type:            nonrobust   LLR p-value:                 3.352e-05\n",
            "==============================================================================\n",
            "                 coef    std err          z      P>|z|      [0.025      0.975]\n",
            "------------------------------------------------------------------------------\n",
            "const         -2.0341     30.984     -0.066      0.948     -62.761      58.693\n",
            "tmin          -3.5587      1.365     -2.607      0.009      -6.234      -0.883\n",
            "tmax           3.2171      1.369      2.349      0.019       0.533       5.901\n",
            "vpddiff       -4.4458      1.658     -2.682      0.007      -7.695      -1.197\n",
            "==============================================================================\n"
          ]
        },
        {
          "output_type": "stream",
          "name": "stderr",
          "text": [
            "/usr/local/lib/python3.8/dist-packages/statsmodels/tsa/tsatools.py:142: FutureWarning: In a future version of pandas all arguments of concat except for the argument 'objs' will be keyword-only\n",
            "  x = pd.concat(x[::order], 1)\n"
          ]
        }
      ],
      "source": [
        "# top three\n",
        "X_train2 = X_train.loc[:, model_rf.feature_importances_ >= np.sort(model_rf.feature_importances_)[-3]]\n",
        "X_test2 = X_test.loc[:, model_rf.feature_importances_ >= np.sort(model_rf.feature_importances_)[-3]]\n",
        "\n",
        "log_reg3 = sm.Logit(y_train, sm.add_constant(X_train2)).fit()\n",
        "print(log_reg3.summary())"
      ]
    },
    {
      "cell_type": "code",
      "execution_count": null,
      "metadata": {
        "colab": {
          "base_uri": "https://localhost:8080/",
          "height": 335
        },
        "id": "-6PHnbT2RPCI",
        "outputId": "cea3b819-fbe6-47d8-a90e-f932d05fc05c"
      },
      "outputs": [
        {
          "output_type": "stream",
          "name": "stderr",
          "text": [
            "/usr/local/lib/python3.8/dist-packages/statsmodels/tsa/tsatools.py:142: FutureWarning: In a future version of pandas all arguments of concat except for the argument 'objs' will be keyword-only\n",
            "  x = pd.concat(x[::order], 1)\n"
          ]
        },
        {
          "output_type": "display_data",
          "data": {
            "text/plain": [
              "<Figure size 432x288 with 1 Axes>"
            ],
            "image/png": "[encoded data removed]"
          },
          "metadata": {}
        }
      ],
      "source": [
        "# evaluate the model accuracy\n",
        "prob_pred3 = log_reg3.predict(sm.add_constant(X_test2))\n",
        "pred3 = prob_pred3.round()\n",
        "mat3 = confusion_matrix(y_test, pred3)\n",
        "sns.heatmap(mat3.T, square=True, annot=True, cbar=False, xticklabels=class_names, yticklabels=class_names)\n",
        "plt.xlabel('true label')\n",
        "plt.ylabel('predicted label');"
      ]
    },
    {
      "cell_type": "code",
      "execution_count": null,
      "metadata": {
        "colab": {
          "base_uri": "https://localhost:8080/"
        },
        "id": "1_rednIsRoNg",
        "outputId": "1b48c9b7-b87e-441e-97d9-7eb2f82aa8c3"
      },
      "outputs": [
        {
          "data": {
            "text/plain": [
              "0.8181818181818182"
            ]
          },
          "execution_count": 14,
          "metadata": {},
          "output_type": "execute_result"
        }
      ],
      "source": [
        "# accuracy\n",
        "np.sum(np.diag(mat3))/np.sum(mat3)\n",
        "\n",
        "# specificity\n"
      ]
    }
  ],
  "metadata": {
    "colab": {
      "provenance": [],
      "collapsed_sections": [
        "QA6u0RdBHfoP",
        "Oaur47OCH9MA"
      ]
    },
    "kernelspec": {
      "display_name": "Python 3",
      "name": "python3"
    },
    "language_info": {
      "name": "python"
    }
  },
  "nbformat": 4,
  "nbformat_minor": 0
}